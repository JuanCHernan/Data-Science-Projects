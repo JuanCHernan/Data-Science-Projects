{
 "cells": [
  {
   "cell_type": "markdown",
   "metadata": {},
   "source": [
    "# Prueba Técnica Arkon"
   ]
  },
  {
   "cell_type": "markdown",
   "metadata": {},
   "source": [
    "Autor: Juan Carlos Hernández Rangel<br>\n",
    "Desarrollo: 30-noviembre-2022"
   ]
  },
  {
   "cell_type": "markdown",
   "metadata": {},
   "source": [
    "## Problema"
   ]
  },
  {
   "cell_type": "markdown",
   "metadata": {},
   "source": [
    "En Los Ángeles existe un sistema compartido de bicicletas que brinda datos anónimos acerca\n",
    "del uso del servicio. La tabla que se proporciona contiene el histórico de viajes que se han\n",
    "realizado desde 2016 y contiene una columna que es de particular interés y que se buscará\n",
    "analizar a más profundidad: Passholder_type. "
   ]
  },
  {
   "cell_type": "markdown",
   "metadata": {},
   "source": [
    "## Metodología"
   ]
  },
  {
   "cell_type": "markdown",
   "metadata": {},
   "source": [
    "### Funciones"
   ]
  },
  {
   "cell_type": "code",
   "execution_count": 1,
   "metadata": {},
   "outputs": [],
   "source": [
    "def f_rango_intercuartil(valores):\n",
    "    Q1 = valores.quantile(0.25)\n",
    "    Q3 = valores.quantile(0.75)\n",
    "    IQR = Q3 - Q1\n",
    "    limite_superior = Q3 + 1.5*IQR\n",
    "    limite_inferior = Q1 - 1.5*IQR\n",
    "    return (limite_inferior, limite_superior)\n",
    "\n",
    "def f_z_score(valores):\n",
    "    return np.abs(zscore(valores))\n",
    "\n",
    "def f_limites_z_score(valores, umbral):\n",
    "    upper_boundary = valores.mean() + umbral * valores.std()\n",
    "    lower_boundary = valores.mean() - umbral * valores.std()\n",
    "    return lower_boundary, upper_boundary\n",
    "\n",
    "def f_capping(limite_inferior, limite_superior, valores):\n",
    "    return np.where(\n",
    "                    valores > limite_superior, \n",
    "                    limite_superior, \n",
    "                    np.where(\n",
    "                            valores < limite_inferior,\n",
    "                            limite_inferior,\n",
    "                            valores))\n",
    "\n",
    "def generar_estadisticas_basicas(serie):\n",
    "    '''\n",
    "    Función para obtener estadísticas básicas de la serie\n",
    "    '''\n",
    "    sesgo = skew(serie)\n",
    "    kurto = kurtosis(serie)\n",
    "    estadisticas_basicas = pd.DataFrame(serie.describe())\n",
    "    estadisticas_basicas.loc[\"skew\"] = sesgo\n",
    "    estadisticas_basicas.loc[\"kurtosis\"] = kurto\n",
    "    return estadisticas_basicas"
   ]
  },
  {
   "cell_type": "markdown",
   "metadata": {},
   "source": [
    "### Importar librerías"
   ]
  },
  {
   "cell_type": "code",
   "execution_count": null,
   "metadata": {},
   "outputs": [],
   "source": [
    "import os\n",
    "import numpy as np\n",
    "import pandas as pd\n",
    "import matplotlib.pyplot as plt\n",
    "import seaborn as sns\n",
    "\n",
    "from feature_engine import transformation as vt\n",
    "from scipy.stats import zscore\n",
    "from scipy.stats import skew, kurtosis"
   ]
  },
  {
   "cell_type": "markdown",
   "metadata": {},
   "source": [
    "### Importar conjunto de datos"
   ]
  },
  {
   "cell_type": "code",
   "execution_count": null,
   "metadata": {},
   "outputs": [],
   "source": [
    "path_entrenamiento = '../Data/train_set.csv'\n",
    "dataFrame = pd.read_csv(path_entrenamiento, low_memory=False)"
   ]
  },
  {
   "cell_type": "code",
   "execution_count": null,
   "metadata": {},
   "outputs": [],
   "source": [
    "dataFrame.shape"
   ]
  },
  {
   "cell_type": "code",
   "execution_count": null,
   "metadata": {},
   "outputs": [],
   "source": [
    "dataFrame.head(3)"
   ]
  },
  {
   "cell_type": "markdown",
   "metadata": {},
   "source": [
    "### Feature Engineering"
   ]
  },
  {
   "cell_type": "markdown",
   "metadata": {},
   "source": [
    "#### Variables a Eliminar"
   ]
  },
  {
   "cell_type": "markdown",
   "metadata": {},
   "source": [
    "Datos los análisis previos (notebook 01), podemos eliminar algunas variables que no son necesarias.\n",
    "1. Trip ID: Es solo un identificador.\n",
    "2. Bike ID: Es solo un identificador.\n",
    "3. Start time: El formato nos da complicaciones, es por ello que creamos más variables a partir de sus componentes como año, mes, dia, hora y minuto.\n",
    "4. End time: El formato nos da complicaciones, es por ello que creamos más variables a partir de sus componentes como año, mes, dia, hora y minuto.\n",
    "5. Start Station: Esta información ya viene implicita en el \"Start Lat\" y \"Start Lon\". Además, estaciones diferentes comparten valores. Por otro lado, usarla como variable nos traería problemas de dimensionalidad. En total son 364 estaciones.\n",
    "6. End Station: Esta información ya viene implicita en el \"End Lat\" y \"End Lon\". Además, estaciones diferentes comparten valores. Por otro lado, usarla como variable nos traería problemas de dimensionalidad. En total son 364 estaciones.\n",
    "7. Plan Duration: No se encuentra en el conjunto de prueba"
   ]
  },
  {
   "cell_type": "markdown",
   "metadata": {},
   "source": [
    "Tampoco contemplaremos el día, mes y año del final del viaje, esto porque se dan en los mismos valores que el inicio del viaje. Contemplarlos significaría tener variables altamente correlacionadas"
   ]
  },
  {
   "cell_type": "code",
   "execution_count": null,
   "metadata": {},
   "outputs": [],
   "source": [
    "dataFrame[\"start_time\"] = pd.to_datetime(dataFrame[\"start_time\"], infer_datetime_format=True)\n",
    "dataFrame[\"end_time\"] = pd.to_datetime(dataFrame[\"end_time\"], infer_datetime_format=True)\n",
    "\n",
    "dataFrame[\"start_time_day\"] = dataFrame[\"start_time\"].dt.day\n",
    "dataFrame[\"start_time_month\"] = dataFrame[\"start_time\"].dt.month\n",
    "dataFrame[\"start_time_year\"] = dataFrame[\"start_time\"].dt.year\n",
    "dataFrame[\"start_time_hour\"] = dataFrame[\"start_time\"].dt.hour\n",
    "dataFrame[\"start_time_minute\"] = dataFrame[\"start_time\"].dt.minute\n",
    "\n",
    "dataFrame[\"end_time_hour\"] = dataFrame[\"end_time\"].dt.hour\n",
    "dataFrame[\"end_time_minute\"] = dataFrame[\"end_time\"].dt.minute"
   ]
  },
  {
   "cell_type": "code",
   "execution_count": null,
   "metadata": {},
   "outputs": [],
   "source": [
    "variables_no_necesarias = [\n",
    "    \"trip_id\",\n",
    "    \"bike_id\",\n",
    "    \"start_time\",\n",
    "    \"end_time\",\n",
    "    \"start_station\",\n",
    "    \"end_station\",\n",
    "    \"plan_duration\"\n",
    "]\n",
    "\n",
    "dataFrame_Clean = dataFrame.drop(variables_no_necesarias, axis=1)\n",
    "dataFrame_Clean.shape"
   ]
  },
  {
   "cell_type": "code",
   "execution_count": null,
   "metadata": {},
   "outputs": [],
   "source": [
    "dataFrame_Clean.head(2)"
   ]
  },
  {
   "cell_type": "markdown",
   "metadata": {},
   "source": [
    "#### Duration"
   ]
  },
  {
   "cell_type": "code",
   "execution_count": null,
   "metadata": {},
   "outputs": [],
   "source": [
    "fig, axes = plt.subplots(2, 1, figsize=(10, 6), tight_layout=True, gridspec_kw={'height_ratios':[0.6, 1.4]})\n",
    "sns.boxplot(x=dataFrame_Clean[\"duration\"], color='red', ax=axes[0])\n",
    "sns.histplot(x=dataFrame_Clean[\"duration\"], stat=\"probability\", color='red', ax=axes[1])\n",
    "\n",
    "axes[0].set_xlabel(\"Duracion en Minutos\")\n",
    "axes[1].set_xlabel(\"Duracion en Minutos\");"
   ]
  },
  {
   "cell_type": "code",
   "execution_count": null,
   "metadata": {},
   "outputs": [],
   "source": [
    "tf_YJ = vt.YeoJohnsonTransformer(variables=[\"duration\"])\n",
    "dataFrame_Clean = tf_YJ.fit_transform(dataFrame_Clean)"
   ]
  },
  {
   "cell_type": "code",
   "execution_count": null,
   "metadata": {},
   "outputs": [],
   "source": [
    "fig, axes = plt.subplots(2, 1, figsize=(10, 6), tight_layout=True, gridspec_kw={'height_ratios':[0.6, 1.4]})\n",
    "flatten_axes = axes.flatten()\n",
    "sns.boxplot(x=dataFrame_Clean[\"duration\"], color='red', ax=flatten_axes[0])\n",
    "sns.histplot(x=dataFrame_Clean[\"duration\"], stat=\"probability\", color='red', ax=flatten_axes[1])\n",
    "\n",
    "flatten_axes[0].set_xlabel(\"Duracion en Minutos\")\n",
    "flatten_axes[1].set_xlabel(\"Duracion en Minutos\");"
   ]
  },
  {
   "cell_type": "code",
   "execution_count": null,
   "metadata": {},
   "outputs": [],
   "source": [
    "plt.figure(figsize=(10, 5))\n",
    "sns.boxplot(data=dataFrame_Clean, x='duration', y='passholder_type', palette=\"Reds\");"
   ]
  },
  {
   "cell_type": "markdown",
   "metadata": {},
   "source": [
    "#### Start_lat | Start_lon | End_lat | End_lon"
   ]
  },
  {
   "cell_type": "markdown",
   "metadata": {},
   "source": [
    "Eliminar nulos podría resultar problemático y debatible. Pero después de eliminar estos registros mantenemos el __96%__ de los registros totales. Un 4% de pérdida no resultaría contundente para el total de información que tenemos."
   ]
  },
  {
   "cell_type": "code",
   "execution_count": null,
   "metadata": {},
   "outputs": [],
   "source": [
    "dataFrame_Clean = dataFrame_Clean.dropna()"
   ]
  },
  {
   "cell_type": "code",
   "execution_count": null,
   "metadata": {},
   "outputs": [],
   "source": [
    "fig, axes = plt.subplots(2, 2, figsize=(10, 6), tight_layout=True)\n",
    "flatten_axes = axes.flatten()\n",
    "sns.boxplot(x=dataFrame_Clean[\"start_lat\"], color='red', ax=flatten_axes[0])\n",
    "sns.boxplot(x=dataFrame_Clean[\"start_lon\"], color='red', ax=flatten_axes[1])\n",
    "sns.boxplot(x=dataFrame_Clean[\"end_lat\"], color='red', ax=flatten_axes[2])\n",
    "sns.boxplot(x=dataFrame_Clean[\"end_lon\"], color='red', ax=flatten_axes[3])\n",
    "\n",
    "flatten_axes[0].set_xlabel(\"Grados\")\n",
    "flatten_axes[1].set_xlabel(\"Grados\")\n",
    "flatten_axes[2].set_xlabel(\"Grados\")\n",
    "flatten_axes[3].set_xlabel(\"Grados\")\n",
    "\n",
    "flatten_axes[0].set_title(\"Latitud Inicial\", size=12)\n",
    "flatten_axes[1].set_title(\"Longitud Inicial\", size=12)\n",
    "flatten_axes[2].set_title(\"Latitud Final\", size=12)\n",
    "flatten_axes[3].set_title(\"Longitud Final\", size=12);"
   ]
  },
  {
   "cell_type": "code",
   "execution_count": null,
   "metadata": {},
   "outputs": [],
   "source": [
    "s_lat_l, s_lat_u = f_rango_intercuartil(dataFrame_Clean[\"start_lat\"])\n",
    "s_lon_l, s_lon_u = f_rango_intercuartil(dataFrame_Clean[\"start_lon\"])\n",
    "e_lat_l, e_lat_u = f_rango_intercuartil(dataFrame_Clean[\"end_lat\"])\n",
    "e_lon_l, e_lon_u = f_rango_intercuartil(dataFrame_Clean[\"end_lon\"])"
   ]
  },
  {
   "cell_type": "code",
   "execution_count": null,
   "metadata": {},
   "outputs": [],
   "source": [
    "data_capp_s_lat = f_capping(s_lat_l, s_lat_u, dataFrame_Clean[\"start_lat\"])\n",
    "data_capp_s_lon = f_capping(s_lon_l, s_lon_u, dataFrame_Clean[\"start_lon\"])\n",
    "data_capp_e_lat = f_capping(e_lat_l, e_lat_u, dataFrame_Clean[\"end_lat\"])\n",
    "data_capp_e_lon = f_capping(e_lon_l, e_lon_u, dataFrame_Clean[\"end_lon\"])"
   ]
  },
  {
   "cell_type": "code",
   "execution_count": null,
   "metadata": {},
   "outputs": [],
   "source": [
    "fig, axes = plt.subplots(2, 2, figsize=(10, 6), tight_layout=True)\n",
    "flatten_axes = axes.flatten()\n",
    "sns.boxplot(x=data_capp_s_lat, color='red', ax=flatten_axes[0])\n",
    "sns.boxplot(x=data_capp_s_lon, color='red', ax=flatten_axes[1])\n",
    "sns.boxplot(x=data_capp_e_lat, color='red', ax=flatten_axes[2])\n",
    "sns.boxplot(x=data_capp_e_lon, color='red', ax=flatten_axes[3])\n",
    "\n",
    "flatten_axes[0].set_xlabel(\"Grados\")\n",
    "flatten_axes[1].set_xlabel(\"Grados\")\n",
    "flatten_axes[2].set_xlabel(\"Grados\")\n",
    "flatten_axes[3].set_xlabel(\"Grados\")\n",
    "\n",
    "flatten_axes[0].set_title(\"Latitud Inicial después de Capping\", size=12)\n",
    "flatten_axes[1].set_title(\"Longitud Inicial después de Capping\", size=12)\n",
    "flatten_axes[2].set_title(\"Latitud Final después de Capping\", size=12)\n",
    "flatten_axes[3].set_title(\"Longitud Final después de Capping\", size=12);"
   ]
  },
  {
   "cell_type": "code",
   "execution_count": null,
   "metadata": {},
   "outputs": [],
   "source": [
    "dataFrame_Clean[\"start_lat\"] = data_capp_s_lat\n",
    "dataFrame_Clean[\"start_lon\"] = data_capp_s_lon\n",
    "dataFrame_Clean[\"end_lat\"] = data_capp_e_lat\n",
    "dataFrame_Clean[\"end_lon\"] = data_capp_e_lon"
   ]
  },
  {
   "cell_type": "code",
   "execution_count": null,
   "metadata": {},
   "outputs": [],
   "source": [
    "fig, axes = plt.subplots(2, 2, figsize=(13, 7), tight_layout=True)\n",
    "flatten_axes = axes.flatten()\n",
    "\n",
    "sns.boxplot(data=dataFrame_Clean, x='start_lat', y='passholder_type', palette=\"Reds\", ax=flatten_axes[0]);\n",
    "sns.boxplot(data=dataFrame_Clean, x='start_lon', y='passholder_type', palette=\"Reds\", ax=flatten_axes[1]);\n",
    "sns.boxplot(data=dataFrame_Clean, x='end_lat', y='passholder_type', palette=\"Reds\", ax=flatten_axes[2]);\n",
    "sns.boxplot(data=dataFrame_Clean, x='end_lon', y='passholder_type', palette=\"Reds\", ax=flatten_axes[3]);\n",
    "\n",
    "flatten_axes[0].set_xlabel(\"Grados\")\n",
    "flatten_axes[1].set_xlabel(\"Grados\")\n",
    "flatten_axes[2].set_xlabel(\"Grados\")\n",
    "flatten_axes[3].set_xlabel(\"Grados\")\n",
    "\n",
    "flatten_axes[0].set_title(\"Latitud Inicial después de Capping\", size=12)\n",
    "flatten_axes[1].set_title(\"Longitud Inicial después de Capping\", size=12)\n",
    "flatten_axes[2].set_title(\"Latitud Final después de Capping\", size=12)\n",
    "flatten_axes[3].set_title(\"Longitud Final después de Capping\", size=12);"
   ]
  },
  {
   "cell_type": "markdown",
   "metadata": {},
   "source": [
    "#### passholder_type"
   ]
  },
  {
   "cell_type": "code",
   "execution_count": null,
   "metadata": {},
   "outputs": [],
   "source": [
    "total_datos_pass = pd.DataFrame(dataFrame_Clean[\"passholder_type\"].value_counts())\n",
    "total_porce_pass = pd.DataFrame(dataFrame_Clean[\"passholder_type\"].value_counts(normalize=True)*100)\n",
    "total_data_pass = pd.concat([total_datos_pass, total_porce_pass], axis=1)\n",
    "total_data_pass"
   ]
  },
  {
   "cell_type": "markdown",
   "metadata": {},
   "source": [
    "Existe la clase __\"Testing\"__, la cual, dudo que este entre el conjunto de clases con las que normalmente se trabaja. Contemplarla nos traería algunos problemas, dado que hay valores que son específicos de esa clase, como en __plan duration__ que se tiene el valor de \"999\", además, es una clase con muy pocos registros. Después de eliminar valores nulos, la clase __\"Testing\"__ no representa ni el 1%."
   ]
  },
  {
   "cell_type": "code",
   "execution_count": null,
   "metadata": {},
   "outputs": [],
   "source": [
    "dataFrame_Clean = dataFrame_Clean[dataFrame_Clean[\"passholder_type\"] != \"Testing\"]"
   ]
  },
  {
   "cell_type": "code",
   "execution_count": null,
   "metadata": {},
   "outputs": [],
   "source": [
    "mapeo_passholder_type = {\n",
    "    'Walk-up': 0,\n",
    "    'Monthly Pass': 1,\n",
    "    'One Day Pass': 2,\n",
    "    'Annual Pass': 3,\n",
    "    'Flex Pass': 4\n",
    "}\n",
    "dataFrame_Clean[\"passholder_type\"] = dataFrame_Clean[\"passholder_type\"].map(mapeo_passholder_type)"
   ]
  },
  {
   "cell_type": "markdown",
   "metadata": {},
   "source": [
    "#### Plan Duration"
   ]
  },
  {
   "cell_type": "raw",
   "metadata": {},
   "source": [
    "fig, axes = plt.subplots(2, 1, figsize=(10, 6), tight_layout=True, gridspec_kw={'height_ratios':[0.6, 1.4]})\n",
    "sns.boxplot(x=dataFrame_Clean[\"plan_duration\"], color='red', ax=axes[0])\n",
    "sns.histplot(x=dataFrame_Clean[\"plan_duration\"], color='red', ax=axes[1]);"
   ]
  },
  {
   "cell_type": "raw",
   "metadata": {},
   "source": [
    "tf_YJ_2 = vt.YeoJohnsonTransformer(variables=[\"plan_duration\"])\n",
    "d2 = tf_YJ_2.fit_transform(dataFrame_Clean)"
   ]
  },
  {
   "cell_type": "raw",
   "metadata": {},
   "source": [
    "fig, axes = plt.subplots(2, 1, figsize=(10, 6), tight_layout=True, gridspec_kw={'height_ratios':[0.6, 1.4]})\n",
    "sns.boxplot(x=d2[\"plan_duration\"], color='red', ax=axes[0])\n",
    "sns.histplot(x=d2[\"plan_duration\"], color='red', ax=axes[1]);"
   ]
  },
  {
   "cell_type": "raw",
   "metadata": {},
   "source": [
    "generar_estadisticas_basicas(dataFrame_Clean[\"plan_duration\"])"
   ]
  },
  {
   "cell_type": "markdown",
   "metadata": {},
   "source": [
    "#### Trip Route Category"
   ]
  },
  {
   "cell_type": "code",
   "execution_count": null,
   "metadata": {},
   "outputs": [],
   "source": [
    "total_datos_route = pd.DataFrame(dataFrame_Clean[\"trip_route_category\"].value_counts())\n",
    "total_porce_route = pd.DataFrame(dataFrame_Clean[\"trip_route_category\"].value_counts(normalize=True)*100)\n",
    "total_data_route = pd.concat([total_datos_route, total_porce_route], axis=1)\n",
    "total_data_route"
   ]
  },
  {
   "cell_type": "code",
   "execution_count": null,
   "metadata": {},
   "outputs": [],
   "source": [
    "mapeo_trip_route_category = {\n",
    "    \"Round Trip\": 0,\n",
    "    \"One Way\": 1\n",
    "}\n",
    "dataFrame_Clean[\"trip_route_category\"] = dataFrame_Clean[\"trip_route_category\"].map(mapeo_trip_route_category)"
   ]
  },
  {
   "cell_type": "markdown",
   "metadata": {},
   "source": [
    "### Exportar Datos"
   ]
  },
  {
   "cell_type": "code",
   "execution_count": null,
   "metadata": {},
   "outputs": [],
   "source": [
    "dataFrame_Clean.to_csv(\"../Data/Train_Data_Clean.csv\", index=False)"
   ]
  }
 ],
 "metadata": {
  "kernelspec": {
   "display_name": "Python 3",
   "language": "python",
   "name": "python3"
  },
  "language_info": {
   "codemirror_mode": {
    "name": "ipython",
    "version": 3
   },
   "file_extension": ".py",
   "mimetype": "text/x-python",
   "name": "python",
   "nbconvert_exporter": "python",
   "pygments_lexer": "ipython3",
   "version": "3.8.5"
  }
 },
 "nbformat": 4,
 "nbformat_minor": 4
}
