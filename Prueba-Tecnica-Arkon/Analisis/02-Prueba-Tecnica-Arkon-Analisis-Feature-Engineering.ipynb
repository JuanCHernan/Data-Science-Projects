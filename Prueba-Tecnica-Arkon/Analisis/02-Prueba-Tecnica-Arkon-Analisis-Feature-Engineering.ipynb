{
 "cells": [
  {
   "cell_type": "markdown",
   "metadata": {},
   "source": [
    "# Prueba Técnica Arkon"
   ]
  },
  {
   "cell_type": "markdown",
   "metadata": {},
   "source": [
    "Autor: Juan Carlos Hernández Rangel<br>\n",
    "Desarrollo: 30-noviembre-2022"
   ]
  },
  {
   "cell_type": "markdown",
   "metadata": {},
   "source": [
    "## Problema"
   ]
  },
  {
   "cell_type": "markdown",
   "metadata": {},
   "source": [
    "En Los Ángeles existe un sistema compartido de bicicletas que brinda datos anónimos acerca\n",
    "del uso del servicio. La tabla que se proporciona contiene el histórico de viajes que se han\n",
    "realizado desde 2016 y contiene una columna que es de particular interés y que se buscará\n",
    "analizar a más profundidad: Passholder_type. "
   ]
  },
  {
   "cell_type": "markdown",
   "metadata": {},
   "source": [
    "## Metodología"
   ]
  },
  {
   "cell_type": "markdown",
   "metadata": {},
   "source": [
    "### Funciones"
   ]
  },
  {
   "cell_type": "code",
   "execution_count": 1,
   "metadata": {},
   "outputs": [],
   "source": [
    "def f_rango_intercuartil(valores):\n",
    "    Q1 = valores.quantile(0.25)\n",
    "    Q3 = valores.quantile(0.75)\n",
    "    IQR = Q3 - Q1\n",
    "    limite_superior = Q3 + 1.5*IQR\n",
    "    limite_inferior = Q1 - 1.5*IQR\n",
    "    return (limite_inferior, limite_superior)\n",
    "\n",
    "def f_z_score(valores):\n",
    "    return np.abs(zscore(valores))\n",
    "\n",
    "def f_limites_z_score(valores, umbral):\n",
    "    upper_boundary = valores.mean() + umbral * valores.std()\n",
    "    lower_boundary = valores.mean() - umbral * valores.std()\n",
    "    return lower_boundary, upper_boundary\n",
    "\n",
    "def f_capping(limite_inferior, limite_superior, valores):\n",
    "    return np.where(\n",
    "                    valores > limite_superior, \n",
    "                    limite_superior, \n",
    "                    np.where(\n",
    "                            valores < limite_inferior,\n",
    "                            limite_inferior,\n",
    "                            valores))\n",
    "\n",
    "def generar_estadisticas_basicas(serie):\n",
    "    '''\n",
    "    Función para obtener estadísticas básicas de la serie\n",
    "    '''\n",
    "    sesgo = skew(serie)\n",
    "    kurto = kurtosis(serie)\n",
    "    estadisticas_basicas = pd.DataFrame(serie.describe())\n",
    "    estadisticas_basicas.loc[\"skew\"] = sesgo\n",
    "    estadisticas_basicas.loc[\"kurtosis\"] = kurto\n",
    "    return estadisticas_basicas"
   ]
  },
  {
   "cell_type": "markdown",
   "metadata": {},
   "source": [
    "### Importar librerías"
   ]
  },
  {
   "cell_type": "code",
   "execution_count": 2,
   "metadata": {},
   "outputs": [],
   "source": [
    "import os\n",
    "import numpy as np\n",
    "import pandas as pd\n",
    "import matplotlib.pyplot as plt\n",
    "import seaborn as sns\n",
    "\n",
    "from feature_engine import transformation as vt\n",
    "from scipy.stats import zscore\n",
    "from scipy.stats import skew, kurtosis"
   ]
  },
  {
   "cell_type": "markdown",
   "metadata": {},
   "source": [
    "### Importar conjunto de datos"
   ]
  },
  {
   "cell_type": "code",
   "execution_count": 3,
   "metadata": {},
   "outputs": [],
   "source": [
    "path_entrenamiento = '../Data/train_set.csv'\n",
    "dataFrame = pd.read_csv(path_entrenamiento, low_memory=False)"
   ]
  },
  {
   "cell_type": "code",
   "execution_count": 4,
   "metadata": {},
   "outputs": [
    {
     "data": {
      "text/plain": [
       "(700000, 14)"
      ]
     },
     "execution_count": 4,
     "metadata": {},
     "output_type": "execute_result"
    }
   ],
   "source": [
    "dataFrame.shape"
   ]
  },
  {
   "cell_type": "code",
   "execution_count": 5,
   "metadata": {},
   "outputs": [
    {
     "data": {
      "text/html": [
       "<div>\n",
       "<style scoped>\n",
       "    .dataframe tbody tr th:only-of-type {\n",
       "        vertical-align: middle;\n",
       "    }\n",
       "\n",
       "    .dataframe tbody tr th {\n",
       "        vertical-align: top;\n",
       "    }\n",
       "\n",
       "    .dataframe thead th {\n",
       "        text-align: right;\n",
       "    }\n",
       "</style>\n",
       "<table border=\"1\" class=\"dataframe\">\n",
       "  <thead>\n",
       "    <tr style=\"text-align: right;\">\n",
       "      <th></th>\n",
       "      <th>trip_id</th>\n",
       "      <th>duration</th>\n",
       "      <th>start_time</th>\n",
       "      <th>end_time</th>\n",
       "      <th>start_lat</th>\n",
       "      <th>start_lon</th>\n",
       "      <th>end_lat</th>\n",
       "      <th>end_lon</th>\n",
       "      <th>bike_id</th>\n",
       "      <th>plan_duration</th>\n",
       "      <th>trip_route_category</th>\n",
       "      <th>passholder_type</th>\n",
       "      <th>start_station</th>\n",
       "      <th>end_station</th>\n",
       "    </tr>\n",
       "  </thead>\n",
       "  <tbody>\n",
       "    <tr>\n",
       "      <th>0</th>\n",
       "      <td>101750280</td>\n",
       "      <td>35</td>\n",
       "      <td>2018-08-07 11:20:00</td>\n",
       "      <td>2018-08-07 11:55:00</td>\n",
       "      <td>33.748920</td>\n",
       "      <td>-118.275192</td>\n",
       "      <td>33.748920</td>\n",
       "      <td>-118.275192</td>\n",
       "      <td>06530</td>\n",
       "      <td>1.0</td>\n",
       "      <td>Round Trip</td>\n",
       "      <td>Walk-up</td>\n",
       "      <td>4127</td>\n",
       "      <td>4127</td>\n",
       "    </tr>\n",
       "    <tr>\n",
       "      <th>1</th>\n",
       "      <td>46560345</td>\n",
       "      <td>32</td>\n",
       "      <td>9/17/2017 17:51</td>\n",
       "      <td>9/17/2017 18:23</td>\n",
       "      <td>34.035679</td>\n",
       "      <td>-118.270813</td>\n",
       "      <td>34.047749</td>\n",
       "      <td>-118.243172</td>\n",
       "      <td>6683</td>\n",
       "      <td>0.0</td>\n",
       "      <td>One Way</td>\n",
       "      <td>Walk-up</td>\n",
       "      <td>3057</td>\n",
       "      <td>3062</td>\n",
       "    </tr>\n",
       "    <tr>\n",
       "      <th>2</th>\n",
       "      <td>120016336</td>\n",
       "      <td>6</td>\n",
       "      <td>2019-04-22 09:22:00</td>\n",
       "      <td>2019-04-22 09:28:00</td>\n",
       "      <td>34.046070</td>\n",
       "      <td>-118.233093</td>\n",
       "      <td>34.047749</td>\n",
       "      <td>-118.243172</td>\n",
       "      <td>06710</td>\n",
       "      <td>30.0</td>\n",
       "      <td>One Way</td>\n",
       "      <td>Monthly Pass</td>\n",
       "      <td>3022</td>\n",
       "      <td>3062</td>\n",
       "    </tr>\n",
       "  </tbody>\n",
       "</table>\n",
       "</div>"
      ],
      "text/plain": [
       "     trip_id  duration           start_time             end_time  start_lat  \\\n",
       "0  101750280        35  2018-08-07 11:20:00  2018-08-07 11:55:00  33.748920   \n",
       "1   46560345        32      9/17/2017 17:51      9/17/2017 18:23  34.035679   \n",
       "2  120016336         6  2019-04-22 09:22:00  2019-04-22 09:28:00  34.046070   \n",
       "\n",
       "    start_lon    end_lat     end_lon bike_id  plan_duration  \\\n",
       "0 -118.275192  33.748920 -118.275192   06530            1.0   \n",
       "1 -118.270813  34.047749 -118.243172    6683            0.0   \n",
       "2 -118.233093  34.047749 -118.243172   06710           30.0   \n",
       "\n",
       "  trip_route_category passholder_type  start_station  end_station  \n",
       "0          Round Trip         Walk-up           4127         4127  \n",
       "1             One Way         Walk-up           3057         3062  \n",
       "2             One Way    Monthly Pass           3022         3062  "
      ]
     },
     "execution_count": 5,
     "metadata": {},
     "output_type": "execute_result"
    }
   ],
   "source": [
    "dataFrame.head(3)"
   ]
  },
  {
   "cell_type": "markdown",
   "metadata": {},
   "source": [
    "### Feature Engineering"
   ]
  },
  {
   "cell_type": "markdown",
   "metadata": {},
   "source": [
    "#### Variables a Eliminar"
   ]
  },
  {
   "cell_type": "markdown",
   "metadata": {},
   "source": [
    "Datos los análisis previos (notebook 01), podemos eliminar algunas variables que no son necesarias.\n",
    "1. Trip ID: Es solo un identificador.\n",
    "2. Bike ID: Es solo un identificador.\n",
    "3. Start time: El formato nos da complicaciones, es por ello que creamos más variables a partir de sus componentes como año, mes, dia, hora y minuto.\n",
    "4. End time: El formato nos da complicaciones, es por ello que creamos más variables a partir de sus componentes como año, mes, dia, hora y minuto.\n",
    "5. Start Station: Esta información ya viene implicita en el \"Start Lat\" y \"Start Lon\". Además, estaciones diferentes comparten valores. Por otro lado, usarla como variable nos traería problemas de dimensionalidad. En total son 364 estaciones.\n",
    "6. End Station: Esta información ya viene implicita en el \"End Lat\" y \"End Lon\". Además, estaciones diferentes comparten valores. Por otro lado, usarla como variable nos traería problemas de dimensionalidad. En total son 364 estaciones.\n",
    "7. Plan Duration: No se encuentra en el conjunto de prueba"
   ]
  },
  {
   "cell_type": "markdown",
   "metadata": {},
   "source": [
    "Tampoco contemplaremos el día, mes y año del final del viaje, esto porque se dan en los mismos valores que el inicio del viaje. Contemplarlos significaría tener variables altamente correlacionadas"
   ]
  },
  {
   "cell_type": "code",
   "execution_count": 6,
   "metadata": {},
   "outputs": [],
   "source": [
    "dataFrame[\"start_time\"] = pd.to_datetime(dataFrame[\"start_time\"], infer_datetime_format=True)\n",
    "dataFrame[\"end_time\"] = pd.to_datetime(dataFrame[\"end_time\"], infer_datetime_format=True)\n",
    "\n",
    "dataFrame[\"start_time_day\"] = dataFrame[\"start_time\"].dt.day\n",
    "dataFrame[\"start_time_month\"] = dataFrame[\"start_time\"].dt.month\n",
    "dataFrame[\"start_time_year\"] = dataFrame[\"start_time\"].dt.year\n",
    "dataFrame[\"start_time_hour\"] = dataFrame[\"start_time\"].dt.hour\n",
    "dataFrame[\"start_time_minute\"] = dataFrame[\"start_time\"].dt.minute\n",
    "\n",
    "dataFrame[\"end_time_hour\"] = dataFrame[\"end_time\"].dt.hour\n",
    "dataFrame[\"end_time_minute\"] = dataFrame[\"end_time\"].dt.minute"
   ]
  },
  {
   "cell_type": "code",
   "execution_count": 7,
   "metadata": {},
   "outputs": [
    {
     "data": {
      "text/plain": [
       "(700000, 14)"
      ]
     },
     "execution_count": 7,
     "metadata": {},
     "output_type": "execute_result"
    }
   ],
   "source": [
    "variables_no_necesarias = [\n",
    "    \"trip_id\",\n",
    "    \"bike_id\",\n",
    "    \"start_time\",\n",
    "    \"end_time\",\n",
    "    \"start_station\",\n",
    "    \"end_station\",\n",
    "    \"plan_duration\"\n",
    "]\n",
    "\n",
    "dataFrame_Clean = dataFrame.drop(variables_no_necesarias, axis=1)\n",
    "dataFrame_Clean.shape"
   ]
  },
  {
   "cell_type": "code",
   "execution_count": 8,
   "metadata": {},
   "outputs": [
    {
     "data": {
      "text/html": [
       "<div>\n",
       "<style scoped>\n",
       "    .dataframe tbody tr th:only-of-type {\n",
       "        vertical-align: middle;\n",
       "    }\n",
       "\n",
       "    .dataframe tbody tr th {\n",
       "        vertical-align: top;\n",
       "    }\n",
       "\n",
       "    .dataframe thead th {\n",
       "        text-align: right;\n",
       "    }\n",
       "</style>\n",
       "<table border=\"1\" class=\"dataframe\">\n",
       "  <thead>\n",
       "    <tr style=\"text-align: right;\">\n",
       "      <th></th>\n",
       "      <th>duration</th>\n",
       "      <th>start_lat</th>\n",
       "      <th>start_lon</th>\n",
       "      <th>end_lat</th>\n",
       "      <th>end_lon</th>\n",
       "      <th>trip_route_category</th>\n",
       "      <th>passholder_type</th>\n",
       "      <th>start_time_day</th>\n",
       "      <th>start_time_month</th>\n",
       "      <th>start_time_year</th>\n",
       "      <th>start_time_hour</th>\n",
       "      <th>start_time_minute</th>\n",
       "      <th>end_time_hour</th>\n",
       "      <th>end_time_minute</th>\n",
       "    </tr>\n",
       "  </thead>\n",
       "  <tbody>\n",
       "    <tr>\n",
       "      <th>0</th>\n",
       "      <td>35</td>\n",
       "      <td>33.748920</td>\n",
       "      <td>-118.275192</td>\n",
       "      <td>33.748920</td>\n",
       "      <td>-118.275192</td>\n",
       "      <td>Round Trip</td>\n",
       "      <td>Walk-up</td>\n",
       "      <td>7</td>\n",
       "      <td>8</td>\n",
       "      <td>2018</td>\n",
       "      <td>11</td>\n",
       "      <td>20</td>\n",
       "      <td>11</td>\n",
       "      <td>55</td>\n",
       "    </tr>\n",
       "    <tr>\n",
       "      <th>1</th>\n",
       "      <td>32</td>\n",
       "      <td>34.035679</td>\n",
       "      <td>-118.270813</td>\n",
       "      <td>34.047749</td>\n",
       "      <td>-118.243172</td>\n",
       "      <td>One Way</td>\n",
       "      <td>Walk-up</td>\n",
       "      <td>17</td>\n",
       "      <td>9</td>\n",
       "      <td>2017</td>\n",
       "      <td>17</td>\n",
       "      <td>51</td>\n",
       "      <td>18</td>\n",
       "      <td>23</td>\n",
       "    </tr>\n",
       "  </tbody>\n",
       "</table>\n",
       "</div>"
      ],
      "text/plain": [
       "   duration  start_lat   start_lon    end_lat     end_lon trip_route_category  \\\n",
       "0        35  33.748920 -118.275192  33.748920 -118.275192          Round Trip   \n",
       "1        32  34.035679 -118.270813  34.047749 -118.243172             One Way   \n",
       "\n",
       "  passholder_type  start_time_day  start_time_month  start_time_year  \\\n",
       "0         Walk-up               7                 8             2018   \n",
       "1         Walk-up              17                 9             2017   \n",
       "\n",
       "   start_time_hour  start_time_minute  end_time_hour  end_time_minute  \n",
       "0               11                 20             11               55  \n",
       "1               17                 51             18               23  "
      ]
     },
     "execution_count": 8,
     "metadata": {},
     "output_type": "execute_result"
    }
   ],
   "source": [
    "dataFrame_Clean.head(2)"
   ]
  },
  {
   "cell_type": "markdown",
   "metadata": {},
   "source": [
    "#### Duration"
   ]
  },
  {
   "cell_type": "code",
   "execution_count": 9,
   "metadata": {},
   "outputs": [
    {
     "data": {
      "image/png": "[encoded data removed]",
      "text/plain": [
       "<Figure size 720x432 with 2 Axes>"
      ]
     },
     "metadata": {
      "needs_background": "light"
     },
     "output_type": "display_data"
    }
   ],
   "source": [
    "fig, axes = plt.subplots(2, 1, figsize=(10, 6), tight_layout=True, gridspec_kw={'height_ratios':[0.6, 1.4]})\n",
    "sns.boxplot(x=dataFrame_Clean[\"duration\"], color='red', ax=axes[0])\n",
    "sns.histplot(x=dataFrame_Clean[\"duration\"], stat=\"probability\", color='red', ax=axes[1])\n",
    "\n",
    "axes[0].set_xlabel(\"Duracion en Minutos\")\n",
    "axes[1].set_xlabel(\"Duracion en Minutos\");"
   ]
  },
  {
   "cell_type": "code",
   "execution_count": 10,
   "metadata": {},
   "outputs": [],
   "source": [
    "tf_YJ = vt.YeoJohnsonTransformer(variables=[\"duration\"])\n",
    "dataFrame_Clean = tf_YJ.fit_transform(dataFrame_Clean)"
   ]
  },
  {
   "cell_type": "code",
   "execution_count": 11,
   "metadata": {},
   "outputs": [
    {
     "data": {
      "image/png": "[encoded data removed]",
      "text/plain": [
       "<Figure size 720x432 with 2 Axes>"
      ]
     },
     "metadata": {
      "needs_background": "light"
     },
     "output_type": "display_data"
    }
   ],
   "source": [
    "fig, axes = plt.subplots(2, 1, figsize=(10, 6), tight_layout=True, gridspec_kw={'height_ratios':[0.6, 1.4]})\n",
    "flatten_axes = axes.flatten()\n",
    "sns.boxplot(x=dataFrame_Clean[\"duration\"], color='red', ax=flatten_axes[0])\n",
    "sns.histplot(x=dataFrame_Clean[\"duration\"], stat=\"probability\", color='red', ax=flatten_axes[1])\n",
    "\n",
    "flatten_axes[0].set_xlabel(\"Duracion en Minutos\")\n",
    "flatten_axes[1].set_xlabel(\"Duracion en Minutos\");"
   ]
  },
  {
   "cell_type": "code",
   "execution_count": 12,
   "metadata": {},
   "outputs": [
    {
     "data": {
      "image/png": "[encoded data removed]",
      "text/plain": [
       "<Figure size 720x360 with 1 Axes>"
      ]
     },
     "metadata": {
      "needs_background": "light"
     },
     "output_type": "display_data"
    }
   ],
   "source": [
    "plt.figure(figsize=(10, 5))\n",
    "sns.boxplot(data=dataFrame_Clean, x='duration', y='passholder_type', palette=\"Reds\");"
   ]
  },
  {
   "cell_type": "markdown",
   "metadata": {},
   "source": [
    "#### Start_lat | Start_lon | End_lat | End_lon"
   ]
  },
  {
   "cell_type": "markdown",
   "metadata": {},
   "source": [
    "Eliminar nulos podría resultar problemático y debatible. Pero después de eliminar estos registros mantenemos el __96%__ de los registros totales. Un 4% de pérdida no resultaría contundente para el total de información que tenemos."
   ]
  },
  {
   "cell_type": "code",
   "execution_count": 13,
   "metadata": {},
   "outputs": [],
   "source": [
    "dataFrame_Clean = dataFrame_Clean.dropna()"
   ]
  },
  {
   "cell_type": "code",
   "execution_count": 14,
   "metadata": {},
   "outputs": [
    {
     "data": {
      "image/png": "[encoded data removed]",
      "text/plain": [
       "<Figure size 720x432 with 4 Axes>"
      ]
     },
     "metadata": {
      "needs_background": "light"
     },
     "output_type": "display_data"
    }
   ],
   "source": [
    "fig, axes = plt.subplots(2, 2, figsize=(10, 6), tight_layout=True)\n",
    "flatten_axes = axes.flatten()\n",
    "sns.boxplot(x=dataFrame_Clean[\"start_lat\"], color='red', ax=flatten_axes[0])\n",
    "sns.boxplot(x=dataFrame_Clean[\"start_lon\"], color='red', ax=flatten_axes[1])\n",
    "sns.boxplot(x=dataFrame_Clean[\"end_lat\"], color='red', ax=flatten_axes[2])\n",
    "sns.boxplot(x=dataFrame_Clean[\"end_lon\"], color='red', ax=flatten_axes[3])\n",
    "\n",
    "flatten_axes[0].set_xlabel(\"Grados\")\n",
    "flatten_axes[1].set_xlabel(\"Grados\")\n",
    "flatten_axes[2].set_xlabel(\"Grados\")\n",
    "flatten_axes[3].set_xlabel(\"Grados\")\n",
    "\n",
    "flatten_axes[0].set_title(\"Latitud Inicial\", size=12)\n",
    "flatten_axes[1].set_title(\"Longitud Inicial\", size=12)\n",
    "flatten_axes[2].set_title(\"Latitud Final\", size=12)\n",
    "flatten_axes[3].set_title(\"Longitud Final\", size=12);"
   ]
  },
  {
   "cell_type": "code",
   "execution_count": 15,
   "metadata": {},
   "outputs": [],
   "source": [
    "s_lat_l, s_lat_u = f_rango_intercuartil(dataFrame_Clean[\"start_lat\"])\n",
    "s_lon_l, s_lon_u = f_rango_intercuartil(dataFrame_Clean[\"start_lon\"])\n",
    "e_lat_l, e_lat_u = f_rango_intercuartil(dataFrame_Clean[\"end_lat\"])\n",
    "e_lon_l, e_lon_u = f_rango_intercuartil(dataFrame_Clean[\"end_lon\"])"
   ]
  },
  {
   "cell_type": "code",
   "execution_count": 16,
   "metadata": {},
   "outputs": [],
   "source": [
    "data_capp_s_lat = f_capping(s_lat_l, s_lat_u, dataFrame_Clean[\"start_lat\"])\n",
    "data_capp_s_lon = f_capping(s_lon_l, s_lon_u, dataFrame_Clean[\"start_lon\"])\n",
    "data_capp_e_lat = f_capping(e_lat_l, e_lat_u, dataFrame_Clean[\"end_lat\"])\n",
    "data_capp_e_lon = f_capping(e_lon_l, e_lon_u, dataFrame_Clean[\"end_lon\"])"
   ]
  },
  {
   "cell_type": "code",
   "execution_count": 17,
   "metadata": {},
   "outputs": [
    {
     "data": {
      "image/png": "[encoded data removed]",
      "text/plain": [
       "<Figure size 720x432 with 4 Axes>"
      ]
     },
     "metadata": {
      "needs_background": "light"
     },
     "output_type": "display_data"
    }
   ],
   "source": [
    "fig, axes = plt.subplots(2, 2, figsize=(10, 6), tight_layout=True)\n",
    "flatten_axes = axes.flatten()\n",
    "sns.boxplot(x=data_capp_s_lat, color='red', ax=flatten_axes[0])\n",
    "sns.boxplot(x=data_capp_s_lon, color='red', ax=flatten_axes[1])\n",
    "sns.boxplot(x=data_capp_e_lat, color='red', ax=flatten_axes[2])\n",
    "sns.boxplot(x=data_capp_e_lon, color='red', ax=flatten_axes[3])\n",
    "\n",
    "flatten_axes[0].set_xlabel(\"Grados\")\n",
    "flatten_axes[1].set_xlabel(\"Grados\")\n",
    "flatten_axes[2].set_xlabel(\"Grados\")\n",
    "flatten_axes[3].set_xlabel(\"Grados\")\n",
    "\n",
    "flatten_axes[0].set_title(\"Latitud Inicial después de Capping\", size=12)\n",
    "flatten_axes[1].set_title(\"Longitud Inicial después de Capping\", size=12)\n",
    "flatten_axes[2].set_title(\"Latitud Final después de Capping\", size=12)\n",
    "flatten_axes[3].set_title(\"Longitud Final después de Capping\", size=12);"
   ]
  },
  {
   "cell_type": "code",
   "execution_count": 18,
   "metadata": {},
   "outputs": [],
   "source": [
    "dataFrame_Clean[\"start_lat\"] = data_capp_s_lat\n",
    "dataFrame_Clean[\"start_lon\"] = data_capp_s_lon\n",
    "dataFrame_Clean[\"end_lat\"] = data_capp_e_lat\n",
    "dataFrame_Clean[\"end_lon\"] = data_capp_e_lon"
   ]
  },
  {
   "cell_type": "code",
   "execution_count": 19,
   "metadata": {},
   "outputs": [
    {
     "data": {
      "image/png": "[encoded data removed]",
      "text/plain": [
       "<Figure size 936x504 with 4 Axes>"
      ]
     },
     "metadata": {
      "needs_background": "light"
     },
     "output_type": "display_data"
    }
   ],
   "source": [
    "fig, axes = plt.subplots(2, 2, figsize=(13, 7), tight_layout=True)\n",
    "flatten_axes = axes.flatten()\n",
    "\n",
    "sns.boxplot(data=dataFrame_Clean, x='start_lat', y='passholder_type', palette=\"Reds\", ax=flatten_axes[0]);\n",
    "sns.boxplot(data=dataFrame_Clean, x='start_lon', y='passholder_type', palette=\"Reds\", ax=flatten_axes[1]);\n",
    "sns.boxplot(data=dataFrame_Clean, x='end_lat', y='passholder_type', palette=\"Reds\", ax=flatten_axes[2]);\n",
    "sns.boxplot(data=dataFrame_Clean, x='end_lon', y='passholder_type', palette=\"Reds\", ax=flatten_axes[3]);\n",
    "\n",
    "flatten_axes[0].set_xlabel(\"Grados\")\n",
    "flatten_axes[1].set_xlabel(\"Grados\")\n",
    "flatten_axes[2].set_xlabel(\"Grados\")\n",
    "flatten_axes[3].set_xlabel(\"Grados\")\n",
    "\n",
    "flatten_axes[0].set_title(\"Latitud Inicial después de Capping\", size=12)\n",
    "flatten_axes[1].set_title(\"Longitud Inicial después de Capping\", size=12)\n",
    "flatten_axes[2].set_title(\"Latitud Final después de Capping\", size=12)\n",
    "flatten_axes[3].set_title(\"Longitud Final después de Capping\", size=12);"
   ]
  },
  {
   "cell_type": "markdown",
   "metadata": {},
   "source": [
    "#### passholder_type"
   ]
  },
  {
   "cell_type": "code",
   "execution_count": 20,
   "metadata": {},
   "outputs": [
    {
     "data": {
      "text/html": [
       "<div>\n",
       "<style scoped>\n",
       "    .dataframe tbody tr th:only-of-type {\n",
       "        vertical-align: middle;\n",
       "    }\n",
       "\n",
       "    .dataframe tbody tr th {\n",
       "        vertical-align: top;\n",
       "    }\n",
       "\n",
       "    .dataframe thead th {\n",
       "        text-align: right;\n",
       "    }\n",
       "</style>\n",
       "<table border=\"1\" class=\"dataframe\">\n",
       "  <thead>\n",
       "    <tr style=\"text-align: right;\">\n",
       "      <th></th>\n",
       "      <th>passholder_type</th>\n",
       "      <th>passholder_type</th>\n",
       "    </tr>\n",
       "  </thead>\n",
       "  <tbody>\n",
       "    <tr>\n",
       "      <th>Monthly Pass</th>\n",
       "      <td>387596</td>\n",
       "      <td>57.354758</td>\n",
       "    </tr>\n",
       "    <tr>\n",
       "      <th>Walk-up</th>\n",
       "      <td>203867</td>\n",
       "      <td>30.167346</td>\n",
       "    </tr>\n",
       "    <tr>\n",
       "      <th>One Day Pass</th>\n",
       "      <td>39888</td>\n",
       "      <td>5.902452</td>\n",
       "    </tr>\n",
       "    <tr>\n",
       "      <th>Annual Pass</th>\n",
       "      <td>32973</td>\n",
       "      <td>4.879200</td>\n",
       "    </tr>\n",
       "    <tr>\n",
       "      <th>Flex Pass</th>\n",
       "      <td>11420</td>\n",
       "      <td>1.689882</td>\n",
       "    </tr>\n",
       "    <tr>\n",
       "      <th>Testing</th>\n",
       "      <td>43</td>\n",
       "      <td>0.006363</td>\n",
       "    </tr>\n",
       "  </tbody>\n",
       "</table>\n",
       "</div>"
      ],
      "text/plain": [
       "              passholder_type  passholder_type\n",
       "Monthly Pass           387596        57.354758\n",
       "Walk-up                203867        30.167346\n",
       "One Day Pass            39888         5.902452\n",
       "Annual Pass             32973         4.879200\n",
       "Flex Pass               11420         1.689882\n",
       "Testing                    43         0.006363"
      ]
     },
     "execution_count": 20,
     "metadata": {},
     "output_type": "execute_result"
    }
   ],
   "source": [
    "total_datos_pass = pd.DataFrame(dataFrame_Clean[\"passholder_type\"].value_counts())\n",
    "total_porce_pass = pd.DataFrame(dataFrame_Clean[\"passholder_type\"].value_counts(normalize=True)*100)\n",
    "total_data_pass = pd.concat([total_datos_pass, total_porce_pass], axis=1)\n",
    "total_data_pass"
   ]
  },
  {
   "cell_type": "markdown",
   "metadata": {},
   "source": [
    "Existe la clase __\"Testing\"__, la cual, dudo que este entre el conjunto de clases con las que normalmente se trabaja. Contemplarla nos traería algunos problemas, dado que hay valores que son específicos de esa clase, como en __plan duration__ que se tiene el valor de \"999\", además, es una clase con muy pocos registros. Después de eliminar valores nulos, la clase __\"Testing\"__ no representa ni el 1%."
   ]
  },
  {
   "cell_type": "code",
   "execution_count": 21,
   "metadata": {},
   "outputs": [],
   "source": [
    "dataFrame_Clean = dataFrame_Clean[dataFrame_Clean[\"passholder_type\"] != \"Testing\"]"
   ]
  },
  {
   "cell_type": "code",
   "execution_count": 22,
   "metadata": {},
   "outputs": [],
   "source": [
    "mapeo_passholder_type = {\n",
    "    'Walk-up': 0,\n",
    "    'Monthly Pass': 1,\n",
    "    'One Day Pass': 2,\n",
    "    'Annual Pass': 3,\n",
    "    'Flex Pass': 4\n",
    "}\n",
    "dataFrame_Clean[\"passholder_type\"] = dataFrame_Clean[\"passholder_type\"].map(mapeo_passholder_type)"
   ]
  },
  {
   "cell_type": "markdown",
   "metadata": {},
   "source": [
    "#### Plan Duration"
   ]
  },
  {
   "cell_type": "raw",
   "metadata": {},
   "source": [
    "fig, axes = plt.subplots(2, 1, figsize=(10, 6), tight_layout=True, gridspec_kw={'height_ratios':[0.6, 1.4]})\n",
    "sns.boxplot(x=dataFrame_Clean[\"plan_duration\"], color='red', ax=axes[0])\n",
    "sns.histplot(x=dataFrame_Clean[\"plan_duration\"], color='red', ax=axes[1]);"
   ]
  },
  {
   "cell_type": "raw",
   "metadata": {},
   "source": [
    "tf_YJ_2 = vt.YeoJohnsonTransformer(variables=[\"plan_duration\"])\n",
    "d2 = tf_YJ_2.fit_transform(dataFrame_Clean)"
   ]
  },
  {
   "cell_type": "raw",
   "metadata": {},
   "source": [
    "fig, axes = plt.subplots(2, 1, figsize=(10, 6), tight_layout=True, gridspec_kw={'height_ratios':[0.6, 1.4]})\n",
    "sns.boxplot(x=d2[\"plan_duration\"], color='red', ax=axes[0])\n",
    "sns.histplot(x=d2[\"plan_duration\"], color='red', ax=axes[1]);"
   ]
  },
  {
   "cell_type": "raw",
   "metadata": {},
   "source": [
    "generar_estadisticas_basicas(dataFrame_Clean[\"plan_duration\"])"
   ]
  },
  {
   "cell_type": "markdown",
   "metadata": {},
   "source": [
    "#### Trip Route Category"
   ]
  },
  {
   "cell_type": "code",
   "execution_count": 23,
   "metadata": {},
   "outputs": [
    {
     "data": {
      "text/html": [
       "<div>\n",
       "<style scoped>\n",
       "    .dataframe tbody tr th:only-of-type {\n",
       "        vertical-align: middle;\n",
       "    }\n",
       "\n",
       "    .dataframe tbody tr th {\n",
       "        vertical-align: top;\n",
       "    }\n",
       "\n",
       "    .dataframe thead th {\n",
       "        text-align: right;\n",
       "    }\n",
       "</style>\n",
       "<table border=\"1\" class=\"dataframe\">\n",
       "  <thead>\n",
       "    <tr style=\"text-align: right;\">\n",
       "      <th></th>\n",
       "      <th>trip_route_category</th>\n",
       "      <th>trip_route_category</th>\n",
       "    </tr>\n",
       "  </thead>\n",
       "  <tbody>\n",
       "    <tr>\n",
       "      <th>One Way</th>\n",
       "      <td>560167</td>\n",
       "      <td>82.896334</td>\n",
       "    </tr>\n",
       "    <tr>\n",
       "      <th>Round Trip</th>\n",
       "      <td>115577</td>\n",
       "      <td>17.103666</td>\n",
       "    </tr>\n",
       "  </tbody>\n",
       "</table>\n",
       "</div>"
      ],
      "text/plain": [
       "            trip_route_category  trip_route_category\n",
       "One Way                  560167            82.896334\n",
       "Round Trip               115577            17.103666"
      ]
     },
     "execution_count": 23,
     "metadata": {},
     "output_type": "execute_result"
    }
   ],
   "source": [
    "total_datos_route = pd.DataFrame(dataFrame_Clean[\"trip_route_category\"].value_counts())\n",
    "total_porce_route = pd.DataFrame(dataFrame_Clean[\"trip_route_category\"].value_counts(normalize=True)*100)\n",
    "total_data_route = pd.concat([total_datos_route, total_porce_route], axis=1)\n",
    "total_data_route"
   ]
  },
  {
   "cell_type": "code",
   "execution_count": 24,
   "metadata": {},
   "outputs": [],
   "source": [
    "mapeo_trip_route_category = {\n",
    "    \"Round Trip\": 0,\n",
    "    \"One Way\": 1\n",
    "}\n",
    "dataFrame_Clean[\"trip_route_category\"] = dataFrame_Clean[\"trip_route_category\"].map(mapeo_trip_route_category)"
   ]
  },
  {
   "cell_type": "markdown",
   "metadata": {},
   "source": [
    "### Exportar Datos"
   ]
  },
  {
   "cell_type": "code",
   "execution_count": 25,
   "metadata": {},
   "outputs": [],
   "source": [
    "dataFrame_Clean.to_csv(\"../Data/Train_Data_Clean.csv\", index=False)"
   ]
  }
 ],
 "metadata": {
  "kernelspec": {
   "display_name": "Python 3",
   "language": "python",
   "name": "python3"
  },
  "language_info": {
   "codemirror_mode": {
    "name": "ipython",
    "version": 3
   },
   "file_extension": ".py",
   "mimetype": "text/x-python",
   "name": "python",
   "nbconvert_exporter": "python",
   "pygments_lexer": "ipython3",
   "version": "3.8.5"
  }
 },
 "nbformat": 4,
 "nbformat_minor": 4
}
