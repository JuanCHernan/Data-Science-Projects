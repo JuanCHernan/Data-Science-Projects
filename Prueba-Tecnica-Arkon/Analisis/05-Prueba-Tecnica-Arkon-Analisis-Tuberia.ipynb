{
 "cells": [
  {
   "cell_type": "markdown",
   "metadata": {},
   "source": [
    "# Prueba Técnica Arkon"
   ]
  },
  {
   "cell_type": "markdown",
   "metadata": {},
   "source": [
    "Autor: Juan Carlos Hernández Rangel<br>\n",
    "Desarrollo: 30-noviembre-2022"
   ]
  },
  {
   "cell_type": "markdown",
   "metadata": {},
   "source": [
    "## Problema"
   ]
  },
  {
   "cell_type": "markdown",
   "metadata": {},
   "source": [
    "En Los Ángeles existe un sistema compartido de bicicletas que brinda datos anónimos acerca\n",
    "del uso del servicio. La tabla que se proporciona contiene el histórico de viajes que se han\n",
    "realizado desde 2016 y contiene una columna que es de particular interés y que se buscará\n",
    "analizar a más profundidad: Passholder_type. "
   ]
  },
  {
   "cell_type": "markdown",
   "metadata": {},
   "source": [
    "## Metodología"
   ]
  },
  {
   "cell_type": "markdown",
   "metadata": {},
   "source": [
    "### Importar librerías"
   ]
  },
  {
   "cell_type": "code",
   "execution_count": 15,
   "metadata": {},
   "outputs": [],
   "source": [
    "import os\n",
    "import numpy as np\n",
    "import pandas as pd\n",
    "import matplotlib.pyplot as plt\n",
    "import seaborn as sns\n",
    "import statsmodels.api as sm\n",
    "import yaml\n",
    "import joblib\n",
    "\n",
    "from feature_engine import transformation as vt\n",
    "from scipy.stats import zscore\n",
    "from scipy.stats import skew, kurtosis\n",
    "\n",
    "from sklearn.ensemble import RandomForestClassifier\n",
    "from sklearn.metrics import classification_report, confusion_matrix, f1_score\n",
    "from sklearn.model_selection import train_test_split, KFold\n",
    "from sklearn.neighbors import KNeighborsClassifier\n",
    "from sklearn.linear_model import LogisticRegression\n",
    "from sklearn.tree import DecisionTreeClassifier"
   ]
  },
  {
   "cell_type": "markdown",
   "metadata": {},
   "source": [
    "### Importar conjunto de datos"
   ]
  },
  {
   "cell_type": "code",
   "execution_count": 16,
   "metadata": {},
   "outputs": [],
   "source": [
    "path_prueba = '../Data/test_set.csv'\n",
    "dataFrame = pd.read_csv(path_prueba, low_memory=False)\n",
    "trip_id = dataFrame[\"trip_id\"]"
   ]
  },
  {
   "cell_type": "code",
   "execution_count": 17,
   "metadata": {},
   "outputs": [],
   "source": [
    "with open(r'../Modelo/config.yml') as file:\n",
    "    val = yaml.load(file, Loader=yaml.FullLoader)"
   ]
  },
  {
   "cell_type": "code",
   "execution_count": 4,
   "metadata": {},
   "outputs": [],
   "source": [
    "modeloRF = joblib.load('../Modelo/modelo_random_forest.joblib')"
   ]
  },
  {
   "cell_type": "markdown",
   "metadata": {},
   "source": [
    "### Funciones"
   ]
  },
  {
   "cell_type": "code",
   "execution_count": 5,
   "metadata": {},
   "outputs": [],
   "source": [
    "def crear_variables(data):\n",
    "    data[\"start_time\"] = pd.to_datetime(data[\"start_time\"], infer_datetime_format=True)\n",
    "    data[\"end_time\"] = pd.to_datetime(data[\"end_time\"], infer_datetime_format=True)\n",
    "\n",
    "    data[\"start_time_day\"] = data[\"start_time\"].dt.day\n",
    "    data[\"start_time_month\"] = data[\"start_time\"].dt.month\n",
    "    data[\"start_time_year\"] = data[\"start_time\"].dt.year\n",
    "    data[\"start_time_hour\"] = data[\"start_time\"].dt.hour\n",
    "    data[\"start_time_minute\"] = data[\"start_time\"].dt.minute\n",
    "\n",
    "    data[\"end_time_hour\"] = data[\"end_time\"].dt.hour\n",
    "    data[\"end_time_minute\"] = data[\"end_time\"].dt.minute\n",
    "    return data\n",
    "\n",
    "def eliminar_variables(data, variables):\n",
    "    return dataFrame.drop(variables, axis=1, errors='ignore')\n",
    "\n",
    "def mapeo_variables(data, variable, diccionario):\n",
    "    dataFrame[variable] = dataFrame[variable].map(diccionario)\n",
    "    return dataFrame\n",
    "\n",
    "def capping_variables(data, variable, limite_inferior, limite_superior):\n",
    "    data[variable] = np.where(\n",
    "                            data[variable] > limite_superior, \n",
    "                            limite_superior, \n",
    "                            np.where(\n",
    "                                    data[variable] < limite_inferior,\n",
    "                                    limite_inferior,\n",
    "                                    data[variable]))\n",
    "    return data\n",
    "\n",
    "def imputador(data, variable):\n",
    "    promedio = data[variable].mean()\n",
    "    data[variable] = data[variable].fillna(promedio)\n",
    "    return data\n",
    "\n",
    "def transformador_YJ(data, variables):\n",
    "    tf_YJ = vt.YeoJohnsonTransformer(variables=variables)\n",
    "    return tf_YJ.fit_transform(data)"
   ]
  },
  {
   "cell_type": "markdown",
   "metadata": {},
   "source": [
    "### Transformar Datos Prueba"
   ]
  },
  {
   "cell_type": "markdown",
   "metadata": {},
   "source": [
    "#### Crear Variables"
   ]
  },
  {
   "cell_type": "code",
   "execution_count": 6,
   "metadata": {},
   "outputs": [],
   "source": [
    "dataFrame = crear_variables(dataFrame)"
   ]
  },
  {
   "cell_type": "markdown",
   "metadata": {},
   "source": [
    "#### Eliminar Variables"
   ]
  },
  {
   "cell_type": "code",
   "execution_count": 7,
   "metadata": {},
   "outputs": [],
   "source": [
    "dataFrame = eliminar_variables(dataFrame, val[\"variables_eliminar\"])"
   ]
  },
  {
   "cell_type": "markdown",
   "metadata": {},
   "source": [
    "#### Mapeo"
   ]
  },
  {
   "cell_type": "code",
   "execution_count": 8,
   "metadata": {},
   "outputs": [],
   "source": [
    "for variable in val[\"mapeo_variables\"].keys():\n",
    "    dataFrame = mapeo_variables(dataFrame, variable, val[\"mapeo_variables\"][variable])"
   ]
  },
  {
   "cell_type": "markdown",
   "metadata": {},
   "source": [
    "#### Capping"
   ]
  },
  {
   "cell_type": "code",
   "execution_count": 9,
   "metadata": {},
   "outputs": [],
   "source": [
    "for variable in val[\"limites_rango_intercuartil\"].keys():\n",
    "    li, ls = val[\"limites_rango_intercuartil\"][variable]\n",
    "    dataFrame = capping_variables(dataFrame, variable, li, ls)"
   ]
  },
  {
   "cell_type": "markdown",
   "metadata": {},
   "source": [
    "#### Imputador"
   ]
  },
  {
   "cell_type": "code",
   "execution_count": 10,
   "metadata": {},
   "outputs": [],
   "source": [
    "for variable in val[\"variables_con_nulos\"]:\n",
    "    dataFrame = imputador(dataFrame, variable)"
   ]
  },
  {
   "cell_type": "markdown",
   "metadata": {},
   "source": [
    "#### Transformacion"
   ]
  },
  {
   "cell_type": "code",
   "execution_count": 11,
   "metadata": {},
   "outputs": [],
   "source": [
    "dataFrame = transformador_YJ(dataFrame, val['variables_transformadas_YJ'])"
   ]
  },
  {
   "cell_type": "markdown",
   "metadata": {},
   "source": [
    "### Predicciones"
   ]
  },
  {
   "cell_type": "code",
   "execution_count": 12,
   "metadata": {},
   "outputs": [],
   "source": [
    "pred = modeloRF.predict(dataFrame)"
   ]
  },
  {
   "cell_type": "code",
   "execution_count": 13,
   "metadata": {},
   "outputs": [],
   "source": [
    "dataFinal = pd.DataFrame({\n",
    "    \"trip_id\":trip_id,\n",
    "    \"passholder_type\":pred\n",
    "})"
   ]
  },
  {
   "cell_type": "code",
   "execution_count": 19,
   "metadata": {},
   "outputs": [],
   "source": [
    "mapeo = val['mapeo_variables']['passholder_type']\n",
    "dataFinal[\"passholder_type\"] = dataFinal['passholder_type'].map(mapeo)"
   ]
  },
  {
   "cell_type": "code",
   "execution_count": 21,
   "metadata": {},
   "outputs": [],
   "source": [
    "dataFinal.to_csv(\"submission1.csv\", index=False)"
   ]
  },
  {
   "cell_type": "code",
   "execution_count": null,
   "metadata": {},
   "outputs": [],
   "source": []
  }
 ],
 "metadata": {
  "kernelspec": {
   "display_name": "Python 3",
   "language": "python",
   "name": "python3"
  },
  "language_info": {
   "codemirror_mode": {
    "name": "ipython",
    "version": 3
   },
   "file_extension": ".py",
   "mimetype": "text/x-python",
   "name": "python",
   "nbconvert_exporter": "python",
   "pygments_lexer": "ipython3",
   "version": "3.8.5"
  }
 },
 "nbformat": 4,
 "nbformat_minor": 4
}
