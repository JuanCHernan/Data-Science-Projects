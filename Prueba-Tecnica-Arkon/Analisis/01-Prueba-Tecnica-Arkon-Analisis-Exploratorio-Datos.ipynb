{
 "cells": [
  {
   "cell_type": "markdown",
   "metadata": {},
   "source": [
    "# Prueba Técnica Arkon"
   ]
  },
  {
   "cell_type": "markdown",
   "metadata": {},
   "source": [
    "Autor: Juan Carlos Hernández Rangel<br>\n",
    "Desarrollo: 30-noviembre-2022"
   ]
  },
  {
   "cell_type": "markdown",
   "metadata": {},
   "source": [
    "## Problema"
   ]
  },
  {
   "cell_type": "markdown",
   "metadata": {},
   "source": [
    "En Los Ángeles existe un sistema compartido de bicicletas que brinda datos anónimos acerca\n",
    "del uso del servicio. La tabla que se proporciona contiene el histórico de viajes que se han\n",
    "realizado desde 2016 y contiene una columna que es de particular interés y que se buscará\n",
    "analizar a más profundidad: Passholder_type. "
   ]
  },
  {
   "cell_type": "markdown",
   "metadata": {},
   "source": [
    "## Metodología"
   ]
  },
  {
   "cell_type": "markdown",
   "metadata": {},
   "source": [
    "### Funciones"
   ]
  },
  {
   "cell_type": "code",
   "execution_count": 1,
   "metadata": {},
   "outputs": [],
   "source": [
    "def generar_estadisticas_basicas(serie):\n",
    "    '''\n",
    "    Función para obtener estadísticas básicas de la serie\n",
    "    '''\n",
    "    sesgo = skew(serie)\n",
    "    kurto = kurtosis(serie)\n",
    "    estadisticas_basicas = pd.DataFrame(serie.describe())\n",
    "    estadisticas_basicas.loc[\"skew\"] = sesgo\n",
    "    estadisticas_basicas.loc[\"kurtosis\"] = kurto\n",
    "    return estadisticas_basicas\n",
    "\n",
    "def generar_mapa_calor(pivote, estacion):\n",
    "    plt.figure(figsize=(13, 8))\n",
    "    plt.title(f\"Mapa de Calor de los Horarios para Monthly Pass estación {estacion}\", size=14)\n",
    "    sns.heatmap(pivote);\n",
    "    \n",
    "def generar_mapa_calor_2(pivote_inicio, pivote_fin, estacion):\n",
    "    fig, axes = plt.subplots(1, 2, figsize=(13, 5), tight_layout=True)\n",
    "    sns.heatmap(pivote_inicio, ax=axes[0])\n",
    "    sns.heatmap(pivote_fin, ax=axes[1])\n",
    "    \n",
    "    axes[0].set_title(f\"Horario Inicio para Estacion {estacion}\", size=12)\n",
    "    axes[1].set_title(f\"Horario Fin para Estacion {estacion}\", size=12)\n",
    "    axes[0].set_xlabel(\"Minutos\")\n",
    "    axes[1].set_xlabel(\"Minutos\")\n",
    "    axes[0].set_ylabel(\"Horas\")\n",
    "    axes[1].set_ylabel(\"Horas\");"
   ]
  },
  {
   "cell_type": "markdown",
   "metadata": {},
   "source": [
    "### Importar librerías"
   ]
  },
  {
   "cell_type": "code",
   "execution_count": 2,
   "metadata": {},
   "outputs": [],
   "source": [
    "import os\n",
    "import numpy as np\n",
    "import pandas as pd\n",
    "import matplotlib.pyplot as plt\n",
    "import seaborn as sns\n",
    "import geopandas as gp\n",
    "\n",
    "from geopandas import GeoDataFrame\n",
    "from shapely.geometry import Point\n",
    "from scipy.stats import skew, kurtosis"
   ]
  },
  {
   "cell_type": "markdown",
   "metadata": {},
   "source": [
    "### Importar conjunto de datos"
   ]
  },
  {
   "cell_type": "code",
   "execution_count": 3,
   "metadata": {},
   "outputs": [],
   "source": [
    "path_entrenamiento = '../Data/train_set.csv'\n",
    "dataFrame = pd.read_csv(path_entrenamiento, low_memory=False)"
   ]
  },
  {
   "cell_type": "markdown",
   "metadata": {},
   "source": [
    "### Características del conjunto de datos"
   ]
  },
  {
   "cell_type": "code",
   "execution_count": 4,
   "metadata": {},
   "outputs": [
    {
     "data": {
      "text/html": [
       "<div>\n",
       "<style scoped>\n",
       "    .dataframe tbody tr th:only-of-type {\n",
       "        vertical-align: middle;\n",
       "    }\n",
       "\n",
       "    .dataframe tbody tr th {\n",
       "        vertical-align: top;\n",
       "    }\n",
       "\n",
       "    .dataframe thead th {\n",
       "        text-align: right;\n",
       "    }\n",
       "</style>\n",
       "<table border=\"1\" class=\"dataframe\">\n",
       "  <thead>\n",
       "    <tr style=\"text-align: right;\">\n",
       "      <th></th>\n",
       "      <th>trip_id</th>\n",
       "      <th>duration</th>\n",
       "      <th>start_time</th>\n",
       "      <th>end_time</th>\n",
       "      <th>start_lat</th>\n",
       "      <th>start_lon</th>\n",
       "      <th>end_lat</th>\n",
       "      <th>end_lon</th>\n",
       "      <th>bike_id</th>\n",
       "      <th>plan_duration</th>\n",
       "      <th>trip_route_category</th>\n",
       "      <th>passholder_type</th>\n",
       "      <th>start_station</th>\n",
       "      <th>end_station</th>\n",
       "    </tr>\n",
       "  </thead>\n",
       "  <tbody>\n",
       "    <tr>\n",
       "      <th>0</th>\n",
       "      <td>101750280</td>\n",
       "      <td>35</td>\n",
       "      <td>2018-08-07 11:20:00</td>\n",
       "      <td>2018-08-07 11:55:00</td>\n",
       "      <td>33.748920</td>\n",
       "      <td>-118.275192</td>\n",
       "      <td>33.748920</td>\n",
       "      <td>-118.275192</td>\n",
       "      <td>06530</td>\n",
       "      <td>1.0</td>\n",
       "      <td>Round Trip</td>\n",
       "      <td>Walk-up</td>\n",
       "      <td>4127</td>\n",
       "      <td>4127</td>\n",
       "    </tr>\n",
       "    <tr>\n",
       "      <th>1</th>\n",
       "      <td>46560345</td>\n",
       "      <td>32</td>\n",
       "      <td>9/17/2017 17:51</td>\n",
       "      <td>9/17/2017 18:23</td>\n",
       "      <td>34.035679</td>\n",
       "      <td>-118.270813</td>\n",
       "      <td>34.047749</td>\n",
       "      <td>-118.243172</td>\n",
       "      <td>6683</td>\n",
       "      <td>0.0</td>\n",
       "      <td>One Way</td>\n",
       "      <td>Walk-up</td>\n",
       "      <td>3057</td>\n",
       "      <td>3062</td>\n",
       "    </tr>\n",
       "    <tr>\n",
       "      <th>2</th>\n",
       "      <td>120016336</td>\n",
       "      <td>6</td>\n",
       "      <td>2019-04-22 09:22:00</td>\n",
       "      <td>2019-04-22 09:28:00</td>\n",
       "      <td>34.046070</td>\n",
       "      <td>-118.233093</td>\n",
       "      <td>34.047749</td>\n",
       "      <td>-118.243172</td>\n",
       "      <td>06710</td>\n",
       "      <td>30.0</td>\n",
       "      <td>One Way</td>\n",
       "      <td>Monthly Pass</td>\n",
       "      <td>3022</td>\n",
       "      <td>3062</td>\n",
       "    </tr>\n",
       "  </tbody>\n",
       "</table>\n",
       "</div>"
      ],
      "text/plain": [
       "     trip_id  duration           start_time             end_time  start_lat  \\\n",
       "0  101750280        35  2018-08-07 11:20:00  2018-08-07 11:55:00  33.748920   \n",
       "1   46560345        32      9/17/2017 17:51      9/17/2017 18:23  34.035679   \n",
       "2  120016336         6  2019-04-22 09:22:00  2019-04-22 09:28:00  34.046070   \n",
       "\n",
       "    start_lon    end_lat     end_lon bike_id  plan_duration  \\\n",
       "0 -118.275192  33.748920 -118.275192   06530            1.0   \n",
       "1 -118.270813  34.047749 -118.243172    6683            0.0   \n",
       "2 -118.233093  34.047749 -118.243172   06710           30.0   \n",
       "\n",
       "  trip_route_category passholder_type  start_station  end_station  \n",
       "0          Round Trip         Walk-up           4127         4127  \n",
       "1             One Way         Walk-up           3057         3062  \n",
       "2             One Way    Monthly Pass           3022         3062  "
      ]
     },
     "execution_count": 4,
     "metadata": {},
     "output_type": "execute_result"
    }
   ],
   "source": [
    "# Primeras 3 filas\n",
    "dataFrame.head(3)"
   ]
  },
  {
   "cell_type": "code",
   "execution_count": 5,
   "metadata": {},
   "outputs": [
    {
     "name": "stdout",
     "output_type": "stream",
     "text": [
      "Total de filas: 700000\n",
      "Total de columnas: 14\n"
     ]
    }
   ],
   "source": [
    "filas, columnas = dataFrame.shape\n",
    "print(f\"Total de filas: {filas}\")\n",
    "print(f\"Total de columnas: {columnas}\")"
   ]
  },
  {
   "cell_type": "code",
   "execution_count": 6,
   "metadata": {},
   "outputs": [
    {
     "name": "stdout",
     "output_type": "stream",
     "text": [
      "<class 'pandas.core.frame.DataFrame'>\n",
      "RangeIndex: 700000 entries, 0 to 699999\n",
      "Data columns (total 14 columns):\n",
      " #   Column               Non-Null Count   Dtype  \n",
      "---  ------               --------------   -----  \n",
      " 0   trip_id              700000 non-null  int64  \n",
      " 1   duration             700000 non-null  int64  \n",
      " 2   start_time           700000 non-null  object \n",
      " 3   end_time             700000 non-null  object \n",
      " 4   start_lat            694437 non-null  float64\n",
      " 5   start_lon            694437 non-null  float64\n",
      " 6   end_lat              681426 non-null  float64\n",
      " 7   end_lon              681426 non-null  float64\n",
      " 8   bike_id              700000 non-null  object \n",
      " 9   plan_duration        699792 non-null  float64\n",
      " 10  trip_route_category  700000 non-null  object \n",
      " 11  passholder_type      697424 non-null  object \n",
      " 12  start_station        700000 non-null  int64  \n",
      " 13  end_station          700000 non-null  int64  \n",
      "dtypes: float64(5), int64(4), object(5)\n",
      "memory usage: 74.8+ MB\n"
     ]
    }
   ],
   "source": [
    "# Tipo de dato por columna\n",
    "dataFrame.info()"
   ]
  },
  {
   "cell_type": "markdown",
   "metadata": {},
   "source": [
    "### Análisis Exploratorio de los Datos"
   ]
  },
  {
   "cell_type": "markdown",
   "metadata": {},
   "source": [
    "#### Trip_id"
   ]
  },
  {
   "cell_type": "code",
   "execution_count": 7,
   "metadata": {},
   "outputs": [
    {
     "data": {
      "text/plain": [
       "700000"
      ]
     },
     "execution_count": 7,
     "metadata": {},
     "output_type": "execute_result"
    }
   ],
   "source": [
    "# ¿El trip_id es único?\n",
    "# Tenemos un total de 700,000 ids únicos, lo que nos índica que no tenemos inconsistencias en esa columna\n",
    "# Al mismo tiempo, esta columna no es de interés para nuestro modelo. El ID no es más que un identificador\n",
    "# no una variable determinante.\n",
    "dataFrame[\"trip_id\"].nunique()"
   ]
  },
  {
   "cell_type": "markdown",
   "metadata": {},
   "source": [
    "#### Duration"
   ]
  },
  {
   "cell_type": "code",
   "execution_count": 8,
   "metadata": {},
   "outputs": [
    {
     "data": {
      "image/png": "[encoded data removed]",
      "text/plain": [
       "<Figure size 720x432 with 2 Axes>"
      ]
     },
     "metadata": {
      "needs_background": "light"
     },
     "output_type": "display_data"
    }
   ],
   "source": [
    "# ¿Cómo se comporta la variable \"duration\"?\n",
    "# Una variable con una cola MUY larga, lo que nos indica que tenemos valores muy extremos.\n",
    "# Se tendrá que hacer un análisis de datos atipicos o bien aplicar algún tipo de transformación.\n",
    "fig, axes = plt.subplots(2, 1, figsize=(10, 6), tight_layout=True, gridspec_kw={'height_ratios':[0.6, 1.4]})\n",
    "sns.boxplot(x=dataFrame[\"duration\"], color='red', ax=axes[0])\n",
    "sns.histplot(x=dataFrame[\"duration\"], stat=\"probability\", color='red', ax=axes[1])\n",
    "\n",
    "axes[0].set_xlabel(\"Duracion en Minutos\")\n",
    "axes[1].set_xlabel(\"Duracion en Minutos\");"
   ]
  },
  {
   "cell_type": "code",
   "execution_count": 9,
   "metadata": {},
   "outputs": [
    {
     "data": {
      "text/html": [
       "<div>\n",
       "<style scoped>\n",
       "    .dataframe tbody tr th:only-of-type {\n",
       "        vertical-align: middle;\n",
       "    }\n",
       "\n",
       "    .dataframe tbody tr th {\n",
       "        vertical-align: top;\n",
       "    }\n",
       "\n",
       "    .dataframe thead th {\n",
       "        text-align: right;\n",
       "    }\n",
       "</style>\n",
       "<table border=\"1\" class=\"dataframe\">\n",
       "  <thead>\n",
       "    <tr style=\"text-align: right;\">\n",
       "      <th></th>\n",
       "      <th>duration</th>\n",
       "    </tr>\n",
       "  </thead>\n",
       "  <tbody>\n",
       "    <tr>\n",
       "      <th>count</th>\n",
       "      <td>700000.000000</td>\n",
       "    </tr>\n",
       "    <tr>\n",
       "      <th>mean</th>\n",
       "      <td>37.084979</td>\n",
       "    </tr>\n",
       "    <tr>\n",
       "      <th>std</th>\n",
       "      <td>125.302510</td>\n",
       "    </tr>\n",
       "    <tr>\n",
       "      <th>min</th>\n",
       "      <td>1.000000</td>\n",
       "    </tr>\n",
       "    <tr>\n",
       "      <th>25%</th>\n",
       "      <td>7.000000</td>\n",
       "    </tr>\n",
       "    <tr>\n",
       "      <th>50%</th>\n",
       "      <td>13.000000</td>\n",
       "    </tr>\n",
       "    <tr>\n",
       "      <th>75%</th>\n",
       "      <td>26.000000</td>\n",
       "    </tr>\n",
       "    <tr>\n",
       "      <th>max</th>\n",
       "      <td>1440.000000</td>\n",
       "    </tr>\n",
       "    <tr>\n",
       "      <th>skew</th>\n",
       "      <td>8.996609</td>\n",
       "    </tr>\n",
       "    <tr>\n",
       "      <th>kurtosis</th>\n",
       "      <td>89.217192</td>\n",
       "    </tr>\n",
       "  </tbody>\n",
       "</table>\n",
       "</div>"
      ],
      "text/plain": [
       "               duration\n",
       "count     700000.000000\n",
       "mean          37.084979\n",
       "std          125.302510\n",
       "min            1.000000\n",
       "25%            7.000000\n",
       "50%           13.000000\n",
       "75%           26.000000\n",
       "max         1440.000000\n",
       "skew           8.996609\n",
       "kurtosis      89.217192"
      ]
     },
     "execution_count": 9,
     "metadata": {},
     "output_type": "execute_result"
    }
   ],
   "source": [
    "# Estadísticas básicas de la variable\n",
    "# Con los resultados, la estadística \"skew\" nos muestra que tenemos más peso en la cola izquierda de la distribución\n",
    "# y con los resultados de la \"kurtosis\" vemos una distribución leptocurtica.\n",
    "estadisticas_duration = generar_estadisticas_basicas(dataFrame[\"duration\"])\n",
    "estadisticas_duration"
   ]
  },
  {
   "cell_type": "markdown",
   "metadata": {},
   "source": [
    "#### Start_Time"
   ]
  },
  {
   "cell_type": "code",
   "execution_count": 10,
   "metadata": {},
   "outputs": [
    {
     "data": {
      "text/plain": [
       "0    2018-08-07 11:20:00\n",
       "1        9/17/2017 17:51\n",
       "2    2019-04-22 09:22:00\n",
       "Name: start_time, dtype: object"
      ]
     },
     "execution_count": 10,
     "metadata": {},
     "output_type": "execute_result"
    }
   ],
   "source": [
    "# Lo primero que podemos notar es que la fecha no esta en el mismo formato, esto puede causar bastantes problemas.\n",
    "# Estandarizaremos estos datos primero\n",
    "dataFrame[\"start_time\"].head(3)"
   ]
  },
  {
   "cell_type": "code",
   "execution_count": 11,
   "metadata": {},
   "outputs": [],
   "source": [
    "dataFrame[\"start_time\"] = pd.to_datetime(dataFrame[\"start_time\"], infer_datetime_format=True)"
   ]
  },
  {
   "cell_type": "code",
   "execution_count": 12,
   "metadata": {},
   "outputs": [
    {
     "data": {
      "text/plain": [
       "0   2018-08-07 11:20:00\n",
       "1   2017-09-17 17:51:00\n",
       "2   2019-04-22 09:22:00\n",
       "3   2019-09-22 11:27:00\n",
       "4   2020-01-31 17:11:00\n",
       "Name: start_time, dtype: datetime64[ns]"
      ]
     },
     "execution_count": 12,
     "metadata": {},
     "output_type": "execute_result"
    }
   ],
   "source": [
    "dataFrame[\"start_time\"].head()"
   ]
  },
  {
   "cell_type": "code",
   "execution_count": 13,
   "metadata": {},
   "outputs": [],
   "source": [
    "# Dado que la fecha por si sola es díficil de analizar y manipular lo que se puede hacer es crear más variables donde\n",
    "# se desglosa la fecha en sus componentes principales: Día, Mes, Año, Hora y Minuto\n",
    "dataFrame[\"start_time_day\"] = dataFrame[\"start_time\"].dt.day\n",
    "dataFrame[\"start_time_month\"] = dataFrame[\"start_time\"].dt.month\n",
    "dataFrame[\"start_time_year\"] = dataFrame[\"start_time\"].dt.year\n",
    "dataFrame[\"start_time_hour\"] = dataFrame[\"start_time\"].dt.hour\n",
    "dataFrame[\"start_time_minute\"] = dataFrame[\"start_time\"].dt.minute"
   ]
  },
  {
   "cell_type": "code",
   "execution_count": 14,
   "metadata": {},
   "outputs": [
    {
     "data": {
      "image/png": "[encoded data removed]",
      "text/plain": [
       "<Figure size 864x648 with 4 Axes>"
      ]
     },
     "metadata": {
      "needs_background": "light"
     },
     "output_type": "display_data"
    }
   ],
   "source": [
    "# Gráficos\n",
    "# Los resultados son interesantes, se podía esperar que los datos del día tuvieran una distribución uniforme\n",
    "# y en efecto así fue.\n",
    "# Los resultados más llamativos son para Meses, Año y Hora.\n",
    "# Podemos notar que el mes de Octubre es donde se han tenido más viajes\n",
    "# Al igual para el año, el 2018 fue donde se tuvieron más viajes, lo cual resulta normal dado que los años siguientes\n",
    "# inicio la pandemia de COVID\n",
    "# Y por último, vemos que la hora más concurrida son las 17 hrs, esto se puede deber a que es la hora donde\n",
    "# la mayor parte de los trabajadores dejan las oficinas.\n",
    "fig, axes = plt.subplots(2, 2, figsize=(12, 9), tight_layout=True)\n",
    "flatten_axes = axes.flatten()\n",
    "agrupado_st_dia = dataFrame[\"start_time_day\"].value_counts().sort_index()\n",
    "agrupado_st_mes = dataFrame[\"start_time_month\"].value_counts().sort_index()\n",
    "agrupado_st_ano = dataFrame[\"start_time_year\"].value_counts().sort_index()\n",
    "agrupado_st_hora = dataFrame[\"start_time_hour\"].value_counts().sort_index()\n",
    "\n",
    "sns.barplot(y=agrupado_st_dia.index.astype(str), x=agrupado_st_dia, palette=\"Reds\", ax=flatten_axes[0])\n",
    "sns.barplot(y=agrupado_st_mes.index.astype(str), x=agrupado_st_mes, palette=\"Reds\", ax=flatten_axes[1])\n",
    "sns.barplot(y=agrupado_st_ano.index.astype(str), x=agrupado_st_ano, palette=\"Reds\", ax=flatten_axes[2])\n",
    "sns.barplot(y=agrupado_st_hora.index.astype(str), x=agrupado_st_hora, palette=\"Reds\", ax=flatten_axes[3])\n",
    "\n",
    "flatten_axes[0].set_xlabel(\"Frecuencia\")\n",
    "flatten_axes[1].set_xlabel(\"Frecuencia\")\n",
    "flatten_axes[2].set_xlabel(\"Frecuencia\")\n",
    "flatten_axes[3].set_xlabel(\"Frecuencia\")\n",
    "\n",
    "flatten_axes[0].set_title(\"Día\", size=15)\n",
    "flatten_axes[1].set_title(\"Mes\", size=15)\n",
    "flatten_axes[2].set_title(\"Año\", size=15)\n",
    "flatten_axes[3].set_title(\"Hora\", size=15);"
   ]
  },
  {
   "cell_type": "markdown",
   "metadata": {},
   "source": [
    "#### End_Time"
   ]
  },
  {
   "cell_type": "code",
   "execution_count": 15,
   "metadata": {},
   "outputs": [
    {
     "data": {
      "text/plain": [
       "0    2018-08-07 11:55:00\n",
       "1        9/17/2017 18:23\n",
       "2    2019-04-22 09:28:00\n",
       "Name: end_time, dtype: object"
      ]
     },
     "execution_count": 15,
     "metadata": {},
     "output_type": "execute_result"
    }
   ],
   "source": [
    "# Al igual que con la variable \"start_time\", en la variable \"end_time\" también tenemos una inconsistencia en el \n",
    "# formato de las fechas.\n",
    "dataFrame[\"end_time\"].head(3)"
   ]
  },
  {
   "cell_type": "code",
   "execution_count": 16,
   "metadata": {},
   "outputs": [],
   "source": [
    "dataFrame[\"end_time\"] = pd.to_datetime(dataFrame[\"end_time\"], infer_datetime_format=True)"
   ]
  },
  {
   "cell_type": "code",
   "execution_count": 17,
   "metadata": {},
   "outputs": [
    {
     "data": {
      "text/plain": [
       "0   2018-08-07 11:55:00\n",
       "1   2017-09-17 18:23:00\n",
       "2   2019-04-22 09:28:00\n",
       "3   2019-09-22 13:45:00\n",
       "4   2020-01-31 17:25:00\n",
       "Name: end_time, dtype: datetime64[ns]"
      ]
     },
     "execution_count": 17,
     "metadata": {},
     "output_type": "execute_result"
    }
   ],
   "source": [
    "dataFrame[\"end_time\"].head()"
   ]
  },
  {
   "cell_type": "code",
   "execution_count": 18,
   "metadata": {},
   "outputs": [],
   "source": [
    "# Dado que la fecha por si sola es díficil de analizar y manipular lo que se puede hacer es crear más variables donde\n",
    "# se desglosa la fecha en sus componentes principales: Día, Mes, Año, Hora y Minuto\n",
    "dataFrame[\"end_time_day\"] = dataFrame[\"end_time\"].dt.day\n",
    "dataFrame[\"end_time_month\"] = dataFrame[\"end_time\"].dt.month\n",
    "dataFrame[\"end_time_year\"] = dataFrame[\"end_time\"].dt.year\n",
    "dataFrame[\"end_time_hour\"] = dataFrame[\"end_time\"].dt.hour\n",
    "dataFrame[\"end_time_minute\"] = dataFrame[\"end_time\"].dt.minute"
   ]
  },
  {
   "cell_type": "code",
   "execution_count": 19,
   "metadata": {},
   "outputs": [
    {
     "data": {
      "image/png": "[encoded data removed]",
      "text/plain": [
       "<Figure size 864x648 with 4 Axes>"
      ]
     },
     "metadata": {
      "needs_background": "light"
     },
     "output_type": "display_data"
    }
   ],
   "source": [
    "# Gráficos\n",
    "# Los resultados son interesantes, se podía esperar que los datos del día tuvieran una distribución uniforme\n",
    "# y en efecto así fue.\n",
    "# Los resultados más llamativos son para Meses, Año y Hora.\n",
    "# Podemos notar que el mes de Octubre es donde se han tenido más viajes\n",
    "# Al igual para el año, el 2018 fue donde se tuvieron más viajes, lo cual resulta normal dado que los años siguientes\n",
    "# inicio la pandemia de COVID\n",
    "# Y por último, vemos que la hora más concurrida son las 17 hrs, esto se puede deber a que es la hora donde\n",
    "# la mayor parte de los trabajadores dejan las oficinas. Dado que los viajes (suposición) en bicicleta no duran más\n",
    "# de una hora, suena razonable que la hora de finalizar su viaje sea en la misma hora\n",
    "fig, axes = plt.subplots(2, 2, figsize=(12, 9), tight_layout=True)\n",
    "flatten_axes = axes.flatten()\n",
    "agrupado_ed_dia = dataFrame[\"end_time_day\"].value_counts().sort_index()\n",
    "agrupado_ed_mes = dataFrame[\"end_time_month\"].value_counts().sort_index()\n",
    "agrupado_ed_ano = dataFrame[\"end_time_year\"].value_counts().sort_index()\n",
    "agrupado_ed_hora = dataFrame[\"end_time_hour\"].value_counts().sort_index()\n",
    "\n",
    "sns.barplot(y=agrupado_ed_dia.index.astype(str), x=agrupado_ed_dia, palette=\"Reds\", ax=flatten_axes[0])\n",
    "sns.barplot(y=agrupado_ed_mes.index.astype(str), x=agrupado_ed_mes, palette=\"Reds\", ax=flatten_axes[1])\n",
    "sns.barplot(y=agrupado_ed_ano.index.astype(str), x=agrupado_ed_ano, palette=\"Reds\", ax=flatten_axes[2])\n",
    "sns.barplot(y=agrupado_ed_hora.index.astype(str), x=agrupado_ed_hora, palette=\"Reds\", ax=flatten_axes[3])\n",
    "\n",
    "flatten_axes[0].set_xlabel(\"Frecuencia\")\n",
    "flatten_axes[1].set_xlabel(\"Frecuencia\")\n",
    "flatten_axes[2].set_xlabel(\"Frecuencia\")\n",
    "flatten_axes[3].set_xlabel(\"Frecuencia\")\n",
    "\n",
    "flatten_axes[0].set_title(\"Día\", size=15)\n",
    "flatten_axes[1].set_title(\"Mes\", size=15)\n",
    "flatten_axes[2].set_title(\"Año\", size=15)\n",
    "flatten_axes[3].set_title(\"Hora\", size=15);"
   ]
  },
  {
   "cell_type": "markdown",
   "metadata": {},
   "source": [
    "#### Start_lat | Start_lon | End_lat | End_lon"
   ]
  },
  {
   "cell_type": "code",
   "execution_count": 20,
   "metadata": {},
   "outputs": [
    {
     "data": {
      "text/html": [
       "<div>\n",
       "<style scoped>\n",
       "    .dataframe tbody tr th:only-of-type {\n",
       "        vertical-align: middle;\n",
       "    }\n",
       "\n",
       "    .dataframe tbody tr th {\n",
       "        vertical-align: top;\n",
       "    }\n",
       "\n",
       "    .dataframe thead th {\n",
       "        text-align: right;\n",
       "    }\n",
       "</style>\n",
       "<table border=\"1\" class=\"dataframe\">\n",
       "  <thead>\n",
       "    <tr style=\"text-align: right;\">\n",
       "      <th></th>\n",
       "      <th>Total-Valores-Nulos</th>\n",
       "      <th>Proporcion-Valores-Nulos</th>\n",
       "    </tr>\n",
       "  </thead>\n",
       "  <tbody>\n",
       "    <tr>\n",
       "      <th>start_lat</th>\n",
       "      <td>5563</td>\n",
       "      <td>0.795</td>\n",
       "    </tr>\n",
       "    <tr>\n",
       "      <th>start_lon</th>\n",
       "      <td>5563</td>\n",
       "      <td>0.795</td>\n",
       "    </tr>\n",
       "    <tr>\n",
       "      <th>end_lat</th>\n",
       "      <td>18574</td>\n",
       "      <td>2.653</td>\n",
       "    </tr>\n",
       "    <tr>\n",
       "      <th>end_lon</th>\n",
       "      <td>18574</td>\n",
       "      <td>2.653</td>\n",
       "    </tr>\n",
       "  </tbody>\n",
       "</table>\n",
       "</div>"
      ],
      "text/plain": [
       "           Total-Valores-Nulos  Proporcion-Valores-Nulos\n",
       "start_lat                 5563                     0.795\n",
       "start_lon                 5563                     0.795\n",
       "end_lat                  18574                     2.653\n",
       "end_lon                  18574                     2.653"
      ]
     },
     "execution_count": 20,
     "metadata": {},
     "output_type": "execute_result"
    }
   ],
   "source": [
    "# Haremos un análisis de estas variables en conjunto\n",
    "# Estas variables cuentan con valores nulos, obtendremos una proporción de estos\n",
    "# Afortunadamente no tenemos un numero de datos vacíos grande. Dado el total de datos (700,000), podríamos eliminar\n",
    "# este conjunto de datos vacíos y no perderíamos tanta información.\n",
    "total_na_valores = pd.DataFrame(dataFrame[['start_lat','start_lon','end_lat','end_lon']].isna().sum())\n",
    "total_na_porcentaje = pd.DataFrame((dataFrame[['start_lat','start_lon','end_lat','end_lon']].isna().sum()*100/dataFrame.shape[0]).round(3))\n",
    "total_na_lat_lon = pd.concat([total_na_valores, total_na_porcentaje], axis=1)\n",
    "total_na_lat_lon.columns = [\"Total-Valores-Nulos\", \"Proporcion-Valores-Nulos\"]\n",
    "total_na_lat_lon"
   ]
  },
  {
   "cell_type": "code",
   "execution_count": 21,
   "metadata": {},
   "outputs": [
    {
     "data": {
      "text/plain": [
       "(5563, 24)"
      ]
     },
     "execution_count": 21,
     "metadata": {},
     "output_type": "execute_result"
    }
   ],
   "source": [
    "# Como podemos notar por este resultado, la captura de la latitud y de la longitud al inicio no se dio para el \n",
    "# mismo conjunto de datos, esto nos puede hablar de ciertos problemas que hubo al momento de la captura de la\n",
    "# información. De igual forma, para algunos de estos datos no se tienen los datos de finalización.\n",
    "dataFrame[(dataFrame[\"start_lat\"].isna()) & (dataFrame[\"start_lon\"].isna())].shape"
   ]
  },
  {
   "cell_type": "code",
   "execution_count": 22,
   "metadata": {},
   "outputs": [
    {
     "data": {
      "text/plain": [
       "15941    39\n",
       "15759    34\n",
       "15630    26\n",
       "15927    26\n",
       "15953    25\n",
       "Name: bike_id, dtype: int64"
      ]
     },
     "execution_count": 22,
     "metadata": {},
     "output_type": "execute_result"
    }
   ],
   "source": [
    "dataFrame[(dataFrame[\"start_lat\"].isna()) & (dataFrame[\"start_lon\"].isna())][\"bike_id\"].value_counts()[:5]"
   ]
  },
  {
   "cell_type": "code",
   "execution_count": 23,
   "metadata": {},
   "outputs": [
    {
     "data": {
      "text/plain": [
       "18954    60\n",
       "15941    47\n",
       "15759    42\n",
       "15927    36\n",
       "19115    36\n",
       "Name: bike_id, dtype: int64"
      ]
     },
     "execution_count": 23,
     "metadata": {},
     "output_type": "execute_result"
    }
   ],
   "source": [
    "dataFrame[(dataFrame[\"end_lat\"].isna()) & (dataFrame[\"end_lon\"].isna())][\"bike_id\"].value_counts()[:5]"
   ]
  },
  {
   "cell_type": "markdown",
   "metadata": {},
   "source": [
    "Lo que vemos arriba serían las 5 bicicletas que presentan más problemas para registrar los datos de inicio y de fin. Como podemos notar, las bicicletas con el id __15941__ y __15759__ son las que presentan mayores problemas en registrar estos datos. __Esta información es útil ya que valdría la pena hacer una revisión a las mismas__."
   ]
  },
  {
   "cell_type": "code",
   "execution_count": 24,
   "metadata": {},
   "outputs": [
    {
     "data": {
      "image/png": "[encoded data removed]",
      "text/plain": [
       "<Figure size 720x432 with 4 Axes>"
      ]
     },
     "metadata": {
      "needs_background": "light"
     },
     "output_type": "display_data"
    }
   ],
   "source": [
    "# Gráficas\n",
    "# Como podemos notar en los diagramas de caja y bigote, tenemos unos datos que se podrían considerar atípicos.\n",
    "# Hagamos un filtro a estas variables y veamos si en efecto son pocos los datos atípicos\n",
    "\n",
    "fig, axes = plt.subplots(2, 2, figsize=(10, 6), tight_layout=True)\n",
    "flatten_axes = axes.flatten()\n",
    "sns.boxplot(x=dataFrame[\"start_lat\"], color='red', ax=flatten_axes[0])\n",
    "sns.boxplot(x=dataFrame[\"start_lon\"], color='red', ax=flatten_axes[1])\n",
    "sns.boxplot(x=dataFrame[\"end_lat\"], color='red', ax=flatten_axes[2])\n",
    "sns.boxplot(x=dataFrame[\"end_lon\"], color='red', ax=flatten_axes[3])\n",
    "\n",
    "flatten_axes[0].set_xlabel(\"Grados\")\n",
    "flatten_axes[1].set_xlabel(\"Grados\")\n",
    "flatten_axes[2].set_xlabel(\"Grados\")\n",
    "flatten_axes[3].set_xlabel(\"Grados\")\n",
    "\n",
    "flatten_axes[0].set_title(\"Latitud Inicial\", size=12)\n",
    "flatten_axes[1].set_title(\"Longitud Inicial\", size=12)\n",
    "flatten_axes[2].set_title(\"Latitud Final\", size=12)\n",
    "flatten_axes[3].set_title(\"Longitud Final\", size=12);"
   ]
  },
  {
   "cell_type": "code",
   "execution_count": 25,
   "metadata": {},
   "outputs": [
    {
     "name": "stdout",
     "output_type": "stream",
     "text": [
      "Total de valores con una latitud inicial mayor a 50: 153\n",
      "Total de valores con una longitud inicial mayor a 0: 154\n",
      "Total de valores con una latitud final mayor a 50: 127\n",
      "Total de valores con una longitud final mayor a 0: 127\n"
     ]
    }
   ],
   "source": [
    "valores_st_lat_50 = dataFrame[dataFrame[\"start_lat\"] > 50].shape[0]\n",
    "valores_st_lon_0 = dataFrame[dataFrame[\"start_lon\"] > 0].shape[0]\n",
    "valores_ed_lat_50 = dataFrame[dataFrame[\"end_lat\"] > 50].shape[0]\n",
    "valores_ed_lon_0 = dataFrame[dataFrame[\"end_lon\"] > 0].shape[0]\n",
    "\n",
    "print(f\"Total de valores con una latitud inicial mayor a 50: {valores_st_lat_50}\")\n",
    "print(f\"Total de valores con una longitud inicial mayor a 0: {valores_st_lon_0}\")\n",
    "print(f\"Total de valores con una latitud final mayor a 50: {valores_ed_lat_50}\")\n",
    "print(f\"Total de valores con una longitud final mayor a 0: {valores_ed_lon_0}\")"
   ]
  },
  {
   "cell_type": "code",
   "execution_count": 26,
   "metadata": {},
   "outputs": [
    {
     "data": {
      "image/png": "[encoded data removed]",
      "text/plain": [
       "<Figure size 936x432 with 4 Axes>"
      ]
     },
     "metadata": {
      "needs_background": "light"
     },
     "output_type": "display_data"
    }
   ],
   "source": [
    "# Vamos a ver la distribución de estas variables sin estos valores que podríamos considerar atípicos\n",
    "fig, axes = plt.subplots(2, 2, figsize=(13, 6), tight_layout=True)\n",
    "flatten_axes = axes.flatten()\n",
    "sns.histplot(dataFrame[dataFrame[\"start_lat\"] < 50]['start_lat'], color='red', ax=flatten_axes[0])\n",
    "sns.histplot(dataFrame[dataFrame[\"start_lon\"] < 0]['start_lon'], color='red', ax=flatten_axes[1])\n",
    "sns.histplot(dataFrame[dataFrame[\"end_lat\"] < 50]['end_lat'], color='red', ax=flatten_axes[2])\n",
    "sns.histplot(dataFrame[dataFrame[\"end_lon\"] < 0]['end_lon'], color='red', ax=flatten_axes[3])\n",
    "\n",
    "flatten_axes[0].set_xlabel(\"Grados\")\n",
    "flatten_axes[1].set_xlabel(\"Grados\")\n",
    "flatten_axes[2].set_xlabel(\"Grados\")\n",
    "flatten_axes[3].set_xlabel(\"Grados\")\n",
    "\n",
    "flatten_axes[0].set_title(\"Latitud Inicial\", size=12)\n",
    "flatten_axes[1].set_title(\"Longitud Inicial\", size=12)\n",
    "flatten_axes[2].set_title(\"Latitud Final\", size=12)\n",
    "flatten_axes[3].set_title(\"Longitud Final\", size=12);"
   ]
  },
  {
   "cell_type": "markdown",
   "metadata": {},
   "source": [
    "#### Bike_id"
   ]
  },
  {
   "cell_type": "markdown",
   "metadata": {},
   "source": [
    "Total de valores únicos por ID de las bicicletas"
   ]
  },
  {
   "cell_type": "code",
   "execution_count": 27,
   "metadata": {},
   "outputs": [
    {
     "data": {
      "text/plain": [
       "4356"
      ]
     },
     "execution_count": 27,
     "metadata": {},
     "output_type": "execute_result"
    }
   ],
   "source": [
    "dataFrame[\"bike_id\"].nunique()"
   ]
  },
  {
   "cell_type": "markdown",
   "metadata": {},
   "source": [
    "¿Cuáles son las 10 bicicletas más usadas y menos usadas?"
   ]
  },
  {
   "cell_type": "markdown",
   "metadata": {},
   "source": [
    "Saber cuáles son las bicicletas más utilizadas permitiría hacer chequeos o reparación de manera sistemática a las mismas después de cierto umbral. <br>Por otro lado, saber cuales son las bicicletas menos utilizadas nos permitiría intercambiarlas con las anteriores para no interrumpir el ciclo de uso o bien, entender donde están siendo ubicadas estas bicicletas y el porqué no se están usando."
   ]
  },
  {
   "cell_type": "code",
   "execution_count": 28,
   "metadata": {},
   "outputs": [
    {
     "data": {
      "image/png": "[encoded data removed]",
      "text/plain": [
       "<Figure size 720x360 with 1 Axes>"
      ]
     },
     "metadata": {
      "needs_background": "light"
     },
     "output_type": "display_data"
    }
   ],
   "source": [
    "agrupado = dataFrame[\"bike_id\"].value_counts()[:10]\n",
    "plt.figure(figsize=(10, 5))\n",
    "sns.barplot(y=agrupado.index, x=agrupado, palette=\"Reds\")\n",
    "plt.xlabel(\"Count\")\n",
    "plt.title(\"Top 10 bicicletas con mayor uso\", size=13);"
   ]
  },
  {
   "cell_type": "code",
   "execution_count": 29,
   "metadata": {},
   "outputs": [
    {
     "data": {
      "text/plain": [
       "16238           1\n",
       "50587           1\n",
       "15450           1\n",
       "13764           1\n",
       "11319           1\n",
       "06495           1\n",
       "Dock Block 1    1\n",
       "15569           1\n",
       "Rblock          1\n",
       "19974           1\n",
       "Name: bike_id, dtype: int64"
      ]
     },
     "execution_count": 29,
     "metadata": {},
     "output_type": "execute_result"
    }
   ],
   "source": [
    "dataFrame[\"bike_id\"].value_counts()[-10:]"
   ]
  },
  {
   "cell_type": "markdown",
   "metadata": {},
   "source": [
    "#### Plan_duration\t"
   ]
  },
  {
   "cell_type": "markdown",
   "metadata": {},
   "source": [
    "En esta variable también tenemos valores nulos, analicemos el total, la proporción y si hay algun motivo"
   ]
  },
  {
   "cell_type": "code",
   "execution_count": 30,
   "metadata": {},
   "outputs": [
    {
     "data": {
      "text/html": [
       "<div>\n",
       "<style scoped>\n",
       "    .dataframe tbody tr th:only-of-type {\n",
       "        vertical-align: middle;\n",
       "    }\n",
       "\n",
       "    .dataframe tbody tr th {\n",
       "        vertical-align: top;\n",
       "    }\n",
       "\n",
       "    .dataframe thead th {\n",
       "        text-align: right;\n",
       "    }\n",
       "</style>\n",
       "<table border=\"1\" class=\"dataframe\">\n",
       "  <thead>\n",
       "    <tr style=\"text-align: right;\">\n",
       "      <th></th>\n",
       "      <th>Total-Valores-Nulos</th>\n",
       "      <th>Proporcion-Valores-Nulos</th>\n",
       "    </tr>\n",
       "  </thead>\n",
       "  <tbody>\n",
       "    <tr>\n",
       "      <th>plan_duration</th>\n",
       "      <td>208</td>\n",
       "      <td>0.03</td>\n",
       "    </tr>\n",
       "  </tbody>\n",
       "</table>\n",
       "</div>"
      ],
      "text/plain": [
       "               Total-Valores-Nulos  Proporcion-Valores-Nulos\n",
       "plan_duration                  208                      0.03"
      ]
     },
     "execution_count": 30,
     "metadata": {},
     "output_type": "execute_result"
    }
   ],
   "source": [
    "total_na_valores = pd.DataFrame(dataFrame[['plan_duration']].isna().sum())\n",
    "total_na_porcentaje = pd.DataFrame((dataFrame[['plan_duration']].isna().sum()*100/dataFrame.shape[0]).round(3))\n",
    "total_na_plan_duration = pd.concat([total_na_valores, total_na_porcentaje], axis=1)\n",
    "total_na_plan_duration.columns = [\"Total-Valores-Nulos\", \"Proporcion-Valores-Nulos\"]\n",
    "total_na_plan_duration"
   ]
  },
  {
   "cell_type": "code",
   "execution_count": 31,
   "metadata": {},
   "outputs": [
    {
     "data": {
      "text/html": [
       "<div>\n",
       "<style scoped>\n",
       "    .dataframe tbody tr th:only-of-type {\n",
       "        vertical-align: middle;\n",
       "    }\n",
       "\n",
       "    .dataframe tbody tr th {\n",
       "        vertical-align: top;\n",
       "    }\n",
       "\n",
       "    .dataframe thead th {\n",
       "        text-align: right;\n",
       "    }\n",
       "</style>\n",
       "<table border=\"1\" class=\"dataframe\">\n",
       "  <thead>\n",
       "    <tr style=\"text-align: right;\">\n",
       "      <th></th>\n",
       "      <th>plan_duration</th>\n",
       "    </tr>\n",
       "  </thead>\n",
       "  <tbody>\n",
       "    <tr>\n",
       "      <th>count</th>\n",
       "      <td>699792.000000</td>\n",
       "    </tr>\n",
       "    <tr>\n",
       "      <th>mean</th>\n",
       "      <td>44.928697</td>\n",
       "    </tr>\n",
       "    <tr>\n",
       "      <th>std</th>\n",
       "      <td>92.816296</td>\n",
       "    </tr>\n",
       "    <tr>\n",
       "      <th>min</th>\n",
       "      <td>0.000000</td>\n",
       "    </tr>\n",
       "    <tr>\n",
       "      <th>25%</th>\n",
       "      <td>1.000000</td>\n",
       "    </tr>\n",
       "    <tr>\n",
       "      <th>50%</th>\n",
       "      <td>30.000000</td>\n",
       "    </tr>\n",
       "    <tr>\n",
       "      <th>75%</th>\n",
       "      <td>30.000000</td>\n",
       "    </tr>\n",
       "    <tr>\n",
       "      <th>max</th>\n",
       "      <td>999.000000</td>\n",
       "    </tr>\n",
       "    <tr>\n",
       "      <th>skew</th>\n",
       "      <td>3.159952</td>\n",
       "    </tr>\n",
       "    <tr>\n",
       "      <th>kurtosis</th>\n",
       "      <td>8.881603</td>\n",
       "    </tr>\n",
       "  </tbody>\n",
       "</table>\n",
       "</div>"
      ],
      "text/plain": [
       "          plan_duration\n",
       "count     699792.000000\n",
       "mean          44.928697\n",
       "std           92.816296\n",
       "min            0.000000\n",
       "25%            1.000000\n",
       "50%           30.000000\n",
       "75%           30.000000\n",
       "max          999.000000\n",
       "skew           3.159952\n",
       "kurtosis       8.881603"
      ]
     },
     "execution_count": 31,
     "metadata": {},
     "output_type": "execute_result"
    }
   ],
   "source": [
    "estadisticas_plan_duration = generar_estadisticas_basicas(dataFrame[dataFrame[\"plan_duration\"].notna()][\"plan_duration\"])\n",
    "estadisticas_plan_duration"
   ]
  },
  {
   "cell_type": "code",
   "execution_count": 32,
   "metadata": {},
   "outputs": [
    {
     "data": {
      "image/png": "[encoded data removed]",
      "text/plain": [
       "<Figure size 720x432 with 2 Axes>"
      ]
     },
     "metadata": {
      "needs_background": "light"
     },
     "output_type": "display_data"
    }
   ],
   "source": [
    "fig, axes = plt.subplots(2, 1, figsize=(10, 6), tight_layout=True, gridspec_kw={'height_ratios':[0.6, 1.4]})\n",
    "sns.boxplot(x=dataFrame[\"plan_duration\"], color='red', ax=axes[0])\n",
    "sns.histplot(x=dataFrame[\"plan_duration\"], color='red', ax=axes[1]);"
   ]
  },
  {
   "cell_type": "markdown",
   "metadata": {},
   "source": [
    "Como podemos observar, en esta variable también tenemos un conjunto de datos atípicos. Pero como podemos ver en el histograma, tenemos una cantidad significativa de datos. <br>\n",
    "Haremos el análisis para determinar el total de datos atípicos que tenemos"
   ]
  },
  {
   "cell_type": "code",
   "execution_count": 33,
   "metadata": {},
   "outputs": [
    {
     "data": {
      "text/plain": [
       "(52623,)"
      ]
     },
     "execution_count": 33,
     "metadata": {},
     "output_type": "execute_result"
    }
   ],
   "source": [
    "dataFrame[dataFrame[\"plan_duration\"] > 150][\"plan_duration\"].shape"
   ]
  },
  {
   "cell_type": "markdown",
   "metadata": {},
   "source": [
    "El total de datos que tenemos nos dice que no son necesariamente datos atípicos. Al final, tenemos datos con una cola pesada. Posiblemente tendremos que tranformar estos datos."
   ]
  },
  {
   "cell_type": "markdown",
   "metadata": {},
   "source": [
    "#### trip_route_category"
   ]
  },
  {
   "cell_type": "code",
   "execution_count": 34,
   "metadata": {},
   "outputs": [
    {
     "data": {
      "text/html": [
       "<div>\n",
       "<style scoped>\n",
       "    .dataframe tbody tr th:only-of-type {\n",
       "        vertical-align: middle;\n",
       "    }\n",
       "\n",
       "    .dataframe tbody tr th {\n",
       "        vertical-align: top;\n",
       "    }\n",
       "\n",
       "    .dataframe thead th {\n",
       "        text-align: right;\n",
       "    }\n",
       "</style>\n",
       "<table border=\"1\" class=\"dataframe\">\n",
       "  <thead>\n",
       "    <tr style=\"text-align: right;\">\n",
       "      <th></th>\n",
       "      <th>trip_route_category</th>\n",
       "      <th>trip_route_category</th>\n",
       "    </tr>\n",
       "  </thead>\n",
       "  <tbody>\n",
       "    <tr>\n",
       "      <th>One Way</th>\n",
       "      <td>582076</td>\n",
       "      <td>83.153714</td>\n",
       "    </tr>\n",
       "    <tr>\n",
       "      <th>Round Trip</th>\n",
       "      <td>117924</td>\n",
       "      <td>16.846286</td>\n",
       "    </tr>\n",
       "  </tbody>\n",
       "</table>\n",
       "</div>"
      ],
      "text/plain": [
       "            trip_route_category  trip_route_category\n",
       "One Way                  582076            83.153714\n",
       "Round Trip               117924            16.846286"
      ]
     },
     "execution_count": 34,
     "metadata": {},
     "output_type": "execute_result"
    }
   ],
   "source": [
    "total_datos_route = pd.DataFrame(dataFrame[\"trip_route_category\"].value_counts())\n",
    "total_porce_route = pd.DataFrame(dataFrame[\"trip_route_category\"].value_counts(normalize=True)*100)\n",
    "total_data_route = pd.concat([total_datos_route, total_porce_route], axis=1)\n",
    "total_data_route"
   ]
  },
  {
   "cell_type": "code",
   "execution_count": 35,
   "metadata": {},
   "outputs": [
    {
     "data": {
      "image/png": "[encoded data removed]",
      "text/plain": [
       "<Figure size 576x360 with 1 Axes>"
      ]
     },
     "metadata": {
      "needs_background": "light"
     },
     "output_type": "display_data"
    }
   ],
   "source": [
    "agrupado = dataFrame[\"trip_route_category\"].value_counts()\n",
    "plt.figure(figsize=(8, 5))\n",
    "sns.barplot(x=agrupado.index, y=agrupado, palette=\"Reds\")\n",
    "plt.title(\"Frecuencia Categoría del Ruta\", size=13)\n",
    "plt.ylabel(\"Count\");"
   ]
  },
  {
   "cell_type": "markdown",
   "metadata": {},
   "source": [
    "#### passholder_type"
   ]
  },
  {
   "cell_type": "markdown",
   "metadata": {},
   "source": [
    "En esta variable también nos encontramos con datos vacíos. Aunque estos no representan ni el 1% de los datos."
   ]
  },
  {
   "cell_type": "code",
   "execution_count": 36,
   "metadata": {},
   "outputs": [
    {
     "data": {
      "text/html": [
       "<div>\n",
       "<style scoped>\n",
       "    .dataframe tbody tr th:only-of-type {\n",
       "        vertical-align: middle;\n",
       "    }\n",
       "\n",
       "    .dataframe tbody tr th {\n",
       "        vertical-align: top;\n",
       "    }\n",
       "\n",
       "    .dataframe thead th {\n",
       "        text-align: right;\n",
       "    }\n",
       "</style>\n",
       "<table border=\"1\" class=\"dataframe\">\n",
       "  <thead>\n",
       "    <tr style=\"text-align: right;\">\n",
       "      <th></th>\n",
       "      <th>Total-Valores-Nulos</th>\n",
       "      <th>Proporcion-Valores-Nulos</th>\n",
       "    </tr>\n",
       "  </thead>\n",
       "  <tbody>\n",
       "    <tr>\n",
       "      <th>passholder_type</th>\n",
       "      <td>2576</td>\n",
       "      <td>0.368</td>\n",
       "    </tr>\n",
       "  </tbody>\n",
       "</table>\n",
       "</div>"
      ],
      "text/plain": [
       "                 Total-Valores-Nulos  Proporcion-Valores-Nulos\n",
       "passholder_type                 2576                     0.368"
      ]
     },
     "execution_count": 36,
     "metadata": {},
     "output_type": "execute_result"
    }
   ],
   "source": [
    "total_na_valores = pd.DataFrame(dataFrame[['passholder_type']].isna().sum())\n",
    "total_na_porcentaje = pd.DataFrame((dataFrame[['passholder_type']].isna().sum()*100/dataFrame.shape[0]).round(3))\n",
    "total_na_pass_type = pd.concat([total_na_valores, total_na_porcentaje], axis=1)\n",
    "total_na_pass_type.columns = [\"Total-Valores-Nulos\", \"Proporcion-Valores-Nulos\"]\n",
    "total_na_pass_type"
   ]
  },
  {
   "cell_type": "code",
   "execution_count": 37,
   "metadata": {},
   "outputs": [
    {
     "data": {
      "text/html": [
       "<div>\n",
       "<style scoped>\n",
       "    .dataframe tbody tr th:only-of-type {\n",
       "        vertical-align: middle;\n",
       "    }\n",
       "\n",
       "    .dataframe tbody tr th {\n",
       "        vertical-align: top;\n",
       "    }\n",
       "\n",
       "    .dataframe thead th {\n",
       "        text-align: right;\n",
       "    }\n",
       "</style>\n",
       "<table border=\"1\" class=\"dataframe\">\n",
       "  <thead>\n",
       "    <tr style=\"text-align: right;\">\n",
       "      <th></th>\n",
       "      <th>passholder_type</th>\n",
       "      <th>passholder_type</th>\n",
       "    </tr>\n",
       "  </thead>\n",
       "  <tbody>\n",
       "    <tr>\n",
       "      <th>Monthly Pass</th>\n",
       "      <td>394769</td>\n",
       "      <td>56.603874</td>\n",
       "    </tr>\n",
       "    <tr>\n",
       "      <th>Walk-up</th>\n",
       "      <td>212426</td>\n",
       "      <td>30.458659</td>\n",
       "    </tr>\n",
       "    <tr>\n",
       "      <th>One Day Pass</th>\n",
       "      <td>44455</td>\n",
       "      <td>6.374171</td>\n",
       "    </tr>\n",
       "    <tr>\n",
       "      <th>Annual Pass</th>\n",
       "      <td>34092</td>\n",
       "      <td>4.888275</td>\n",
       "    </tr>\n",
       "    <tr>\n",
       "      <th>Flex Pass</th>\n",
       "      <td>11604</td>\n",
       "      <td>1.663837</td>\n",
       "    </tr>\n",
       "    <tr>\n",
       "      <th>Testing</th>\n",
       "      <td>78</td>\n",
       "      <td>0.011184</td>\n",
       "    </tr>\n",
       "  </tbody>\n",
       "</table>\n",
       "</div>"
      ],
      "text/plain": [
       "              passholder_type  passholder_type\n",
       "Monthly Pass           394769        56.603874\n",
       "Walk-up                212426        30.458659\n",
       "One Day Pass            44455         6.374171\n",
       "Annual Pass             34092         4.888275\n",
       "Flex Pass               11604         1.663837\n",
       "Testing                    78         0.011184"
      ]
     },
     "execution_count": 37,
     "metadata": {},
     "output_type": "execute_result"
    }
   ],
   "source": [
    "total_datos_pass = pd.DataFrame(dataFrame[\"passholder_type\"].value_counts())\n",
    "total_porce_pass = pd.DataFrame(dataFrame[\"passholder_type\"].value_counts(normalize=True)*100)\n",
    "total_data_pass = pd.concat([total_datos_pass, total_porce_pass], axis=1)\n",
    "total_data_pass"
   ]
  },
  {
   "cell_type": "markdown",
   "metadata": {},
   "source": [
    "Podemos notar que tenemos un tipo de pase que no representa ni el 1% del total. Al parecer son pruebas, podríamos no considerarlo."
   ]
  },
  {
   "cell_type": "code",
   "execution_count": 38,
   "metadata": {},
   "outputs": [
    {
     "data": {
      "image/png": "[encoded data removed]",
      "text/plain": [
       "<Figure size 576x360 with 1 Axes>"
      ]
     },
     "metadata": {
      "needs_background": "light"
     },
     "output_type": "display_data"
    }
   ],
   "source": [
    "agrupado = dataFrame[\"passholder_type\"].value_counts()\n",
    "plt.figure(figsize=(8, 5))\n",
    "sns.barplot(x=agrupado.index, y=agrupado, palette=\"Reds\")\n",
    "plt.title(\"Frecuencia Tipo de Pase\", size=13)\n",
    "plt.ylabel(\"Count\");"
   ]
  },
  {
   "cell_type": "markdown",
   "metadata": {},
   "source": [
    "#### start_station | end_station"
   ]
  },
  {
   "cell_type": "markdown",
   "metadata": {},
   "source": [
    "¿Cuántas estaciones únicas tenemos?"
   ]
  },
  {
   "cell_type": "code",
   "execution_count": 39,
   "metadata": {},
   "outputs": [
    {
     "data": {
      "text/plain": [
       "364"
      ]
     },
     "execution_count": 39,
     "metadata": {},
     "output_type": "execute_result"
    }
   ],
   "source": [
    "dataFrame[\"start_station\"].nunique()"
   ]
  },
  {
   "cell_type": "markdown",
   "metadata": {},
   "source": [
    "¿Cuáles son las estaciones de inicio y fin más frecuentadas?"
   ]
  },
  {
   "cell_type": "markdown",
   "metadata": {},
   "source": [
    "La estación más frecuentada tanto para el inicio como el fin es la estación 3005"
   ]
  },
  {
   "cell_type": "code",
   "execution_count": 40,
   "metadata": {},
   "outputs": [
    {
     "data": {
      "text/plain": [
       "3005    28490\n",
       "3030    20280\n",
       "3014    18739\n",
       "4214    17466\n",
       "3031    17069\n",
       "3035    15381\n",
       "3064    14733\n",
       "3082    13667\n",
       "4210    13379\n",
       "3042    12667\n",
       "Name: start_station, dtype: int64"
      ]
     },
     "execution_count": 40,
     "metadata": {},
     "output_type": "execute_result"
    }
   ],
   "source": [
    "agrupado = dataFrame[\"start_station\"].value_counts()[:10]\n",
    "agrupado"
   ]
  },
  {
   "cell_type": "code",
   "execution_count": 41,
   "metadata": {},
   "outputs": [
    {
     "data": {
      "image/png": "[encoded data removed]",
      "text/plain": [
       "<Figure size 720x360 with 1 Axes>"
      ]
     },
     "metadata": {
      "needs_background": "light"
     },
     "output_type": "display_data"
    }
   ],
   "source": [
    "plt.figure(figsize=(10, 5))\n",
    "sns.barplot(y=agrupado.index.astype(str), x=agrupado, palette=\"Reds\")\n",
    "plt.xlabel(\"Count\")\n",
    "plt.title(\"Top 10 Estaciones de Inicio más Frecuentadas\", size=13);"
   ]
  },
  {
   "cell_type": "code",
   "execution_count": 42,
   "metadata": {},
   "outputs": [
    {
     "data": {
      "text/plain": [
       "3005    30576\n",
       "3014    20688\n",
       "3031    18401\n",
       "3030    17407\n",
       "4215    16974\n",
       "3035    15830\n",
       "3082    15450\n",
       "3064    15048\n",
       "4214    15010\n",
       "3042    14852\n",
       "Name: end_station, dtype: int64"
      ]
     },
     "execution_count": 42,
     "metadata": {},
     "output_type": "execute_result"
    }
   ],
   "source": [
    "agrupado = dataFrame[\"end_station\"].value_counts()[:10]\n",
    "agrupado"
   ]
  },
  {
   "cell_type": "code",
   "execution_count": 43,
   "metadata": {},
   "outputs": [
    {
     "data": {
      "image/png": "[encoded data removed]",
      "text/plain": [
       "<Figure size 720x360 with 1 Axes>"
      ]
     },
     "metadata": {
      "needs_background": "light"
     },
     "output_type": "display_data"
    }
   ],
   "source": [
    "plt.figure(figsize=(10, 5))\n",
    "sns.barplot(y=agrupado.index.astype(str), x=agrupado, palette=\"Reds\")\n",
    "plt.xlabel(\"Count\")\n",
    "plt.title(\"Top 10 Estaciones de Fin más Frecuentadas\", size=13);"
   ]
  },
  {
   "cell_type": "markdown",
   "metadata": {},
   "source": [
    "### Resolución a preguntas de interés"
   ]
  },
  {
   "cell_type": "markdown",
   "metadata": {},
   "source": [
    "#### Pregunta 1\n",
    "Saturación del servicio: La empresa busca contar con la disponibilidad más alta\n",
    "de servicio en el mercado, por lo que se quiere entender cómo se comporta la\n",
    "demanda de servicio en las distintas estaciones y horarios para cada plan"
   ]
  },
  {
   "cell_type": "markdown",
   "metadata": {},
   "source": [
    "##### Monthly Pass"
   ]
  },
  {
   "cell_type": "code",
   "execution_count": 44,
   "metadata": {},
   "outputs": [],
   "source": [
    "monthly_pass = dataFrame[dataFrame[\"passholder_type\"] == \"Monthly Pass\"]"
   ]
  },
  {
   "cell_type": "markdown",
   "metadata": {},
   "source": [
    "¿Cuáles son las 3 estaciones que frecuentan los clientes con un __Monthly Pass__?"
   ]
  },
  {
   "cell_type": "code",
   "execution_count": 45,
   "metadata": {},
   "outputs": [
    {
     "data": {
      "image/png": "[encoded data removed]",
      "text/plain": [
       "<Figure size 720x360 with 1 Axes>"
      ]
     },
     "metadata": {
      "needs_background": "light"
     },
     "output_type": "display_data"
    }
   ],
   "source": [
    "agrupado_mp = monthly_pass[\"start_station\"].value_counts()[:3]\n",
    "plt.figure(figsize=(10, 5))\n",
    "sns.barplot(y=agrupado_mp.index.astype(str), x=agrupado_mp, palette=\"Reds\")\n",
    "plt.xlabel(\"Count\")\n",
    "plt.title(\"Top 3 Estaciones de Inicio más Frecuentadas por Monthly Pass\", size=13);"
   ]
  },
  {
   "cell_type": "code",
   "execution_count": 46,
   "metadata": {},
   "outputs": [],
   "source": [
    "monthly_pass_3005 = monthly_pass[monthly_pass[\"start_station\"] == 3005]\n",
    "monthly_pass_3030 = monthly_pass[monthly_pass[\"start_station\"] == 3030]\n",
    "monthly_pass_3014 = monthly_pass[monthly_pass[\"start_station\"] == 3014]"
   ]
  },
  {
   "cell_type": "code",
   "execution_count": 47,
   "metadata": {},
   "outputs": [
    {
     "data": {
      "image/png": "[encoded data removed]",
      "text/plain": [
       "<Figure size 936x360 with 4 Axes>"
      ]
     },
     "metadata": {
      "needs_background": "light"
     },
     "output_type": "display_data"
    }
   ],
   "source": [
    "pivot_mp_3005_i = pd.pivot_table(data=monthly_pass_3005, values=\"trip_id\", index=\"start_time_hour\", columns=\"start_time_minute\", aggfunc='count').fillna(0)\n",
    "pivot_mp_3005_f = pd.pivot_table(data=monthly_pass_3005, values=\"trip_id\", index=\"end_time_hour\", columns=\"end_time_minute\", aggfunc='count').fillna(0)\n",
    "\n",
    "generar_mapa_calor_2(pivot_mp_3005_i, pivot_mp_3005_f, '3005')"
   ]
  },
  {
   "cell_type": "code",
   "execution_count": 48,
   "metadata": {},
   "outputs": [
    {
     "data": {
      "image/png": "[encoded data removed]",
      "text/plain": [
       "<Figure size 936x360 with 4 Axes>"
      ]
     },
     "metadata": {
      "needs_background": "light"
     },
     "output_type": "display_data"
    }
   ],
   "source": [
    "pivot_mp_3030_i = pd.pivot_table(data=monthly_pass_3030, values=\"trip_id\", index=\"start_time_hour\", columns=\"start_time_minute\", aggfunc='count').fillna(0)\n",
    "pivot_mp_3030_f = pd.pivot_table(data=monthly_pass_3030, values=\"trip_id\", index=\"end_time_hour\", columns=\"end_time_minute\", aggfunc='count').fillna(0)\n",
    "\n",
    "generar_mapa_calor_2(pivot_mp_3030_i, pivot_mp_3030_f, '3030')"
   ]
  },
  {
   "cell_type": "code",
   "execution_count": 49,
   "metadata": {},
   "outputs": [
    {
     "data": {
      "image/png": "[encoded data removed]",
      "text/plain": [
       "<Figure size 936x360 with 4 Axes>"
      ]
     },
     "metadata": {
      "needs_background": "light"
     },
     "output_type": "display_data"
    }
   ],
   "source": [
    "pivot_mp_3014_i = pd.pivot_table(data=monthly_pass_3014, values=\"trip_id\", index=\"start_time_hour\", columns=\"start_time_minute\", aggfunc='count').fillna(0)\n",
    "pivot_mp_3014_f = pd.pivot_table(data=monthly_pass_3014, values=\"trip_id\", index=\"end_time_hour\", columns=\"end_time_minute\", aggfunc='count').fillna(0)\n",
    "\n",
    "generar_mapa_calor_2(pivot_mp_3014_i, pivot_mp_3014_f, '3014')"
   ]
  },
  {
   "cell_type": "markdown",
   "metadata": {},
   "source": [
    "##### Walk-Up"
   ]
  },
  {
   "cell_type": "code",
   "execution_count": 50,
   "metadata": {},
   "outputs": [],
   "source": [
    "walk_up = dataFrame[dataFrame[\"passholder_type\"] == \"Walk-up\"]"
   ]
  },
  {
   "cell_type": "markdown",
   "metadata": {},
   "source": [
    "¿Cuáles son las 3 estaciones que frecuentan los clientes con un __Walk-up__?"
   ]
  },
  {
   "cell_type": "code",
   "execution_count": 51,
   "metadata": {},
   "outputs": [
    {
     "data": {
      "image/png": "[encoded data removed]",
      "text/plain": [
       "<Figure size 720x360 with 1 Axes>"
      ]
     },
     "metadata": {
      "needs_background": "light"
     },
     "output_type": "display_data"
    }
   ],
   "source": [
    "agrupado_wu = walk_up[\"start_station\"].value_counts()[:3]\n",
    "plt.figure(figsize=(10, 5))\n",
    "sns.barplot(y=agrupado_wu.index.astype(str), x=agrupado_wu, palette=\"Reds\")\n",
    "plt.xlabel(\"Count\")\n",
    "plt.title(\"Top 3 Estaciones de Inicio más Frecuentadas por Walk-Up\", size=13);"
   ]
  },
  {
   "cell_type": "code",
   "execution_count": 52,
   "metadata": {},
   "outputs": [],
   "source": [
    "walk_up_4214 = walk_up[walk_up[\"start_station\"] == 4214]\n",
    "walk_up_4210 = walk_up[walk_up[\"start_station\"] == 4210]\n",
    "walk_up_4215 = walk_up[walk_up[\"start_station\"] == 4215]"
   ]
  },
  {
   "cell_type": "code",
   "execution_count": 53,
   "metadata": {},
   "outputs": [
    {
     "data": {
      "image/png": "[encoded data removed]",
      "text/plain": [
       "<Figure size 936x360 with 4 Axes>"
      ]
     },
     "metadata": {
      "needs_background": "light"
     },
     "output_type": "display_data"
    }
   ],
   "source": [
    "pivot_wu_4214_i = pd.pivot_table(data=walk_up_4214, values=\"trip_id\", index=\"start_time_hour\", columns=\"start_time_minute\", aggfunc='count').fillna(0)\n",
    "pivot_wu_4214_f = pd.pivot_table(data=walk_up_4214, values=\"trip_id\", index=\"end_time_hour\", columns=\"end_time_minute\", aggfunc='count').fillna(0)\n",
    "\n",
    "generar_mapa_calor_2(pivot_wu_4214_i, pivot_wu_4214_f, '4214')"
   ]
  },
  {
   "cell_type": "code",
   "execution_count": 54,
   "metadata": {},
   "outputs": [
    {
     "data": {
      "image/png": "[encoded data removed]",
      "text/plain": [
       "<Figure size 936x360 with 4 Axes>"
      ]
     },
     "metadata": {
      "needs_background": "light"
     },
     "output_type": "display_data"
    }
   ],
   "source": [
    "pivot_wu_4210_i = pd.pivot_table(data=walk_up_4210, values=\"trip_id\", index=\"start_time_hour\", columns=\"start_time_minute\", aggfunc='count').fillna(0)\n",
    "pivot_wu_4210_f = pd.pivot_table(data=walk_up_4210, values=\"trip_id\", index=\"end_time_hour\", columns=\"end_time_minute\", aggfunc='count').fillna(0)\n",
    "\n",
    "generar_mapa_calor_2(pivot_wu_4210_i, pivot_wu_4210_f, '4210')"
   ]
  },
  {
   "cell_type": "code",
   "execution_count": 55,
   "metadata": {},
   "outputs": [
    {
     "data": {
      "image/png": "[encoded data removed]",
      "text/plain": [
       "<Figure size 936x360 with 4 Axes>"
      ]
     },
     "metadata": {
      "needs_background": "light"
     },
     "output_type": "display_data"
    }
   ],
   "source": [
    "pivot_wu_4215_i = pd.pivot_table(data=walk_up_4215, values=\"trip_id\", index=\"start_time_hour\", columns=\"start_time_minute\", aggfunc='count').fillna(0)\n",
    "pivot_wu_4215_f = pd.pivot_table(data=walk_up_4215, values=\"trip_id\", index=\"end_time_hour\", columns=\"end_time_minute\", aggfunc='count').fillna(0)\n",
    "\n",
    "generar_mapa_calor_2(pivot_wu_4215_i, pivot_wu_4215_f, '4215')"
   ]
  },
  {
   "cell_type": "markdown",
   "metadata": {},
   "source": [
    "##### One Day Pass"
   ]
  },
  {
   "cell_type": "code",
   "execution_count": 56,
   "metadata": {},
   "outputs": [],
   "source": [
    "one_day_pass = dataFrame[dataFrame[\"passholder_type\"] == \"One Day Pass\"]"
   ]
  },
  {
   "cell_type": "markdown",
   "metadata": {},
   "source": [
    "¿Cuáles son las 3 estaciones que frecuentan los clientes con un __One Day Pass__?"
   ]
  },
  {
   "cell_type": "code",
   "execution_count": 57,
   "metadata": {},
   "outputs": [
    {
     "data": {
      "image/png": "[encoded data removed]",
      "text/plain": [
       "<Figure size 720x360 with 1 Axes>"
      ]
     },
     "metadata": {
      "needs_background": "light"
     },
     "output_type": "display_data"
    }
   ],
   "source": [
    "agrupado_odp = walk_up[\"start_station\"].value_counts()[:3]\n",
    "plt.figure(figsize=(10, 5))\n",
    "sns.barplot(y=agrupado_odp.index.astype(str), x=agrupado_odp, palette=\"Reds\")\n",
    "plt.xlabel(\"Count\")\n",
    "plt.title(\"Top 3 Estaciones de Inicio más Frecuentadas por One Day Pass\", size=13);"
   ]
  },
  {
   "cell_type": "code",
   "execution_count": 58,
   "metadata": {},
   "outputs": [],
   "source": [
    "one_day_pass_4214 = one_day_pass[one_day_pass[\"start_station\"] == 4214]\n",
    "one_day_pass_4210 = one_day_pass[one_day_pass[\"start_station\"] == 4210]\n",
    "one_day_pass_4215 = one_day_pass[one_day_pass[\"start_station\"] == 4215]"
   ]
  },
  {
   "cell_type": "code",
   "execution_count": 59,
   "metadata": {},
   "outputs": [
    {
     "data": {
      "image/png": "[encoded data removed]",
      "text/plain": [
       "<Figure size 936x360 with 4 Axes>"
      ]
     },
     "metadata": {
      "needs_background": "light"
     },
     "output_type": "display_data"
    }
   ],
   "source": [
    "pivot_odp_4214_i = pd.pivot_table(data=one_day_pass_4214, values=\"trip_id\", index=\"start_time_hour\", columns=\"start_time_minute\", aggfunc='count').fillna(0)\n",
    "pivot_odp_4214_f = pd.pivot_table(data=one_day_pass_4214, values=\"trip_id\", index=\"end_time_hour\", columns=\"end_time_minute\", aggfunc='count').fillna(0)\n",
    "\n",
    "generar_mapa_calor_2(pivot_odp_4214_i, pivot_odp_4214_f, '4214')"
   ]
  },
  {
   "cell_type": "code",
   "execution_count": 60,
   "metadata": {},
   "outputs": [
    {
     "data": {
      "image/png": "[encoded data removed]",
      "text/plain": [
       "<Figure size 936x360 with 4 Axes>"
      ]
     },
     "metadata": {
      "needs_background": "light"
     },
     "output_type": "display_data"
    }
   ],
   "source": [
    "pivot_odp_4210_i = pd.pivot_table(data=one_day_pass_4210, values=\"trip_id\", index=\"start_time_hour\", columns=\"start_time_minute\", aggfunc='count').fillna(0)\n",
    "pivot_odp_4210_f = pd.pivot_table(data=one_day_pass_4210, values=\"trip_id\", index=\"end_time_hour\", columns=\"end_time_minute\", aggfunc='count').fillna(0)\n",
    "\n",
    "generar_mapa_calor_2(pivot_odp_4210_i, pivot_odp_4210_f, '4210')"
   ]
  },
  {
   "cell_type": "code",
   "execution_count": 61,
   "metadata": {},
   "outputs": [
    {
     "data": {
      "image/png": "[encoded data removed]",
      "text/plain": [
       "<Figure size 936x360 with 4 Axes>"
      ]
     },
     "metadata": {
      "needs_background": "light"
     },
     "output_type": "display_data"
    }
   ],
   "source": [
    "pivot_odp_4215_i = pd.pivot_table(data=one_day_pass_4215, values=\"trip_id\", index=\"start_time_hour\", columns=\"start_time_minute\", aggfunc='count').fillna(0)\n",
    "pivot_odp_4215_f = pd.pivot_table(data=one_day_pass_4215, values=\"trip_id\", index=\"end_time_hour\", columns=\"end_time_minute\", aggfunc='count').fillna(0)\n",
    "\n",
    "generar_mapa_calor_2(pivot_odp_4215_i, pivot_odp_4215_f, '4215')"
   ]
  },
  {
   "cell_type": "markdown",
   "metadata": {},
   "source": [
    "##### Annual Pass"
   ]
  },
  {
   "cell_type": "code",
   "execution_count": 62,
   "metadata": {},
   "outputs": [],
   "source": [
    "annual_pass = dataFrame[dataFrame[\"passholder_type\"] == \"Annual Pass\"]"
   ]
  },
  {
   "cell_type": "markdown",
   "metadata": {},
   "source": [
    "¿Cuáles son las 3 estaciones que frecuentan los clientes con un __Annual Pass__?"
   ]
  },
  {
   "cell_type": "code",
   "execution_count": 63,
   "metadata": {},
   "outputs": [
    {
     "data": {
      "image/png": "[encoded data removed]",
      "text/plain": [
       "<Figure size 720x360 with 1 Axes>"
      ]
     },
     "metadata": {
      "needs_background": "light"
     },
     "output_type": "display_data"
    }
   ],
   "source": [
    "agrupado_ap = annual_pass[\"start_station\"].value_counts()[:3]\n",
    "plt.figure(figsize=(10, 5))\n",
    "sns.barplot(y=agrupado_ap.index.astype(str), x=agrupado_ap, palette=\"Reds\")\n",
    "plt.xlabel(\"Count\")\n",
    "plt.title(\"Top 3 Estaciones de Inicio más Frecuentadas por Annual Pass\", size=13);"
   ]
  },
  {
   "cell_type": "code",
   "execution_count": 64,
   "metadata": {},
   "outputs": [],
   "source": [
    "annual_pass_3005 = annual_pass[annual_pass[\"start_station\"] == 3005]\n",
    "annual_pass_3034 = annual_pass[annual_pass[\"start_station\"] == 3034]\n",
    "annual_pass_3007 = annual_pass[annual_pass[\"start_station\"] == 3007]"
   ]
  },
  {
   "cell_type": "code",
   "execution_count": 65,
   "metadata": {},
   "outputs": [
    {
     "data": {
      "image/png": "[encoded data removed]",
      "text/plain": [
       "<Figure size 936x360 with 4 Axes>"
      ]
     },
     "metadata": {
      "needs_background": "light"
     },
     "output_type": "display_data"
    }
   ],
   "source": [
    "pivot_ap_3005_i = pd.pivot_table(data=annual_pass_3005, values=\"trip_id\", index=\"start_time_hour\", columns=\"start_time_minute\", aggfunc='count').fillna(0)\n",
    "pivot_ap_3005_f = pd.pivot_table(data=annual_pass_3005, values=\"trip_id\", index=\"end_time_hour\", columns=\"end_time_minute\", aggfunc='count').fillna(0)\n",
    "\n",
    "generar_mapa_calor_2(pivot_ap_3005_i, pivot_ap_3005_f, '3005')\n"
   ]
  },
  {
   "cell_type": "code",
   "execution_count": 66,
   "metadata": {},
   "outputs": [
    {
     "data": {
      "image/png": "[encoded data removed]",
      "text/plain": [
       "<Figure size 936x360 with 4 Axes>"
      ]
     },
     "metadata": {
      "needs_background": "light"
     },
     "output_type": "display_data"
    }
   ],
   "source": [
    "pivot_ap_3034_i = pd.pivot_table(data=annual_pass_3034, values=\"trip_id\", index=\"start_time_hour\", columns=\"start_time_minute\", aggfunc='count').fillna(0)\n",
    "pivot_ap_3034_f = pd.pivot_table(data=annual_pass_3034, values=\"trip_id\", index=\"end_time_hour\", columns=\"end_time_minute\", aggfunc='count').fillna(0)\n",
    "\n",
    "generar_mapa_calor_2(pivot_ap_3034_i, pivot_ap_3034_f, '3034')\n"
   ]
  },
  {
   "cell_type": "code",
   "execution_count": 67,
   "metadata": {},
   "outputs": [
    {
     "data": {
      "image/png": "[encoded data removed]",
      "text/plain": [
       "<Figure size 936x360 with 4 Axes>"
      ]
     },
     "metadata": {
      "needs_background": "light"
     },
     "output_type": "display_data"
    }
   ],
   "source": [
    "pivot_ap_3007_i = pd.pivot_table(data=annual_pass_3007, values=\"trip_id\", index=\"start_time_hour\", columns=\"start_time_minute\", aggfunc='count').fillna(0)\n",
    "pivot_ap_3007_f = pd.pivot_table(data=annual_pass_3007, values=\"trip_id\", index=\"end_time_hour\", columns=\"end_time_minute\", aggfunc='count').fillna(0)\n",
    "generar_mapa_calor_2(pivot_ap_3007_i, pivot_ap_3007_f, '3007')"
   ]
  },
  {
   "cell_type": "markdown",
   "metadata": {},
   "source": [
    "#### Pregunta 2\n",
    "Crecimiento de planes: Se tiene la intuición que la tendencia en uso de\n",
    "bicicletas compartidas entre estaciones va a la alta, por lo que se requiere\n",
    "realizar una correcta planificación de bicicletas que deben tener.\n",
    "Adicionalmente, se espera que los planes de consumo anual crezcan en mayor\n",
    "proporción."
   ]
  },
  {
   "cell_type": "code",
   "execution_count": 68,
   "metadata": {},
   "outputs": [
    {
     "data": {
      "image/png": "[encoded data removed]",
      "text/plain": [
       "<Figure size 720x360 with 1 Axes>"
      ]
     },
     "metadata": {
      "needs_background": "light"
     },
     "output_type": "display_data"
    }
   ],
   "source": [
    "agrupado = dataFrame[\"start_station\"].value_counts()[:20]\n",
    "plt.figure(figsize=(10, 5))\n",
    "sns.barplot(y=agrupado.index.astype(str), x=agrupado, palette=\"Reds\")\n",
    "plt.xlabel(\"Count\")\n",
    "plt.title(\"Top 15 Estaciones de Inicio más Frecuentadas\", size=13);"
   ]
  },
  {
   "cell_type": "code",
   "execution_count": 69,
   "metadata": {},
   "outputs": [
    {
     "data": {
      "image/png": "[encoded data removed]",
      "text/plain": [
       "<Figure size 720x360 with 1 Axes>"
      ]
     },
     "metadata": {
      "needs_background": "light"
     },
     "output_type": "display_data"
    }
   ],
   "source": [
    "agrupado = dataFrame[\"bike_id\"].value_counts()[:15]\n",
    "plt.figure(figsize=(10, 5))\n",
    "sns.barplot(y=agrupado.index.astype(str), x=agrupado, palette=\"Reds\")\n",
    "plt.xlabel(\"Count\")\n",
    "plt.title(\"Top 15 Bicicletas más Usadas\", size=13);"
   ]
  },
  {
   "cell_type": "code",
   "execution_count": 70,
   "metadata": {},
   "outputs": [
    {
     "name": "stdout",
     "output_type": "stream",
     "text": [
      "Porcentaje que ocupan las 20 estaciones más frecuentadas: 5.49%\n",
      "Porcentaje que ocupan las 30 estaciones más frecuentadas: 8.24%\n",
      "Porcentaje que ocupan las 40 estaciones más frecuentadas: 10.99%\n"
     ]
    }
   ],
   "source": [
    "# Cuales son las 20 estaciones mas frecuentas y que porcentaje de las bicicletas usan\n",
    "top_20_estaciones = dataFrame['start_station'].value_counts()[:20].index\n",
    "top_30_estaciones = dataFrame['start_station'].value_counts()[:30].index\n",
    "top_40_estaciones = dataFrame['start_station'].value_counts()[:40].index\n",
    "\n",
    "total_estaciones = dataFrame[\"start_station\"].nunique()\n",
    "total_bicicletas = dataFrame[\"bike_id\"].nunique()\n",
    "\n",
    "top_20_estaciones_data = dataFrame[dataFrame['start_station'].isin(top_20_estaciones)]\n",
    "top_30_estaciones_data = dataFrame[dataFrame['start_station'].isin(top_30_estaciones)]\n",
    "top_40_estaciones_data = dataFrame[dataFrame['start_station'].isin(top_40_estaciones)]\n",
    "\n",
    "print(f\"Porcentaje que ocupan las 20 estaciones más frecuentadas: {round(20*100/total_estaciones, 2)}%\")\n",
    "print(f\"Porcentaje que ocupan las 30 estaciones más frecuentadas: {round(30*100/total_estaciones, 2)}%\")\n",
    "print(f\"Porcentaje que ocupan las 40 estaciones más frecuentadas: {round(40*100/total_estaciones, 2)}%\")"
   ]
  },
  {
   "cell_type": "markdown",
   "metadata": {},
   "source": [
    "¿Qué porcentaje de bicicletas ocupan las 20 estaciones más frecuentadas?"
   ]
  },
  {
   "cell_type": "code",
   "execution_count": 71,
   "metadata": {},
   "outputs": [
    {
     "name": "stdout",
     "output_type": "stream",
     "text": [
      "Porcentaje de bicicletas ocupadas por las 20 estaciones más frecuentadas: 82.32%\n"
     ]
    }
   ],
   "source": [
    "resultado = round(top_20_estaciones_data[\"bike_id\"].nunique()*100/total_bicicletas, 2)\n",
    "print(f\"Porcentaje de bicicletas ocupadas por las 20 estaciones más frecuentadas: {resultado}%\")"
   ]
  },
  {
   "cell_type": "markdown",
   "metadata": {},
   "source": [
    "¿Qué porcentaje de bicicletas ocupan las 30 estaciones más frecuentadas?"
   ]
  },
  {
   "cell_type": "code",
   "execution_count": 72,
   "metadata": {},
   "outputs": [
    {
     "name": "stdout",
     "output_type": "stream",
     "text": [
      "Porcentaje de bicicletas ocupadas por las 30 estaciones más frecuentadas: 82.39%\n"
     ]
    }
   ],
   "source": [
    "resultado = round(top_30_estaciones_data[\"bike_id\"].nunique()*100/total_bicicletas, 2)\n",
    "print(f\"Porcentaje de bicicletas ocupadas por las 30 estaciones más frecuentadas: {resultado}%\")"
   ]
  },
  {
   "cell_type": "markdown",
   "metadata": {},
   "source": [
    "¿Qué porcentaje de bicicletas ocupan las 40 estaciones más frecuentadas?"
   ]
  },
  {
   "cell_type": "code",
   "execution_count": 73,
   "metadata": {},
   "outputs": [
    {
     "name": "stdout",
     "output_type": "stream",
     "text": [
      "Porcentaje de bicicletas ocupadas por las 40 estaciones más frecuentadas: 82.48%\n"
     ]
    }
   ],
   "source": [
    "resultado = round(top_40_estaciones_data[\"bike_id\"].nunique()*100/total_bicicletas, 2)\n",
    "print(f\"Porcentaje de bicicletas ocupadas por las 40 estaciones más frecuentadas: {resultado}%\")"
   ]
  },
  {
   "cell_type": "markdown",
   "metadata": {},
   "source": [
    "¿Qué porcentaje de viajes ocurre en las 20 estaciones más frecuentadas?"
   ]
  },
  {
   "cell_type": "code",
   "execution_count": 74,
   "metadata": {},
   "outputs": [
    {
     "name": "stdout",
     "output_type": "stream",
     "text": [
      "Porcentaje de viajes por las 20 estaciones más frecuentadas: 40.03%\n"
     ]
    }
   ],
   "source": [
    "total_viajes = top_20_estaciones_data.shape[0]\n",
    "resultado = round(total_viajes*100/dataFrame.shape[0], 2)\n",
    "print(f\"Porcentaje de viajes por las 20 estaciones más frecuentadas: {resultado}%\")"
   ]
  },
  {
   "cell_type": "markdown",
   "metadata": {},
   "source": [
    "¿Qué porcentaje de viajes ocurre en las 30 estaciones más frecuentadas?"
   ]
  },
  {
   "cell_type": "code",
   "execution_count": 75,
   "metadata": {},
   "outputs": [
    {
     "name": "stdout",
     "output_type": "stream",
     "text": [
      "Porcentaje de viajes por las 30 estaciones más frecuentadas: 51.96%\n"
     ]
    }
   ],
   "source": [
    "total_viajes = top_30_estaciones_data.shape[0]\n",
    "resultado = round(total_viajes*100/dataFrame.shape[0], 2)\n",
    "print(f\"Porcentaje de viajes por las 30 estaciones más frecuentadas: {resultado}%\")"
   ]
  },
  {
   "cell_type": "markdown",
   "metadata": {},
   "source": [
    "¿Qué porcentaje de viajes ocurre en las 40 estaciones más frecuentadas?"
   ]
  },
  {
   "cell_type": "code",
   "execution_count": 76,
   "metadata": {},
   "outputs": [
    {
     "name": "stdout",
     "output_type": "stream",
     "text": [
      "Porcentaje de viajes por las 40 estaciones más frecuentadas: 60.52%\n"
     ]
    }
   ],
   "source": [
    "total_viajes = top_40_estaciones_data.shape[0]\n",
    "resultado = round(total_viajes*100/dataFrame.shape[0], 2)\n",
    "print(f\"Porcentaje de viajes por las 40 estaciones más frecuentadas: {resultado}%\")"
   ]
  },
  {
   "cell_type": "code",
   "execution_count": 97,
   "metadata": {},
   "outputs": [],
   "source": [
    "coordenadas = dataFrame.groupby(\"start_station\").agg({\"start_lat\":\"min\", \"start_lon\":\"min\", \"trip_id\":\"count\"}).reset_index().sort_values(\"trip_id\", ascending=False)\n",
    "coordenadas[\"color\"] = \"Others\"\n",
    "coordenadas.loc[coordenadas[\"start_station\"].isin(top_20_estaciones), \"color\"] = 'Top 20'"
   ]
  },
  {
   "cell_type": "code",
   "execution_count": 98,
   "metadata": {
    "scrolled": false
   },
   "outputs": [
    {
     "data": {
      "application/vnd.plotly.v1+json": {
       "config": {
        "plotlyServerURL": "https://plot.ly"
       },
       "data": [
        {
         "geo": "geo",
         "hovertemplate": "<b>%{hovertext}</b><br><br>color=Top 20<br>trip_id=%{marker.size}<br>start_lat=%{lat}<br>start_lon=%{lon}<extra></extra>",
         "hovertext": [
          "3005",
          "3030",
          "3014",
          "4214",
          "3031",
          "3035",
          "3064",
          "3082",
          "4210",
          "3042",
          "3006",
          "3069",
          "3067",
          "4215",
          "3007",
          "3074",
          "3068",
          "3022",
          "3049",
          "3063"
         ],
         "lat": [
          34.0485,
          34.051941,
          34.05661,
          33.99556,
          34.044701,
          34.048401,
          34.046131,
          34.04652,
          33.984341,
          34.049301,
          34.04554,
          34.05088,
          34.045181,
          34.014309,
          34.05048,
          34.04417,
          34.0532,
          34.04607,
          34.056969,
          34.048038
         ],
         "legendgroup": "Top 20",
         "lon": [
          -118.259048,
          -118.24353,
          -118.237213,
          -118.481552,
          -118.252441,
          -118.260948,
          -118.257591,
          -118.237411,
          -118.47155,
          -118.238808,
          -118.256668,
          -118.248253,
          -118.250237,
          -118.491341,
          -118.254593,
          -118.261169,
          -118.250954,
          -118.233093,
          -118.253593,
          -118.253738
         ],
         "marker": {
          "color": "#636efa",
          "size": [
           28490,
           20280,
           18739,
           17466,
           17069,
           15381,
           14733,
           13667,
           13379,
           12667,
           12645,
           12638,
           11633,
           10776,
           10774,
           10427,
           10420,
           9959,
           9707,
           9363
          ],
          "sizemode": "area",
          "sizeref": 71.225,
          "symbol": "circle"
         },
         "mode": "markers",
         "name": "Top 20",
         "showlegend": true,
         "type": "scattergeo"
        },
        {
         "geo": "geo",
         "hovertemplate": "<b>%{hovertext}</b><br><br>color=Others<br>trip_id=%{marker.size}<br>start_lat=%{lat}<br>start_lon=%{lon}<extra></extra>",
         "hovertext": [
          "3008",
          "3075",
          "3034",
          "3038",
          "3027",
          "3032",
          "3047",
          "3052",
          "3019",
          "3048",
          "3076",
          "3062",
          "3066",
          "3018",
          "3029",
          "3026",
          "3051",
          "3023",
          "3011",
          "4209",
          "3016",
          "4345",
          "4212",
          "4220",
          "3040",
          "4211",
          "3046",
          "3055",
          "3033",
          "3028",
          "4346",
          "4491",
          "3058",
          "3036",
          "4285",
          "3078",
          "4202",
          "3056",
          "3037",
          "3024",
          "4543",
          "3077",
          "4344",
          "3054",
          "4410",
          "3065",
          "4266",
          "4315",
          "4273",
          "4304",
          "4204",
          "4249",
          "4126",
          "4207",
          "3057",
          "3081",
          "4250",
          "4544",
          "4246",
          "3025",
          "3020",
          "4162",
          "4205",
          "4245",
          "4153",
          "3010",
          "4216",
          "4300",
          "4347",
          "4444",
          "4206",
          "4314",
          "4401",
          "4208",
          "4131",
          "4447",
          "3079",
          "4248",
          "4440",
          "4349",
          "3045",
          "4558",
          "4181",
          "4227",
          "4420",
          "4353",
          "4406",
          "4390",
          "4482",
          "4165",
          "4311",
          "4176",
          "3000",
          "4313",
          "4475",
          "4180",
          "4456",
          "4448",
          "4404",
          "4142",
          "4159",
          "4454",
          "4254",
          "4483",
          "4493",
          "4132",
          "4130",
          "4387",
          "4306",
          "4512",
          "4163",
          "4138",
          "4151",
          "4177",
          "4129",
          "4133",
          "4157",
          "4490",
          "4476",
          "4524",
          "4293",
          "4183",
          "4275",
          "4455",
          "4302",
          "4516",
          "4286",
          "4449",
          "4342",
          "4509",
          "4301",
          "4144",
          "4445",
          "4147",
          "4480",
          "4545",
          "4405",
          "4247",
          "4570",
          "4150",
          "4583",
          "4450",
          "4312",
          "4267",
          "4566",
          "4303",
          "4472",
          "4523",
          "4166",
          "4330",
          "4160",
          "4169",
          "4494",
          "4546",
          "4443",
          "4446",
          "4213",
          "4510",
          "4568",
          "4154",
          "4563",
          "4134",
          "4158",
          "4473",
          "4538",
          "4437",
          "4564",
          "4442",
          "4329",
          "4156",
          "4170",
          "4474",
          "4441",
          "4146",
          "4352",
          "4555",
          "4149",
          "4581",
          "4453",
          "4479",
          "4152",
          "4567",
          "4155",
          "4135",
          "4478",
          "4518",
          "4548",
          "4351",
          "4167",
          "4486",
          "4504",
          "4354",
          "4340",
          "4343",
          "4436",
          "4536",
          "4553",
          "4554",
          "4348",
          "4322",
          "4325",
          "4334",
          "4335",
          "4547",
          "4148",
          "4438",
          "4587",
          "4331",
          "4571",
          "4174",
          "4511",
          "4350",
          "4582",
          "4540",
          "4451",
          "4452",
          "4439",
          "3060",
          "4324",
          "4323",
          "4429",
          "4409",
          "4428",
          "4569",
          "4576",
          "4578",
          "4556",
          "4136",
          "4470",
          "4400",
          "4484",
          "4414",
          "4431",
          "4393",
          "4417",
          "4549",
          "4255",
          "3080",
          "4469",
          "4415",
          "4575",
          "4425",
          "3059",
          "4562",
          "4492",
          "4513",
          "4561",
          "4457",
          "4127",
          "4372",
          "4426",
          "4460",
          "4336",
          "4577",
          "4389",
          "4341",
          "4397",
          "4572",
          "4557",
          "4565",
          "4413",
          "4422",
          "4419",
          "4427",
          "4332",
          "4573",
          "4333",
          "4496",
          "4217",
          "4458",
          "4521",
          "4580",
          "3013",
          "4461",
          "4328",
          "4459",
          "4416",
          "4559",
          "4381",
          "4579",
          "4430",
          "4338",
          "4378",
          "4383",
          "4108",
          "4560",
          "4382",
          "4502",
          "4463",
          "4497",
          "4380",
          "4552",
          "4394",
          "4385",
          "4396",
          "4462",
          "4125",
          "4276",
          "4503",
          "4408",
          "4407",
          "4418",
          "4337",
          "4499",
          "4534",
          "4402",
          "4384",
          "3039",
          "4537",
          "4194",
          "4432",
          "4500",
          "4403",
          "4505",
          "4379",
          "4539",
          "4525",
          "4356",
          "4508",
          "4529",
          "4584",
          "4517",
          "4244",
          "4498",
          "4526",
          "4542",
          "4477",
          "4435",
          "3061",
          "4593",
          "4357",
          "3009",
          "4594",
          "4527",
          "4541",
          "4321",
          "4374",
          "4363",
          "4528",
          "4395",
          "4369",
          "4373",
          "4327",
          "4143"
         ],
         "lat": [
          34.046612,
          34.04211,
          34.042061,
          34.046822,
          34.04998,
          34.049889,
          34.039982,
          34.051102,
          34.038609,
          34.041691,
          34.0406,
          34.047749,
          34.063389,
          34.043732,
          34.048851,
          34.063179,
          34.045422,
          34.050911,
          34.04113,
          33.996239,
          34.052898,
          33.995281,
          33.988129,
          34.074829,
          34.05357,
          33.984928,
          34.052872,
          34.044159,
          34.040989,
          34.058319,
          33.984341,
          34.04744,
          34.035801,
          34.039188,
          null,
          34.064281,
          33.991161,
          34.03746,
          34.034801,
          34.05772,
          33.95718,
          34.039871,
          34.014309,
          34.039219,
          34.063351,
          34.060558,
          34.026291,
          34.054031,
          34.02586,
          34.06258,
          33.988419,
          34.020302,
          33.710979,
          34.000881,
          34.035679,
          34.031891,
          34.03017,
          33.928459,
          34.023708,
          34.03286,
          34.031052,
          34.147499,
          33.993771,
          34.02404,
          34.156181,
          34.037048,
          34.023392,
          34.04887,
          33.984928,
          34.061619,
          33.998341,
          34.057709,
          34.075611,
          33.99868,
          33.738979,
          34.0616,
          34.05014,
          34.028351,
          34.061661,
          33.996239,
          34.028511,
          34.025688,
          34.146221,
          34.0298,
          34.168629,
          33.988129,
          34.101891,
          34.069271,
          34.094372,
          34.14175,
          34.059689,
          34.137859,
          34.025841,
          34.056808,
          34.045181,
          34.137951,
          34.052429,
          34.03027,
          34.04813,
          34.144588,
          34.145901,
          34.017899,
          34.028679,
          34.1007,
          34.090279,
          33.74913,
          33.719261,
          34.03352,
          34.057652,
          34.043812,
          34.150471,
          34.145691,
          34.142361,
          34.144981,
          33.725819,
          33.733521,
          34.140999,
          34.053551,
          34.08252,
          34.06163,
          34.062279,
          34.146069,
          34.01252,
          34.10936,
          34.092491,
          34.045849,
          null,
          34.04557,
          33.991161,
          34.101639,
          34.099049,
          34.142399,
          34.073639,
          34.145248,
          34.05896,
          33.95879,
          34.051899,
          34.033642,
          34.01376,
          34.15427,
          33.976189,
          34.063492,
          34.06699,
          34.027618,
          34.023392,
          34.098011,
          34.092602,
          34.068748,
          34.145908,
          34.025688,
          34.133011,
          34.146961,
          34.075981,
          34.031399,
          34.02166,
          34.05323,
          33.994701,
          34.077351,
          34.029121,
          34.15612,
          34.017681,
          33.74136,
          34.13525,
          34.07159,
          34.06543,
          34.105358,
          34.035351,
          34.098,
          34.029121,
          34.14991,
          34.160709,
          34.110031,
          34.026619,
          34.147652,
          33.988419,
          34.005871,
          34.13821,
          33.970242,
          34.082649,
          34.031502,
          34.149712,
          34.02018,
          34.147812,
          33.772301,
          34.10424,
          34.057968,
          34.026829,
          33.993729,
          34.143822,
          34.06126,
          33.95879,
          34.017681,
          34.02338,
          33.998322,
          34.105782,
          33.989079,
          33.99958,
          34.00351,
          34.000881,
          34.005871,
          34.022518,
          34.02018,
          34.023392,
          33.9897,
          34.14962,
          34.094929,
          34.060791,
          34.00351,
          34.027649,
          34.165291,
          34.056278,
          33.9986,
          33.980991,
          34.04776,
          34.10363,
          34.102329,
          34.090969,
          34.034882,
          34.02655,
          33.99958,
          34.168751,
          33.986511,
          34.161709,
          34.02655,
          34.022579,
          34.04298,
          34.009022,
          33.771759,
          33.976189,
          34.027828,
          33.978821,
          34.16835,
          34.17765,
          34.026829,
          34.164951,
          34.022449,
          33.97366,
          34.03421,
          33.970242,
          34.168331,
          34.000309,
          34.152,
          34.037949,
          34.02697,
          34.036869,
          34.08371,
          34.020061,
          34.100109,
          33.74892,
          34.027882,
          34.149872,
          33.99485,
          34.022449,
          33.993019,
          34.035351,
          33.9953,
          34.01688,
          34.02948,
          34.011799,
          33.989948,
          34.158321,
          34.152142,
          34.165218,
          34.162861,
          34.02948,
          34.030472,
          33.997231,
          33.97298,
          34.04031,
          33.990971,
          33.990318,
          33.982922,
          33.779819,
          34.027649,
          34.020061,
          33.985611,
          34.157581,
          34.021992,
          33.998798,
          33.984859,
          34.172451,
          34.01376,
          34.022331,
          34.009022,
          34.02589,
          34.017368,
          34.030472,
          34.16552,
          34.175671,
          34.15749,
          33.982922,
          33.990971,
          33.980789,
          34.036678,
          34.02697,
          34.022018,
          33.766659,
          34.04739,
          33.9897,
          34.011372,
          34.101871,
          34.150688,
          33.993019,
          34.186569,
          34.10186,
          34.101509,
          33.990318,
          34.024479,
          34.098228,
          34.056702,
          34.139568,
          34.1721,
          33.943359,
          33.96973,
          34.017368,
          34.101761,
          34.10038,
          34.027771,
          34.017941,
          34.10186,
          34.094349,
          34.101959,
          34.018059,
          34.17989,
          34.103378,
          33.97298,
          34.103851,
          33.738991,
          34.04472,
          34.020969,
          34.02866,
          33.987381,
          34.010971,
          34.102001,
          33.984852,
          34.031399,
          34.036621,
          34.03046,
          34.06097,
          34.01157,
          34.02457,
          34.03677,
          34.172451,
          34.145748
         ],
         "legendgroup": "Others",
         "lon": [
          -118.262733,
          -118.256187,
          -118.263382,
          -118.248352,
          -118.247162,
          -118.255882,
          -118.266403,
          -118.264557,
          -118.260857,
          -118.235352,
          -118.253838,
          -118.243172,
          -118.23616,
          -118.260139,
          -118.246422,
          -118.24588,
          -118.253517,
          -118.240967,
          -118.267982,
          -118.477448,
          -118.241562,
          -118.481552,
          -118.471741,
          -118.258728,
          -118.266357,
          -118.469963,
          -118.247948,
          -118.251579,
          -118.255798,
          -118.246094,
          -118.47155,
          -118.24794,
          -118.23317,
          -118.232529,
          null,
          -118.238937,
          -118.468292,
          -118.265381,
          -118.231277,
          -118.24897,
          -118.451248,
          -118.250038,
          -118.491341,
          -118.236488,
          -118.296799,
          -118.238327,
          -118.277687,
          -118.27092,
          -118.284103,
          -118.290092,
          -118.45163,
          -118.281181,
          -118.284668,
          -118.46891,
          -118.270813,
          -118.250183,
          -118.280952,
          -118.435204,
          -118.279167,
          -118.268082,
          -118.26709,
          -118.14801,
          -118.453667,
          -118.283409,
          -118.166687,
          -118.254868,
          -118.479637,
          -118.2743,
          -118.469963,
          -118.305573,
          -118.461014,
          -118.279762,
          -118.291862,
          -118.472977,
          -118.279266,
          -118.28199,
          -118.233238,
          -118.288673,
          -118.298241,
          -118.477448,
          -118.256668,
          -118.395302,
          -118.135262,
          -118.270309,
          -118.377068,
          -118.471741,
          -118.300613,
          -118.296593,
          -118.331009,
          -118.149063,
          -118.294662,
          -118.122414,
          -118.23822,
          -118.275002,
          -118.243248,
          -118.128502,
          -118.302017,
          -118.273193,
          -118.271027,
          -118.144592,
          -118.116539,
          -118.291718,
          -118.284111,
          -118.259117,
          -118.277191,
          -118.280182,
          -118.282722,
          -118.241837,
          -118.292183,
          -118.264969,
          -118.132019,
          -118.148239,
          -118.14151,
          -118.13826,
          -118.28051,
          -118.277786,
          -118.132088,
          -118.255836,
          -118.27272,
          -118.301193,
          -118.271523,
          -118.129181,
          -118.285896,
          -118.271812,
          -118.291443,
          -118.254402,
          null,
          -118.274193,
          -118.468292,
          -118.309174,
          -118.291496,
          -118.132652,
          -118.251572,
          -118.15007,
          -118.250587,
          -118.44828,
          -118.293678,
          -118.291313,
          -118.417801,
          -118.142151,
          -118.418419,
          -118.287163,
          -118.290878,
          -118.280678,
          -118.399223,
          -118.287071,
          -118.28093,
          -118.30928,
          -118.12175,
          -118.395302,
          -118.14856,
          -118.139839,
          -118.256012,
          -118.453629,
          -118.279793,
          -118.278419,
          -118.464798,
          -118.264549,
          -118.403168,
          -118.151192,
          -118.409081,
          -118.278069,
          -118.13237,
          -118.282288,
          -118.308823,
          -118.28727,
          -118.434143,
          -118.300468,
          -118.403168,
          -118.13839,
          -118.132401,
          -118.287163,
          -118.281807,
          -118.145569,
          -118.45163,
          -118.429161,
          -118.147079,
          -118.426071,
          -118.284393,
          -118.288742,
          -118.160172,
          -118.40403,
          -118.132217,
          -118.268044,
          -118.273697,
          -118.299751,
          -118.393517,
          -118.45356,
          -118.154099,
          -118.258598,
          -118.44828,
          -118.409081,
          -118.479637,
          -118.460983,
          -118.291939,
          -118.462257,
          -118.44136,
          -118.43438,
          -118.46891,
          -118.429161,
          -118.400589,
          -118.40403,
          -118.399223,
          -118.448883,
          -118.145111,
          -118.284561,
          -118.309067,
          -118.43438,
          -118.413559,
          -118.15097,
          -118.231773,
          -118.472977,
          -118.414879,
          -118.22541,
          -118.291313,
          -118.28746,
          -118.286247,
          -118.25769,
          -118.408463,
          -118.44136,
          -118.36187,
          -118.441917,
          -118.372818,
          -118.408463,
          -118.40551,
          -118.252953,
          -118.425011,
          -118.276543,
          -118.418419,
          -118.247139,
          -118.407562,
          -118.387497,
          -118.382309,
          -118.393517,
          -118.363632,
          -118.438332,
          -118.422859,
          -118.254593,
          -118.426071,
          -118.396156,
          -118.402527,
          -118.350601,
          -118.256271,
          -118.428207,
          -118.425499,
          -118.296021,
          -118.422684,
          -118.289864,
          -118.275192,
          -118.388901,
          -118.378891,
          -118.417961,
          -118.438332,
          -118.414909,
          -118.434143,
          -118.464844,
          -118.428452,
          -118.410469,
          -118.419441,
          -118.434669,
          -118.370811,
          -118.361954,
          -118.355148,
          -118.370201,
          -118.410469,
          -118.420982,
          -118.445969,
          -118.423943,
          -118.25827,
          -118.421127,
          -118.412048,
          -118.410927,
          -118.263023,
          -118.413559,
          -118.422684,
          -118.425438,
          -118.38826,
          -118.416496,
          -118.402657,
          -118.431129,
          -118.370369,
          -118.417801,
          -118.415771,
          -118.425011,
          -118.238243,
          -118.420601,
          -118.420982,
          -118.375153,
          -118.378967,
          -118.39576,
          -118.410927,
          -118.421303,
          -118.414902,
          -118.425339,
          -118.428207,
          -118.409378,
          -118.261017,
          -118.218849,
          -118.448883,
          -118.419701,
          -118.29377,
          -118.366127,
          -118.414909,
          -118.388008,
          -118.32811,
          -118.33979,
          -118.412048,
          -118.393867,
          -118.338821,
          -118.231392,
          -118.362251,
          -118.361816,
          -118.248238,
          -118.463333,
          -118.420601,
          -118.33474,
          -118.341797,
          -118.38726,
          -118.255417,
          -118.33329,
          -118.326363,
          -118.338852,
          -118.286728,
          -118.370422,
          -118.34919,
          -118.423943,
          -118.325462,
          -118.28363,
          -118.266243,
          -118.335197,
          -118.410294,
          -118.472832,
          -118.289749,
          -118.33741,
          -118.431641,
          -118.453629,
          -118.425308,
          -118.389099,
          -118.444366,
          -118.495422,
          -118.394081,
          -118.425377,
          -118.370369,
          -118.144287
         ],
         "marker": {
          "color": "#EF553B",
          "size": [
           9051,
           8996,
           8861,
           8829,
           8535,
           8451,
           8163,
           8048,
           7377,
           7218,
           6651,
           6555,
           6555,
           6380,
           6303,
           5728,
           5663,
           5441,
           5387,
           5235,
           5159,
           4998,
           4954,
           4573,
           4564,
           4421,
           4416,
           4384,
           4130,
           3850,
           3800,
           3765,
           3718,
           3592,
           3558,
           3497,
           3397,
           3366,
           3329,
           3326,
           3051,
           3009,
           2971,
           2924,
           2767,
           2607,
           2570,
           2553,
           2542,
           2484,
           2472,
           2381,
           2246,
           2127,
           2096,
           2027,
           2017,
           1998,
           1804,
           1797,
           1688,
           1651,
           1615,
           1611,
           1548,
           1532,
           1529,
           1521,
           1517,
           1496,
           1456,
           1438,
           1407,
           1394,
           1387,
           1375,
           1359,
           1356,
           1337,
           1333,
           1317,
           1297,
           1279,
           1239,
           1230,
           1229,
           1224,
           1212,
           1195,
           1182,
           1169,
           1160,
           1138,
           1128,
           1105,
           1100,
           1099,
           1098,
           1082,
           1075,
           1068,
           1062,
           1059,
           1054,
           1054,
           1044,
           1042,
           1010,
           1008,
           1004,
           997,
           979,
           978,
           977,
           976,
           973,
           972,
           968,
           956,
           932,
           925,
           902,
           902,
           899,
           896,
           878,
           875,
           866,
           847,
           818,
           811,
           810,
           792,
           771,
           768,
           767,
           742,
           732,
           714,
           713,
           711,
           710,
           705,
           695,
           690,
           690,
           685,
           684,
           684,
           683,
           676,
           673,
           672,
           670,
           670,
           668,
           667,
           652,
           650,
           636,
           629,
           600,
           579,
           579,
           575,
           568,
           565,
           564,
           561,
           544,
           539,
           529,
           529,
           528,
           511,
           500,
           497,
           494,
           493,
           490,
           490,
           486,
           485,
           484,
           479,
           476,
           473,
           472,
           472,
           468,
           456,
           451,
           441,
           440,
           436,
           432,
           429,
           428,
           420,
           411,
           409,
           386,
           384,
           383,
           373,
           365,
           356,
           356,
           353,
           353,
           332,
           331,
           324,
           323,
           322,
           313,
           312,
           310,
           309,
           305,
           304,
           303,
           298,
           295,
           293,
           282,
           279,
           277,
           273,
           268,
           265,
           258,
           252,
           249,
           249,
           247,
           243,
           243,
           243,
           242,
           238,
           236,
           235,
           235,
           234,
           233,
           233,
           231,
           229,
           229,
           224,
           223,
           221,
           214,
           197,
           197,
           195,
           194,
           194,
           191,
           190,
           187,
           185,
           184,
           183,
           182,
           176,
           169,
           166,
           164,
           163,
           156,
           155,
           150,
           148,
           145,
           139,
           139,
           139,
           136,
           134,
           133,
           125,
           125,
           115,
           114,
           114,
           113,
           112,
           112,
           110,
           104,
           104,
           102,
           102,
           98,
           95,
           90,
           89,
           89,
           89,
           84,
           76,
           72,
           69,
           65,
           64,
           64,
           63,
           60,
           60,
           58,
           55,
           55,
           54,
           52,
           52,
           51,
           51,
           48,
           48,
           48,
           47,
           45,
           41,
           40,
           36,
           32,
           31,
           30,
           29,
           27,
           22,
           21,
           20,
           16,
           9,
           9,
           8,
           5,
           5,
           3,
           1,
           1
          ],
          "sizemode": "area",
          "sizeref": 71.225,
          "symbol": "circle"
         },
         "mode": "markers",
         "name": "Others",
         "showlegend": true,
         "type": "scattergeo"
        }
       ],
       "layout": {
        "geo": {
         "center": {},
         "domain": {
          "x": [
           0,
           1
          ],
          "y": [
           0,
           1
          ]
         }
        },
        "legend": {
         "itemsizing": "constant",
         "title": {
          "text": "color"
         },
         "tracegroupgap": 0
        },
        "margin": {
         "t": 60
        },
        "template": {
         "data": {
          "bar": [
           {
            "error_x": {
             "color": "#2a3f5f"
            },
            "error_y": {
             "color": "#2a3f5f"
            },
            "marker": {
             "line": {
              "color": "#E5ECF6",
              "width": 0.5
             },
             "pattern": {
              "fillmode": "overlay",
              "size": 10,
              "solidity": 0.2
             }
            },
            "type": "bar"
           }
          ],
          "barpolar": [
           {
            "marker": {
             "line": {
              "color": "#E5ECF6",
              "width": 0.5
             },
             "pattern": {
              "fillmode": "overlay",
              "size": 10,
              "solidity": 0.2
             }
            },
            "type": "barpolar"
           }
          ],
          "carpet": [
           {
            "aaxis": {
             "endlinecolor": "#2a3f5f",
             "gridcolor": "white",
             "linecolor": "white",
             "minorgridcolor": "white",
             "startlinecolor": "#2a3f5f"
            },
            "baxis": {
             "endlinecolor": "#2a3f5f",
             "gridcolor": "white",
             "linecolor": "white",
             "minorgridcolor": "white",
             "startlinecolor": "#2a3f5f"
            },
            "type": "carpet"
           }
          ],
          "choropleth": [
           {
            "colorbar": {
             "outlinewidth": 0,
             "ticks": ""
            },
            "type": "choropleth"
           }
          ],
          "contour": [
           {
            "colorbar": {
             "outlinewidth": 0,
             "ticks": ""
            },
            "colorscale": [
             [
              0,
              "#0d0887"
             ],
             [
              0.1111111111111111,
              "#46039f"
             ],
             [
              0.2222222222222222,
              "#7201a8"
             ],
             [
              0.3333333333333333,
              "#9c179e"
             ],
             [
              0.4444444444444444,
              "#bd3786"
             ],
             [
              0.5555555555555556,
              "#d8576b"
             ],
             [
              0.6666666666666666,
              "#ed7953"
             ],
             [
              0.7777777777777778,
              "#fb9f3a"
             ],
             [
              0.8888888888888888,
              "#fdca26"
             ],
             [
              1,
              "#f0f921"
             ]
            ],
            "type": "contour"
           }
          ],
          "contourcarpet": [
           {
            "colorbar": {
             "outlinewidth": 0,
             "ticks": ""
            },
            "type": "contourcarpet"
           }
          ],
          "heatmap": [
           {
            "colorbar": {
             "outlinewidth": 0,
             "ticks": ""
            },
            "colorscale": [
             [
              0,
              "#0d0887"
             ],
             [
              0.1111111111111111,
              "#46039f"
             ],
             [
              0.2222222222222222,
              "#7201a8"
             ],
             [
              0.3333333333333333,
              "#9c179e"
             ],
             [
              0.4444444444444444,
              "#bd3786"
             ],
             [
              0.5555555555555556,
              "#d8576b"
             ],
             [
              0.6666666666666666,
              "#ed7953"
             ],
             [
              0.7777777777777778,
              "#fb9f3a"
             ],
             [
              0.8888888888888888,
              "#fdca26"
             ],
             [
              1,
              "#f0f921"
             ]
            ],
            "type": "heatmap"
           }
          ],
          "heatmapgl": [
           {
            "colorbar": {
             "outlinewidth": 0,
             "ticks": ""
            },
            "colorscale": [
             [
              0,
              "#0d0887"
             ],
             [
              0.1111111111111111,
              "#46039f"
             ],
             [
              0.2222222222222222,
              "#7201a8"
             ],
             [
              0.3333333333333333,
              "#9c179e"
             ],
             [
              0.4444444444444444,
              "#bd3786"
             ],
             [
              0.5555555555555556,
              "#d8576b"
             ],
             [
              0.6666666666666666,
              "#ed7953"
             ],
             [
              0.7777777777777778,
              "#fb9f3a"
             ],
             [
              0.8888888888888888,
              "#fdca26"
             ],
             [
              1,
              "#f0f921"
             ]
            ],
            "type": "heatmapgl"
           }
          ],
          "histogram": [
           {
            "marker": {
             "pattern": {
              "fillmode": "overlay",
              "size": 10,
              "solidity": 0.2
             }
            },
            "type": "histogram"
           }
          ],
          "histogram2d": [
           {
            "colorbar": {
             "outlinewidth": 0,
             "ticks": ""
            },
            "colorscale": [
             [
              0,
              "#0d0887"
             ],
             [
              0.1111111111111111,
              "#46039f"
             ],
             [
              0.2222222222222222,
              "#7201a8"
             ],
             [
              0.3333333333333333,
              "#9c179e"
             ],
             [
              0.4444444444444444,
              "#bd3786"
             ],
             [
              0.5555555555555556,
              "#d8576b"
             ],
             [
              0.6666666666666666,
              "#ed7953"
             ],
             [
              0.7777777777777778,
              "#fb9f3a"
             ],
             [
              0.8888888888888888,
              "#fdca26"
             ],
             [
              1,
              "#f0f921"
             ]
            ],
            "type": "histogram2d"
           }
          ],
          "histogram2dcontour": [
           {
            "colorbar": {
             "outlinewidth": 0,
             "ticks": ""
            },
            "colorscale": [
             [
              0,
              "#0d0887"
             ],
             [
              0.1111111111111111,
              "#46039f"
             ],
             [
              0.2222222222222222,
              "#7201a8"
             ],
             [
              0.3333333333333333,
              "#9c179e"
             ],
             [
              0.4444444444444444,
              "#bd3786"
             ],
             [
              0.5555555555555556,
              "#d8576b"
             ],
             [
              0.6666666666666666,
              "#ed7953"
             ],
             [
              0.7777777777777778,
              "#fb9f3a"
             ],
             [
              0.8888888888888888,
              "#fdca26"
             ],
             [
              1,
              "#f0f921"
             ]
            ],
            "type": "histogram2dcontour"
           }
          ],
          "mesh3d": [
           {
            "colorbar": {
             "outlinewidth": 0,
             "ticks": ""
            },
            "type": "mesh3d"
           }
          ],
          "parcoords": [
           {
            "line": {
             "colorbar": {
              "outlinewidth": 0,
              "ticks": ""
             }
            },
            "type": "parcoords"
           }
          ],
          "pie": [
           {
            "automargin": true,
            "type": "pie"
           }
          ],
          "scatter": [
           {
            "marker": {
             "colorbar": {
              "outlinewidth": 0,
              "ticks": ""
             }
            },
            "type": "scatter"
           }
          ],
          "scatter3d": [
           {
            "line": {
             "colorbar": {
              "outlinewidth": 0,
              "ticks": ""
             }
            },
            "marker": {
             "colorbar": {
              "outlinewidth": 0,
              "ticks": ""
             }
            },
            "type": "scatter3d"
           }
          ],
          "scattercarpet": [
           {
            "marker": {
             "colorbar": {
              "outlinewidth": 0,
              "ticks": ""
             }
            },
            "type": "scattercarpet"
           }
          ],
          "scattergeo": [
           {
            "marker": {
             "colorbar": {
              "outlinewidth": 0,
              "ticks": ""
             }
            },
            "type": "scattergeo"
           }
          ],
          "scattergl": [
           {
            "marker": {
             "colorbar": {
              "outlinewidth": 0,
              "ticks": ""
             }
            },
            "type": "scattergl"
           }
          ],
          "scattermapbox": [
           {
            "marker": {
             "colorbar": {
              "outlinewidth": 0,
              "ticks": ""
             }
            },
            "type": "scattermapbox"
           }
          ],
          "scatterpolar": [
           {
            "marker": {
             "colorbar": {
              "outlinewidth": 0,
              "ticks": ""
             }
            },
            "type": "scatterpolar"
           }
          ],
          "scatterpolargl": [
           {
            "marker": {
             "colorbar": {
              "outlinewidth": 0,
              "ticks": ""
             }
            },
            "type": "scatterpolargl"
           }
          ],
          "scatterternary": [
           {
            "marker": {
             "colorbar": {
              "outlinewidth": 0,
              "ticks": ""
             }
            },
            "type": "scatterternary"
           }
          ],
          "surface": [
           {
            "colorbar": {
             "outlinewidth": 0,
             "ticks": ""
            },
            "colorscale": [
             [
              0,
              "#0d0887"
             ],
             [
              0.1111111111111111,
              "#46039f"
             ],
             [
              0.2222222222222222,
              "#7201a8"
             ],
             [
              0.3333333333333333,
              "#9c179e"
             ],
             [
              0.4444444444444444,
              "#bd3786"
             ],
             [
              0.5555555555555556,
              "#d8576b"
             ],
             [
              0.6666666666666666,
              "#ed7953"
             ],
             [
              0.7777777777777778,
              "#fb9f3a"
             ],
             [
              0.8888888888888888,
              "#fdca26"
             ],
             [
              1,
              "#f0f921"
             ]
            ],
            "type": "surface"
           }
          ],
          "table": [
           {
            "cells": {
             "fill": {
              "color": "#EBF0F8"
             },
             "line": {
              "color": "white"
             }
            },
            "header": {
             "fill": {
              "color": "#C8D4E3"
             },
             "line": {
              "color": "white"
             }
            },
            "type": "table"
           }
          ]
         },
         "layout": {
          "annotationdefaults": {
           "arrowcolor": "#2a3f5f",
           "arrowhead": 0,
           "arrowwidth": 1
          },
          "autotypenumbers": "strict",
          "coloraxis": {
           "colorbar": {
            "outlinewidth": 0,
            "ticks": ""
           }
          },
          "colorscale": {
           "diverging": [
            [
             0,
             "#8e0152"
            ],
            [
             0.1,
             "#c51b7d"
            ],
            [
             0.2,
             "#de77ae"
            ],
            [
             0.3,
             "#f1b6da"
            ],
            [
             0.4,
             "#fde0ef"
            ],
            [
             0.5,
             "#f7f7f7"
            ],
            [
             0.6,
             "#e6f5d0"
            ],
            [
             0.7,
             "#b8e186"
            ],
            [
             0.8,
             "#7fbc41"
            ],
            [
             0.9,
             "#4d9221"
            ],
            [
             1,
             "#276419"
            ]
           ],
           "sequential": [
            [
             0,
             "#0d0887"
            ],
            [
             0.1111111111111111,
             "#46039f"
            ],
            [
             0.2222222222222222,
             "#7201a8"
            ],
            [
             0.3333333333333333,
             "#9c179e"
            ],
            [
             0.4444444444444444,
             "#bd3786"
            ],
            [
             0.5555555555555556,
             "#d8576b"
            ],
            [
             0.6666666666666666,
             "#ed7953"
            ],
            [
             0.7777777777777778,
             "#fb9f3a"
            ],
            [
             0.8888888888888888,
             "#fdca26"
            ],
            [
             1,
             "#f0f921"
            ]
           ],
           "sequentialminus": [
            [
             0,
             "#0d0887"
            ],
            [
             0.1111111111111111,
             "#46039f"
            ],
            [
             0.2222222222222222,
             "#7201a8"
            ],
            [
             0.3333333333333333,
             "#9c179e"
            ],
            [
             0.4444444444444444,
             "#bd3786"
            ],
            [
             0.5555555555555556,
             "#d8576b"
            ],
            [
             0.6666666666666666,
             "#ed7953"
            ],
            [
             0.7777777777777778,
             "#fb9f3a"
            ],
            [
             0.8888888888888888,
             "#fdca26"
            ],
            [
             1,
             "#f0f921"
            ]
           ]
          },
          "colorway": [
           "#636efa",
           "#EF553B",
           "#00cc96",
           "#ab63fa",
           "#FFA15A",
           "#19d3f3",
           "#FF6692",
           "#B6E880",
           "#FF97FF",
           "#FECB52"
          ],
          "font": {
           "color": "#2a3f5f"
          },
          "geo": {
           "bgcolor": "white",
           "lakecolor": "white",
           "landcolor": "#E5ECF6",
           "showlakes": true,
           "showland": true,
           "subunitcolor": "white"
          },
          "hoverlabel": {
           "align": "left"
          },
          "hovermode": "closest",
          "mapbox": {
           "style": "light"
          },
          "paper_bgcolor": "white",
          "plot_bgcolor": "#E5ECF6",
          "polar": {
           "angularaxis": {
            "gridcolor": "white",
            "linecolor": "white",
            "ticks": ""
           },
           "bgcolor": "#E5ECF6",
           "radialaxis": {
            "gridcolor": "white",
            "linecolor": "white",
            "ticks": ""
           }
          },
          "scene": {
           "xaxis": {
            "backgroundcolor": "#E5ECF6",
            "gridcolor": "white",
            "gridwidth": 2,
            "linecolor": "white",
            "showbackground": true,
            "ticks": "",
            "zerolinecolor": "white"
           },
           "yaxis": {
            "backgroundcolor": "#E5ECF6",
            "gridcolor": "white",
            "gridwidth": 2,
            "linecolor": "white",
            "showbackground": true,
            "ticks": "",
            "zerolinecolor": "white"
           },
           "zaxis": {
            "backgroundcolor": "#E5ECF6",
            "gridcolor": "white",
            "gridwidth": 2,
            "linecolor": "white",
            "showbackground": true,
            "ticks": "",
            "zerolinecolor": "white"
           }
          },
          "shapedefaults": {
           "line": {
            "color": "#2a3f5f"
           }
          },
          "ternary": {
           "aaxis": {
            "gridcolor": "white",
            "linecolor": "white",
            "ticks": ""
           },
           "baxis": {
            "gridcolor": "white",
            "linecolor": "white",
            "ticks": ""
           },
           "bgcolor": "#E5ECF6",
           "caxis": {
            "gridcolor": "white",
            "linecolor": "white",
            "ticks": ""
           }
          },
          "title": {
           "x": 0.05
          },
          "xaxis": {
           "automargin": true,
           "gridcolor": "white",
           "linecolor": "white",
           "ticks": "",
           "title": {
            "standoff": 15
           },
           "zerolinecolor": "white",
           "zerolinewidth": 2
          },
          "yaxis": {
           "automargin": true,
           "gridcolor": "white",
           "linecolor": "white",
           "ticks": "",
           "title": {
            "standoff": 15
           },
           "zerolinecolor": "white",
           "zerolinewidth": 2
          }
         }
        },
        "title": {
         "text": "World map",
         "x": 0.5
        }
       }
      },
      "text/html": [
       "<div>                            <div id=\"afc8698f-3448-4949-8ad8-044d736b5f0b\" class=\"plotly-graph-div\" style=\"height:525px; width:100%;\"></div>            <script type=\"text/javascript\">                require([\"plotly\"], function(Plotly) {                    window.PLOTLYENV=window.PLOTLYENV || {};                                    if (document.getElementById(\"afc8698f-3448-4949-8ad8-044d736b5f0b\")) {                    Plotly.newPlot(                        \"afc8698f-3448-4949-8ad8-044d736b5f0b\",                        [{\"geo\":\"geo\",\"hovertemplate\":\"<b>%{hovertext}</b><br><br>color=Top 20<br>trip_id=%{marker.size}<br>start_lat=%{lat}<br>start_lon=%{lon}<extra></extra>\",\"hovertext\":[\"3005\",\"3030\",\"3014\",\"4214\",\"3031\",\"3035\",\"3064\",\"3082\",\"4210\",\"3042\",\"3006\",\"3069\",\"3067\",\"4215\",\"3007\",\"3074\",\"3068\",\"3022\",\"3049\",\"3063\"],\"lat\":[34.0485,34.051941,34.05661,33.99556,34.044701,34.048401,34.046131,34.04652,33.984341,34.049301,34.04554,34.05088,34.045181,34.014309,34.05048,34.04417,34.0532,34.04607,34.056969,34.048038],\"legendgroup\":\"Top 20\",\"lon\":[-118.259048,-118.24353,-118.237213,-118.481552,-118.252441,-118.260948,-118.257591,-118.237411,-118.47155,-118.238808,-118.256668,-118.248253,-118.250237,-118.491341,-118.254593,-118.261169,-118.250954,-118.233093,-118.253593,-118.253738],\"marker\":{\"color\":\"#636efa\",\"size\":[28490,20280,18739,17466,17069,15381,14733,13667,13379,12667,12645,12638,11633,10776,10774,10427,10420,9959,9707,9363],\"sizemode\":\"area\",\"sizeref\":71.225,\"symbol\":\"circle\"},\"mode\":\"markers\",\"name\":\"Top 20\",\"showlegend\":true,\"type\":\"scattergeo\"},{\"geo\":\"geo\",\"hovertemplate\":\"<b>%{hovertext}</b><br><br>color=Others<br>trip_id=%{marker.size}<br>start_lat=%{lat}<br>start_lon=%{lon}<extra></extra>\",\"hovertext\":[\"3008\",\"3075\",\"3034\",\"3038\",\"3027\",\"3032\",\"3047\",\"3052\",\"3019\",\"3048\",\"3076\",\"3062\",\"3066\",\"3018\",\"3029\",\"3026\",\"3051\",\"3023\",\"3011\",\"4209\",\"3016\",\"4345\",\"4212\",\"4220\",\"3040\",\"4211\",\"3046\",\"3055\",\"3033\",\"3028\",\"4346\",\"4491\",\"3058\",\"3036\",\"4285\",\"3078\",\"4202\",\"3056\",\"3037\",\"3024\",\"4543\",\"3077\",\"4344\",\"3054\",\"4410\",\"3065\",\"4266\",\"4315\",\"4273\",\"4304\",\"4204\",\"4249\",\"4126\",\"4207\",\"3057\",\"3081\",\"4250\",\"4544\",\"4246\",\"3025\",\"3020\",\"4162\",\"4205\",\"4245\",\"4153\",\"3010\",\"4216\",\"4300\",\"4347\",\"4444\",\"4206\",\"4314\",\"4401\",\"4208\",\"4131\",\"4447\",\"3079\",\"4248\",\"4440\",\"4349\",\"3045\",\"4558\",\"4181\",\"4227\",\"4420\",\"4353\",\"4406\",\"4390\",\"4482\",\"4165\",\"4311\",\"4176\",\"3000\",\"4313\",\"4475\",\"4180\",\"4456\",\"4448\",\"4404\",\"4142\",\"4159\",\"4454\",\"4254\",\"4483\",\"4493\",\"4132\",\"4130\",\"4387\",\"4306\",\"4512\",\"4163\",\"4138\",\"4151\",\"4177\",\"4129\",\"4133\",\"4157\",\"4490\",\"4476\",\"4524\",\"4293\",\"4183\",\"4275\",\"4455\",\"4302\",\"4516\",\"4286\",\"4449\",\"4342\",\"4509\",\"4301\",\"4144\",\"4445\",\"4147\",\"4480\",\"4545\",\"4405\",\"4247\",\"4570\",\"4150\",\"4583\",\"4450\",\"4312\",\"4267\",\"4566\",\"4303\",\"4472\",\"4523\",\"4166\",\"4330\",\"4160\",\"4169\",\"4494\",\"4546\",\"4443\",\"4446\",\"4213\",\"4510\",\"4568\",\"4154\",\"4563\",\"4134\",\"4158\",\"4473\",\"4538\",\"4437\",\"4564\",\"4442\",\"4329\",\"4156\",\"4170\",\"4474\",\"4441\",\"4146\",\"4352\",\"4555\",\"4149\",\"4581\",\"4453\",\"4479\",\"4152\",\"4567\",\"4155\",\"4135\",\"4478\",\"4518\",\"4548\",\"4351\",\"4167\",\"4486\",\"4504\",\"4354\",\"4340\",\"4343\",\"4436\",\"4536\",\"4553\",\"4554\",\"4348\",\"4322\",\"4325\",\"4334\",\"4335\",\"4547\",\"4148\",\"4438\",\"4587\",\"4331\",\"4571\",\"4174\",\"4511\",\"4350\",\"4582\",\"4540\",\"4451\",\"4452\",\"4439\",\"3060\",\"4324\",\"4323\",\"4429\",\"4409\",\"4428\",\"4569\",\"4576\",\"4578\",\"4556\",\"4136\",\"4470\",\"4400\",\"4484\",\"4414\",\"4431\",\"4393\",\"4417\",\"4549\",\"4255\",\"3080\",\"4469\",\"4415\",\"4575\",\"4425\",\"3059\",\"4562\",\"4492\",\"4513\",\"4561\",\"4457\",\"4127\",\"4372\",\"4426\",\"4460\",\"4336\",\"4577\",\"4389\",\"4341\",\"4397\",\"4572\",\"4557\",\"4565\",\"4413\",\"4422\",\"4419\",\"4427\",\"4332\",\"4573\",\"4333\",\"4496\",\"4217\",\"4458\",\"4521\",\"4580\",\"3013\",\"4461\",\"4328\",\"4459\",\"4416\",\"4559\",\"4381\",\"4579\",\"4430\",\"4338\",\"4378\",\"4383\",\"4108\",\"4560\",\"4382\",\"4502\",\"4463\",\"4497\",\"4380\",\"4552\",\"4394\",\"4385\",\"4396\",\"4462\",\"4125\",\"4276\",\"4503\",\"4408\",\"4407\",\"4418\",\"4337\",\"4499\",\"4534\",\"4402\",\"4384\",\"3039\",\"4537\",\"4194\",\"4432\",\"4500\",\"4403\",\"4505\",\"4379\",\"4539\",\"4525\",\"4356\",\"4508\",\"4529\",\"4584\",\"4517\",\"4244\",\"4498\",\"4526\",\"4542\",\"4477\",\"4435\",\"3061\",\"4593\",\"4357\",\"3009\",\"4594\",\"4527\",\"4541\",\"4321\",\"4374\",\"4363\",\"4528\",\"4395\",\"4369\",\"4373\",\"4327\",\"4143\"],\"lat\":[34.046612,34.04211,34.042061,34.046822,34.04998,34.049889,34.039982,34.051102,34.038609,34.041691,34.0406,34.047749,34.063389,34.043732,34.048851,34.063179,34.045422,34.050911,34.04113,33.996239,34.052898,33.995281,33.988129,34.074829,34.05357,33.984928,34.052872,34.044159,34.040989,34.058319,33.984341,34.04744,34.035801,34.039188,null,34.064281,33.991161,34.03746,34.034801,34.05772,33.95718,34.039871,34.014309,34.039219,34.063351,34.060558,34.026291,34.054031,34.02586,34.06258,33.988419,34.020302,33.710979,34.000881,34.035679,34.031891,34.03017,33.928459,34.023708,34.03286,34.031052,34.147499,33.993771,34.02404,34.156181,34.037048,34.023392,34.04887,33.984928,34.061619,33.998341,34.057709,34.075611,33.99868,33.738979,34.0616,34.05014,34.028351,34.061661,33.996239,34.028511,34.025688,34.146221,34.0298,34.168629,33.988129,34.101891,34.069271,34.094372,34.14175,34.059689,34.137859,34.025841,34.056808,34.045181,34.137951,34.052429,34.03027,34.04813,34.144588,34.145901,34.017899,34.028679,34.1007,34.090279,33.74913,33.719261,34.03352,34.057652,34.043812,34.150471,34.145691,34.142361,34.144981,33.725819,33.733521,34.140999,34.053551,34.08252,34.06163,34.062279,34.146069,34.01252,34.10936,34.092491,34.045849,null,34.04557,33.991161,34.101639,34.099049,34.142399,34.073639,34.145248,34.05896,33.95879,34.051899,34.033642,34.01376,34.15427,33.976189,34.063492,34.06699,34.027618,34.023392,34.098011,34.092602,34.068748,34.145908,34.025688,34.133011,34.146961,34.075981,34.031399,34.02166,34.05323,33.994701,34.077351,34.029121,34.15612,34.017681,33.74136,34.13525,34.07159,34.06543,34.105358,34.035351,34.098,34.029121,34.14991,34.160709,34.110031,34.026619,34.147652,33.988419,34.005871,34.13821,33.970242,34.082649,34.031502,34.149712,34.02018,34.147812,33.772301,34.10424,34.057968,34.026829,33.993729,34.143822,34.06126,33.95879,34.017681,34.02338,33.998322,34.105782,33.989079,33.99958,34.00351,34.000881,34.005871,34.022518,34.02018,34.023392,33.9897,34.14962,34.094929,34.060791,34.00351,34.027649,34.165291,34.056278,33.9986,33.980991,34.04776,34.10363,34.102329,34.090969,34.034882,34.02655,33.99958,34.168751,33.986511,34.161709,34.02655,34.022579,34.04298,34.009022,33.771759,33.976189,34.027828,33.978821,34.16835,34.17765,34.026829,34.164951,34.022449,33.97366,34.03421,33.970242,34.168331,34.000309,34.152,34.037949,34.02697,34.036869,34.08371,34.020061,34.100109,33.74892,34.027882,34.149872,33.99485,34.022449,33.993019,34.035351,33.9953,34.01688,34.02948,34.011799,33.989948,34.158321,34.152142,34.165218,34.162861,34.02948,34.030472,33.997231,33.97298,34.04031,33.990971,33.990318,33.982922,33.779819,34.027649,34.020061,33.985611,34.157581,34.021992,33.998798,33.984859,34.172451,34.01376,34.022331,34.009022,34.02589,34.017368,34.030472,34.16552,34.175671,34.15749,33.982922,33.990971,33.980789,34.036678,34.02697,34.022018,33.766659,34.04739,33.9897,34.011372,34.101871,34.150688,33.993019,34.186569,34.10186,34.101509,33.990318,34.024479,34.098228,34.056702,34.139568,34.1721,33.943359,33.96973,34.017368,34.101761,34.10038,34.027771,34.017941,34.10186,34.094349,34.101959,34.018059,34.17989,34.103378,33.97298,34.103851,33.738991,34.04472,34.020969,34.02866,33.987381,34.010971,34.102001,33.984852,34.031399,34.036621,34.03046,34.06097,34.01157,34.02457,34.03677,34.172451,34.145748],\"legendgroup\":\"Others\",\"lon\":[-118.262733,-118.256187,-118.263382,-118.248352,-118.247162,-118.255882,-118.266403,-118.264557,-118.260857,-118.235352,-118.253838,-118.243172,-118.23616,-118.260139,-118.246422,-118.24588,-118.253517,-118.240967,-118.267982,-118.477448,-118.241562,-118.481552,-118.471741,-118.258728,-118.266357,-118.469963,-118.247948,-118.251579,-118.255798,-118.246094,-118.47155,-118.24794,-118.23317,-118.232529,null,-118.238937,-118.468292,-118.265381,-118.231277,-118.24897,-118.451248,-118.250038,-118.491341,-118.236488,-118.296799,-118.238327,-118.277687,-118.27092,-118.284103,-118.290092,-118.45163,-118.281181,-118.284668,-118.46891,-118.270813,-118.250183,-118.280952,-118.435204,-118.279167,-118.268082,-118.26709,-118.14801,-118.453667,-118.283409,-118.166687,-118.254868,-118.479637,-118.2743,-118.469963,-118.305573,-118.461014,-118.279762,-118.291862,-118.472977,-118.279266,-118.28199,-118.233238,-118.288673,-118.298241,-118.477448,-118.256668,-118.395302,-118.135262,-118.270309,-118.377068,-118.471741,-118.300613,-118.296593,-118.331009,-118.149063,-118.294662,-118.122414,-118.23822,-118.275002,-118.243248,-118.128502,-118.302017,-118.273193,-118.271027,-118.144592,-118.116539,-118.291718,-118.284111,-118.259117,-118.277191,-118.280182,-118.282722,-118.241837,-118.292183,-118.264969,-118.132019,-118.148239,-118.14151,-118.13826,-118.28051,-118.277786,-118.132088,-118.255836,-118.27272,-118.301193,-118.271523,-118.129181,-118.285896,-118.271812,-118.291443,-118.254402,null,-118.274193,-118.468292,-118.309174,-118.291496,-118.132652,-118.251572,-118.15007,-118.250587,-118.44828,-118.293678,-118.291313,-118.417801,-118.142151,-118.418419,-118.287163,-118.290878,-118.280678,-118.399223,-118.287071,-118.28093,-118.30928,-118.12175,-118.395302,-118.14856,-118.139839,-118.256012,-118.453629,-118.279793,-118.278419,-118.464798,-118.264549,-118.403168,-118.151192,-118.409081,-118.278069,-118.13237,-118.282288,-118.308823,-118.28727,-118.434143,-118.300468,-118.403168,-118.13839,-118.132401,-118.287163,-118.281807,-118.145569,-118.45163,-118.429161,-118.147079,-118.426071,-118.284393,-118.288742,-118.160172,-118.40403,-118.132217,-118.268044,-118.273697,-118.299751,-118.393517,-118.45356,-118.154099,-118.258598,-118.44828,-118.409081,-118.479637,-118.460983,-118.291939,-118.462257,-118.44136,-118.43438,-118.46891,-118.429161,-118.400589,-118.40403,-118.399223,-118.448883,-118.145111,-118.284561,-118.309067,-118.43438,-118.413559,-118.15097,-118.231773,-118.472977,-118.414879,-118.22541,-118.291313,-118.28746,-118.286247,-118.25769,-118.408463,-118.44136,-118.36187,-118.441917,-118.372818,-118.408463,-118.40551,-118.252953,-118.425011,-118.276543,-118.418419,-118.247139,-118.407562,-118.387497,-118.382309,-118.393517,-118.363632,-118.438332,-118.422859,-118.254593,-118.426071,-118.396156,-118.402527,-118.350601,-118.256271,-118.428207,-118.425499,-118.296021,-118.422684,-118.289864,-118.275192,-118.388901,-118.378891,-118.417961,-118.438332,-118.414909,-118.434143,-118.464844,-118.428452,-118.410469,-118.419441,-118.434669,-118.370811,-118.361954,-118.355148,-118.370201,-118.410469,-118.420982,-118.445969,-118.423943,-118.25827,-118.421127,-118.412048,-118.410927,-118.263023,-118.413559,-118.422684,-118.425438,-118.38826,-118.416496,-118.402657,-118.431129,-118.370369,-118.417801,-118.415771,-118.425011,-118.238243,-118.420601,-118.420982,-118.375153,-118.378967,-118.39576,-118.410927,-118.421303,-118.414902,-118.425339,-118.428207,-118.409378,-118.261017,-118.218849,-118.448883,-118.419701,-118.29377,-118.366127,-118.414909,-118.388008,-118.32811,-118.33979,-118.412048,-118.393867,-118.338821,-118.231392,-118.362251,-118.361816,-118.248238,-118.463333,-118.420601,-118.33474,-118.341797,-118.38726,-118.255417,-118.33329,-118.326363,-118.338852,-118.286728,-118.370422,-118.34919,-118.423943,-118.325462,-118.28363,-118.266243,-118.335197,-118.410294,-118.472832,-118.289749,-118.33741,-118.431641,-118.453629,-118.425308,-118.389099,-118.444366,-118.495422,-118.394081,-118.425377,-118.370369,-118.144287],\"marker\":{\"color\":\"#EF553B\",\"size\":[9051,8996,8861,8829,8535,8451,8163,8048,7377,7218,6651,6555,6555,6380,6303,5728,5663,5441,5387,5235,5159,4998,4954,4573,4564,4421,4416,4384,4130,3850,3800,3765,3718,3592,3558,3497,3397,3366,3329,3326,3051,3009,2971,2924,2767,2607,2570,2553,2542,2484,2472,2381,2246,2127,2096,2027,2017,1998,1804,1797,1688,1651,1615,1611,1548,1532,1529,1521,1517,1496,1456,1438,1407,1394,1387,1375,1359,1356,1337,1333,1317,1297,1279,1239,1230,1229,1224,1212,1195,1182,1169,1160,1138,1128,1105,1100,1099,1098,1082,1075,1068,1062,1059,1054,1054,1044,1042,1010,1008,1004,997,979,978,977,976,973,972,968,956,932,925,902,902,899,896,878,875,866,847,818,811,810,792,771,768,767,742,732,714,713,711,710,705,695,690,690,685,684,684,683,676,673,672,670,670,668,667,652,650,636,629,600,579,579,575,568,565,564,561,544,539,529,529,528,511,500,497,494,493,490,490,486,485,484,479,476,473,472,472,468,456,451,441,440,436,432,429,428,420,411,409,386,384,383,373,365,356,356,353,353,332,331,324,323,322,313,312,310,309,305,304,303,298,295,293,282,279,277,273,268,265,258,252,249,249,247,243,243,243,242,238,236,235,235,234,233,233,231,229,229,224,223,221,214,197,197,195,194,194,191,190,187,185,184,183,182,176,169,166,164,163,156,155,150,148,145,139,139,139,136,134,133,125,125,115,114,114,113,112,112,110,104,104,102,102,98,95,90,89,89,89,84,76,72,69,65,64,64,63,60,60,58,55,55,54,52,52,51,51,48,48,48,47,45,41,40,36,32,31,30,29,27,22,21,20,16,9,9,8,5,5,3,1,1],\"sizemode\":\"area\",\"sizeref\":71.225,\"symbol\":\"circle\"},\"mode\":\"markers\",\"name\":\"Others\",\"showlegend\":true,\"type\":\"scattergeo\"}],                        {\"geo\":{\"center\":{},\"domain\":{\"x\":[0.0,1.0],\"y\":[0.0,1.0]}},\"legend\":{\"itemsizing\":\"constant\",\"title\":{\"text\":\"color\"},\"tracegroupgap\":0},\"margin\":{\"t\":60},\"template\":{\"data\":{\"bar\":[{\"error_x\":{\"color\":\"#2a3f5f\"},\"error_y\":{\"color\":\"#2a3f5f\"},\"marker\":{\"line\":{\"color\":\"#E5ECF6\",\"width\":0.5},\"pattern\":{\"fillmode\":\"overlay\",\"size\":10,\"solidity\":0.2}},\"type\":\"bar\"}],\"barpolar\":[{\"marker\":{\"line\":{\"color\":\"#E5ECF6\",\"width\":0.5},\"pattern\":{\"fillmode\":\"overlay\",\"size\":10,\"solidity\":0.2}},\"type\":\"barpolar\"}],\"carpet\":[{\"aaxis\":{\"endlinecolor\":\"#2a3f5f\",\"gridcolor\":\"white\",\"linecolor\":\"white\",\"minorgridcolor\":\"white\",\"startlinecolor\":\"#2a3f5f\"},\"baxis\":{\"endlinecolor\":\"#2a3f5f\",\"gridcolor\":\"white\",\"linecolor\":\"white\",\"minorgridcolor\":\"white\",\"startlinecolor\":\"#2a3f5f\"},\"type\":\"carpet\"}],\"choropleth\":[{\"colorbar\":{\"outlinewidth\":0,\"ticks\":\"\"},\"type\":\"choropleth\"}],\"contour\":[{\"colorbar\":{\"outlinewidth\":0,\"ticks\":\"\"},\"colorscale\":[[0.0,\"#0d0887\"],[0.1111111111111111,\"#46039f\"],[0.2222222222222222,\"#7201a8\"],[0.3333333333333333,\"#9c179e\"],[0.4444444444444444,\"#bd3786\"],[0.5555555555555556,\"#d8576b\"],[0.6666666666666666,\"#ed7953\"],[0.7777777777777778,\"#fb9f3a\"],[0.8888888888888888,\"#fdca26\"],[1.0,\"#f0f921\"]],\"type\":\"contour\"}],\"contourcarpet\":[{\"colorbar\":{\"outlinewidth\":0,\"ticks\":\"\"},\"type\":\"contourcarpet\"}],\"heatmap\":[{\"colorbar\":{\"outlinewidth\":0,\"ticks\":\"\"},\"colorscale\":[[0.0,\"#0d0887\"],[0.1111111111111111,\"#46039f\"],[0.2222222222222222,\"#7201a8\"],[0.3333333333333333,\"#9c179e\"],[0.4444444444444444,\"#bd3786\"],[0.5555555555555556,\"#d8576b\"],[0.6666666666666666,\"#ed7953\"],[0.7777777777777778,\"#fb9f3a\"],[0.8888888888888888,\"#fdca26\"],[1.0,\"#f0f921\"]],\"type\":\"heatmap\"}],\"heatmapgl\":[{\"colorbar\":{\"outlinewidth\":0,\"ticks\":\"\"},\"colorscale\":[[0.0,\"#0d0887\"],[0.1111111111111111,\"#46039f\"],[0.2222222222222222,\"#7201a8\"],[0.3333333333333333,\"#9c179e\"],[0.4444444444444444,\"#bd3786\"],[0.5555555555555556,\"#d8576b\"],[0.6666666666666666,\"#ed7953\"],[0.7777777777777778,\"#fb9f3a\"],[0.8888888888888888,\"#fdca26\"],[1.0,\"#f0f921\"]],\"type\":\"heatmapgl\"}],\"histogram\":[{\"marker\":{\"pattern\":{\"fillmode\":\"overlay\",\"size\":10,\"solidity\":0.2}},\"type\":\"histogram\"}],\"histogram2d\":[{\"colorbar\":{\"outlinewidth\":0,\"ticks\":\"\"},\"colorscale\":[[0.0,\"#0d0887\"],[0.1111111111111111,\"#46039f\"],[0.2222222222222222,\"#7201a8\"],[0.3333333333333333,\"#9c179e\"],[0.4444444444444444,\"#bd3786\"],[0.5555555555555556,\"#d8576b\"],[0.6666666666666666,\"#ed7953\"],[0.7777777777777778,\"#fb9f3a\"],[0.8888888888888888,\"#fdca26\"],[1.0,\"#f0f921\"]],\"type\":\"histogram2d\"}],\"histogram2dcontour\":[{\"colorbar\":{\"outlinewidth\":0,\"ticks\":\"\"},\"colorscale\":[[0.0,\"#0d0887\"],[0.1111111111111111,\"#46039f\"],[0.2222222222222222,\"#7201a8\"],[0.3333333333333333,\"#9c179e\"],[0.4444444444444444,\"#bd3786\"],[0.5555555555555556,\"#d8576b\"],[0.6666666666666666,\"#ed7953\"],[0.7777777777777778,\"#fb9f3a\"],[0.8888888888888888,\"#fdca26\"],[1.0,\"#f0f921\"]],\"type\":\"histogram2dcontour\"}],\"mesh3d\":[{\"colorbar\":{\"outlinewidth\":0,\"ticks\":\"\"},\"type\":\"mesh3d\"}],\"parcoords\":[{\"line\":{\"colorbar\":{\"outlinewidth\":0,\"ticks\":\"\"}},\"type\":\"parcoords\"}],\"pie\":[{\"automargin\":true,\"type\":\"pie\"}],\"scatter\":[{\"marker\":{\"colorbar\":{\"outlinewidth\":0,\"ticks\":\"\"}},\"type\":\"scatter\"}],\"scatter3d\":[{\"line\":{\"colorbar\":{\"outlinewidth\":0,\"ticks\":\"\"}},\"marker\":{\"colorbar\":{\"outlinewidth\":0,\"ticks\":\"\"}},\"type\":\"scatter3d\"}],\"scattercarpet\":[{\"marker\":{\"colorbar\":{\"outlinewidth\":0,\"ticks\":\"\"}},\"type\":\"scattercarpet\"}],\"scattergeo\":[{\"marker\":{\"colorbar\":{\"outlinewidth\":0,\"ticks\":\"\"}},\"type\":\"scattergeo\"}],\"scattergl\":[{\"marker\":{\"colorbar\":{\"outlinewidth\":0,\"ticks\":\"\"}},\"type\":\"scattergl\"}],\"scattermapbox\":[{\"marker\":{\"colorbar\":{\"outlinewidth\":0,\"ticks\":\"\"}},\"type\":\"scattermapbox\"}],\"scatterpolar\":[{\"marker\":{\"colorbar\":{\"outlinewidth\":0,\"ticks\":\"\"}},\"type\":\"scatterpolar\"}],\"scatterpolargl\":[{\"marker\":{\"colorbar\":{\"outlinewidth\":0,\"ticks\":\"\"}},\"type\":\"scatterpolargl\"}],\"scatterternary\":[{\"marker\":{\"colorbar\":{\"outlinewidth\":0,\"ticks\":\"\"}},\"type\":\"scatterternary\"}],\"surface\":[{\"colorbar\":{\"outlinewidth\":0,\"ticks\":\"\"},\"colorscale\":[[0.0,\"#0d0887\"],[0.1111111111111111,\"#46039f\"],[0.2222222222222222,\"#7201a8\"],[0.3333333333333333,\"#9c179e\"],[0.4444444444444444,\"#bd3786\"],[0.5555555555555556,\"#d8576b\"],[0.6666666666666666,\"#ed7953\"],[0.7777777777777778,\"#fb9f3a\"],[0.8888888888888888,\"#fdca26\"],[1.0,\"#f0f921\"]],\"type\":\"surface\"}],\"table\":[{\"cells\":{\"fill\":{\"color\":\"#EBF0F8\"},\"line\":{\"color\":\"white\"}},\"header\":{\"fill\":{\"color\":\"#C8D4E3\"},\"line\":{\"color\":\"white\"}},\"type\":\"table\"}]},\"layout\":{\"annotationdefaults\":{\"arrowcolor\":\"#2a3f5f\",\"arrowhead\":0,\"arrowwidth\":1},\"autotypenumbers\":\"strict\",\"coloraxis\":{\"colorbar\":{\"outlinewidth\":0,\"ticks\":\"\"}},\"colorscale\":{\"diverging\":[[0,\"#8e0152\"],[0.1,\"#c51b7d\"],[0.2,\"#de77ae\"],[0.3,\"#f1b6da\"],[0.4,\"#fde0ef\"],[0.5,\"#f7f7f7\"],[0.6,\"#e6f5d0\"],[0.7,\"#b8e186\"],[0.8,\"#7fbc41\"],[0.9,\"#4d9221\"],[1,\"#276419\"]],\"sequential\":[[0.0,\"#0d0887\"],[0.1111111111111111,\"#46039f\"],[0.2222222222222222,\"#7201a8\"],[0.3333333333333333,\"#9c179e\"],[0.4444444444444444,\"#bd3786\"],[0.5555555555555556,\"#d8576b\"],[0.6666666666666666,\"#ed7953\"],[0.7777777777777778,\"#fb9f3a\"],[0.8888888888888888,\"#fdca26\"],[1.0,\"#f0f921\"]],\"sequentialminus\":[[0.0,\"#0d0887\"],[0.1111111111111111,\"#46039f\"],[0.2222222222222222,\"#7201a8\"],[0.3333333333333333,\"#9c179e\"],[0.4444444444444444,\"#bd3786\"],[0.5555555555555556,\"#d8576b\"],[0.6666666666666666,\"#ed7953\"],[0.7777777777777778,\"#fb9f3a\"],[0.8888888888888888,\"#fdca26\"],[1.0,\"#f0f921\"]]},\"colorway\":[\"#636efa\",\"#EF553B\",\"#00cc96\",\"#ab63fa\",\"#FFA15A\",\"#19d3f3\",\"#FF6692\",\"#B6E880\",\"#FF97FF\",\"#FECB52\"],\"font\":{\"color\":\"#2a3f5f\"},\"geo\":{\"bgcolor\":\"white\",\"lakecolor\":\"white\",\"landcolor\":\"#E5ECF6\",\"showlakes\":true,\"showland\":true,\"subunitcolor\":\"white\"},\"hoverlabel\":{\"align\":\"left\"},\"hovermode\":\"closest\",\"mapbox\":{\"style\":\"light\"},\"paper_bgcolor\":\"white\",\"plot_bgcolor\":\"#E5ECF6\",\"polar\":{\"angularaxis\":{\"gridcolor\":\"white\",\"linecolor\":\"white\",\"ticks\":\"\"},\"bgcolor\":\"#E5ECF6\",\"radialaxis\":{\"gridcolor\":\"white\",\"linecolor\":\"white\",\"ticks\":\"\"}},\"scene\":{\"xaxis\":{\"backgroundcolor\":\"#E5ECF6\",\"gridcolor\":\"white\",\"gridwidth\":2,\"linecolor\":\"white\",\"showbackground\":true,\"ticks\":\"\",\"zerolinecolor\":\"white\"},\"yaxis\":{\"backgroundcolor\":\"#E5ECF6\",\"gridcolor\":\"white\",\"gridwidth\":2,\"linecolor\":\"white\",\"showbackground\":true,\"ticks\":\"\",\"zerolinecolor\":\"white\"},\"zaxis\":{\"backgroundcolor\":\"#E5ECF6\",\"gridcolor\":\"white\",\"gridwidth\":2,\"linecolor\":\"white\",\"showbackground\":true,\"ticks\":\"\",\"zerolinecolor\":\"white\"}},\"shapedefaults\":{\"line\":{\"color\":\"#2a3f5f\"}},\"ternary\":{\"aaxis\":{\"gridcolor\":\"white\",\"linecolor\":\"white\",\"ticks\":\"\"},\"baxis\":{\"gridcolor\":\"white\",\"linecolor\":\"white\",\"ticks\":\"\"},\"bgcolor\":\"#E5ECF6\",\"caxis\":{\"gridcolor\":\"white\",\"linecolor\":\"white\",\"ticks\":\"\"}},\"title\":{\"x\":0.05},\"xaxis\":{\"automargin\":true,\"gridcolor\":\"white\",\"linecolor\":\"white\",\"ticks\":\"\",\"title\":{\"standoff\":15},\"zerolinecolor\":\"white\",\"zerolinewidth\":2},\"yaxis\":{\"automargin\":true,\"gridcolor\":\"white\",\"linecolor\":\"white\",\"ticks\":\"\",\"title\":{\"standoff\":15},\"zerolinecolor\":\"white\",\"zerolinewidth\":2}}},\"title\":{\"text\":\"World map\",\"x\":0.5}},                        {\"responsive\": true}                    ).then(function(){\n",
       "                            \n",
       "var gd = document.getElementById('afc8698f-3448-4949-8ad8-044d736b5f0b');\n",
       "var x = new MutationObserver(function (mutations, observer) {{\n",
       "        var display = window.getComputedStyle(gd).display;\n",
       "        if (!display || display === 'none') {{\n",
       "            console.log([gd, 'removed!']);\n",
       "            Plotly.purge(gd);\n",
       "            observer.disconnect();\n",
       "        }}\n",
       "}});\n",
       "\n",
       "// Listen for the removal of the full notebook cells\n",
       "var notebookContainer = gd.closest('#notebook-container');\n",
       "if (notebookContainer) {{\n",
       "    x.observe(notebookContainer, {childList: true});\n",
       "}}\n",
       "\n",
       "// Listen for the clearing of the current output cell\n",
       "var outputEl = gd.closest('.output');\n",
       "if (outputEl) {{\n",
       "    x.observe(outputEl, {childList: true});\n",
       "}}\n",
       "\n",
       "                        })                };                });            </script>        </div>"
      ]
     },
     "metadata": {},
     "output_type": "display_data"
    }
   ],
   "source": [
    "import plotly.express as px\n",
    "\n",
    "fig = px.scatter_geo(\n",
    "        coordenadas,\n",
    "        lat='start_lat',\n",
    "        lon='start_lon', \n",
    "        hover_name=\"start_station\",\n",
    "        size=\"trip_id\",\n",
    "        color=\"color\",\n",
    "        labels=\"color\"\n",
    ")\n",
    "fig.update_layout(title = 'World map', title_x=0.5)\n",
    "fig.show()"
   ]
  },
  {
   "cell_type": "code",
   "execution_count": 104,
   "metadata": {},
   "outputs": [
    {
     "name": "stdout",
     "output_type": "stream",
     "text": [
      "start_lat     34.014309\n",
      "start_lon   -118.491341\n",
      "dtype: float64\n",
      "start_lat     34.014309\n",
      "start_lon   -118.491340\n",
      "dtype: float64\n"
     ]
    }
   ],
   "source": [
    "print(dataFrame[dataFrame[\"start_station\"] == 4215][[\"start_lat\", \"start_lon\"]].min())\n",
    "print(dataFrame[dataFrame[\"start_station\"] == 4215][[\"start_lat\", \"start_lon\"]].max())"
   ]
  },
  {
   "cell_type": "code",
   "execution_count": 105,
   "metadata": {},
   "outputs": [
    {
     "name": "stdout",
     "output_type": "stream",
     "text": [
      "start_lat     34.014309\n",
      "start_lon   -118.491341\n",
      "dtype: float64\n",
      "start_lat     34.014309\n",
      "start_lon   -118.491341\n",
      "dtype: float64\n"
     ]
    }
   ],
   "source": [
    "print(dataFrame[dataFrame[\"start_station\"] == 4344][[\"start_lat\", \"start_lon\"]].min())\n",
    "print(dataFrame[dataFrame[\"start_station\"] == 4344][[\"start_lat\", \"start_lon\"]].max())"
   ]
  },
  {
   "cell_type": "code",
   "execution_count": null,
   "metadata": {},
   "outputs": [],
   "source": []
  }
 ],
 "metadata": {
  "kernelspec": {
   "display_name": "Python 3",
   "language": "python",
   "name": "python3"
  },
  "language_info": {
   "codemirror_mode": {
    "name": "ipython",
    "version": 3
   },
   "file_extension": ".py",
   "mimetype": "text/x-python",
   "name": "python",
   "nbconvert_exporter": "python",
   "pygments_lexer": "ipython3",
   "version": "3.8.5"
  }
 },
 "nbformat": 4,
 "nbformat_minor": 4
}
