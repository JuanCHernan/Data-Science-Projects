{
 "cells": [
  {
   "cell_type": "markdown",
   "metadata": {},
   "source": [
    "# Prueba Técnica Arkon"
   ]
  },
  {
   "cell_type": "markdown",
   "metadata": {},
   "source": [
    "Autor: Juan Carlos Hernández Rangel<br>\n",
    "Desarrollo: 30-noviembre-2022"
   ]
  },
  {
   "cell_type": "markdown",
   "metadata": {},
   "source": [
    "## Problema"
   ]
  },
  {
   "cell_type": "markdown",
   "metadata": {},
   "source": [
    "En Los Ángeles existe un sistema compartido de bicicletas que brinda datos anónimos acerca\n",
    "del uso del servicio. La tabla que se proporciona contiene el histórico de viajes que se han\n",
    "realizado desde 2016 y contiene una columna que es de particular interés y que se buscará\n",
    "analizar a más profundidad: Passholder_type. "
   ]
  },
  {
   "cell_type": "markdown",
   "metadata": {},
   "source": [
    "## Metodología"
   ]
  },
  {
   "cell_type": "markdown",
   "metadata": {},
   "source": [
    "### Importar librerías"
   ]
  },
  {
   "cell_type": "code",
   "execution_count": 18,
   "metadata": {},
   "outputs": [],
   "source": [
    "import os\n",
    "import numpy as np\n",
    "import pandas as pd\n",
    "import matplotlib.pyplot as plt\n",
    "import seaborn as sns\n",
    "import statsmodels.api as sm\n",
    "import yaml\n",
    "import joblib\n",
    "\n",
    "from feature_engine import transformation as vt\n",
    "from scipy.stats import zscore\n",
    "from scipy.stats import skew, kurtosis\n",
    "\n",
    "from sklearn.ensemble import RandomForestClassifier, AdaBoostClassifier\n",
    "from sklearn.metrics import classification_report, confusion_matrix, f1_score\n",
    "from sklearn.model_selection import train_test_split, KFold\n",
    "from sklearn.neighbors import KNeighborsClassifier\n",
    "from sklearn.neural_network import MLPClassifier\n",
    "from sklearn.linear_model import LogisticRegression\n",
    "from sklearn.tree import DecisionTreeClassifier\n",
    "\n",
    "from xgboost import XGBClassifier"
   ]
  },
  {
   "cell_type": "markdown",
   "metadata": {},
   "source": [
    "### Importar conjunto de datos"
   ]
  },
  {
   "cell_type": "code",
   "execution_count": 6,
   "metadata": {},
   "outputs": [],
   "source": [
    "path_entrenamiento = '../Data/Train_Data_Clean.csv'\n",
    "dataFrame = pd.read_csv(path_entrenamiento, low_memory=False)"
   ]
  },
  {
   "cell_type": "code",
   "execution_count": 7,
   "metadata": {},
   "outputs": [],
   "source": [
    "with open(r'../Modelo/config.yml') as file:\n",
    "    val = yaml.load(file, Loader=yaml.FullLoader)"
   ]
  },
  {
   "cell_type": "markdown",
   "metadata": {},
   "source": [
    "### Elección de Modelos"
   ]
  },
  {
   "cell_type": "code",
   "execution_count": 8,
   "metadata": {},
   "outputs": [],
   "source": [
    "X = dataFrame.drop(val[\"variable_dependiente\"], axis=1)\n",
    "y = dataFrame[val[\"variable_dependiente\"]]"
   ]
  },
  {
   "cell_type": "code",
   "execution_count": 9,
   "metadata": {},
   "outputs": [],
   "source": [
    "X_train, X_test, y_train, y_test = train_test_split(X, y, test_size=0.2, shuffle=True)"
   ]
  },
  {
   "cell_type": "markdown",
   "metadata": {},
   "source": [
    "#### Decision Tree"
   ]
  },
  {
   "cell_type": "code",
   "execution_count": 10,
   "metadata": {},
   "outputs": [
    {
     "name": "stdout",
     "output_type": "stream",
     "text": [
      "              precision    recall  f1-score   support\n",
      "\n",
      "           0       0.59      0.60      0.60     41030\n",
      "           1       0.76      0.74      0.75     77456\n",
      "           2       0.29      0.32      0.30      7793\n",
      "           3       0.40      0.42      0.41      6531\n",
      "           4       0.17      0.19      0.18      2339\n",
      "\n",
      "    accuracy                           0.65    135149\n",
      "   macro avg       0.44      0.45      0.45    135149\n",
      "weighted avg       0.66      0.65      0.65    135149\n",
      "\n"
     ]
    }
   ],
   "source": [
    "modelo_DT = DecisionTreeClassifier()\n",
    "modelo_DT.fit(X_train, y_train)\n",
    "pred_DT = modelo_DT.predict(X_test)\n",
    "print(classification_report(y_test, pred_DT))"
   ]
  },
  {
   "cell_type": "markdown",
   "metadata": {},
   "source": [
    "#### K-Nearest Neighbors"
   ]
  },
  {
   "cell_type": "code",
   "execution_count": 11,
   "metadata": {},
   "outputs": [
    {
     "name": "stdout",
     "output_type": "stream",
     "text": [
      "              precision    recall  f1-score   support\n",
      "\n",
      "           0       0.53      0.51      0.52     41030\n",
      "           1       0.67      0.81      0.73     77456\n",
      "           2       0.27      0.05      0.08      7793\n",
      "           3       0.18      0.03      0.05      6531\n",
      "           4       0.08      0.00      0.01      2339\n",
      "\n",
      "    accuracy                           0.62    135149\n",
      "   macro avg       0.34      0.28      0.28    135149\n",
      "weighted avg       0.57      0.62      0.58    135149\n",
      "\n"
     ]
    }
   ],
   "source": [
    "modelo_KNN = KNeighborsClassifier()\n",
    "modelo_KNN.fit(X_train, y_train)\n",
    "pred_KNN = modelo_KNN.predict(X_test)\n",
    "print(classification_report(y_test, pred_KNN))"
   ]
  },
  {
   "cell_type": "markdown",
   "metadata": {},
   "source": [
    "#### Random Forest"
   ]
  },
  {
   "cell_type": "code",
   "execution_count": 12,
   "metadata": {},
   "outputs": [
    {
     "name": "stdout",
     "output_type": "stream",
     "text": [
      "              precision    recall  f1-score   support\n",
      "\n",
      "           0       0.73      0.67      0.70     41030\n",
      "           1       0.77      0.91      0.84     77456\n",
      "           2       0.69      0.25      0.37      7793\n",
      "           3       0.81      0.32      0.46      6531\n",
      "           4       0.74      0.11      0.18      2339\n",
      "\n",
      "    accuracy                           0.76    135149\n",
      "   macro avg       0.75      0.45      0.51    135149\n",
      "weighted avg       0.75      0.76      0.74    135149\n",
      "\n"
     ]
    }
   ],
   "source": [
    "modelo_RF = RandomForestClassifier()\n",
    "modelo_RF.fit(X_train, y_train)\n",
    "pred_RF = modelo_RF.predict(X_test)\n",
    "print(classification_report(y_test, pred_RF))"
   ]
  },
  {
   "cell_type": "markdown",
   "metadata": {},
   "source": [
    "#### Ada Boost"
   ]
  },
  {
   "cell_type": "code",
   "execution_count": 19,
   "metadata": {},
   "outputs": [
    {
     "name": "stdout",
     "output_type": "stream",
     "text": [
      "              precision    recall  f1-score   support\n",
      "\n",
      "           0       0.63      0.51      0.56     41030\n",
      "           1       0.70      0.71      0.71     77456\n",
      "           2       0.33      0.00      0.00      7793\n",
      "           3       0.11      0.27      0.16      6531\n",
      "           4       0.06      0.18      0.09      2339\n",
      "\n",
      "    accuracy                           0.58    135149\n",
      "   macro avg       0.37      0.34      0.30    135149\n",
      "weighted avg       0.62      0.58      0.59    135149\n",
      "\n"
     ]
    }
   ],
   "source": [
    "modelo_AB = AdaBoostClassifier()\n",
    "modelo_AB.fit(X_train, y_train)\n",
    "pred_AB = modelo_AB.predict(X_test)\n",
    "print(classification_report(y_test, pred_AB))"
   ]
  },
  {
   "cell_type": "markdown",
   "metadata": {},
   "source": [
    "#### XGBClassifier"
   ]
  },
  {
   "cell_type": "code",
   "execution_count": 14,
   "metadata": {},
   "outputs": [
    {
     "name": "stderr",
     "output_type": "stream",
     "text": [
      "/Users/juanhernandez/opt/anaconda3/lib/python3.8/site-packages/xgboost/sklearn.py:888: UserWarning: The use of label encoder in XGBClassifier is deprecated and will be removed in a future release. To remove this warning, do the following: 1) Pass option use_label_encoder=False when constructing XGBClassifier object; and 2) Encode your labels (y) as integers starting with 0, i.e. 0, 1, 2, ..., [num_class - 1].\n",
      "  warnings.warn(label_encoder_deprecation_msg, UserWarning)\n"
     ]
    },
    {
     "name": "stdout",
     "output_type": "stream",
     "text": [
      "[22:39:08] WARNING: /opt/concourse/worker/volumes/live/7a2b9f41-3287-451b-6691-43e9a6c0910f/volume/xgboost-split_1619728204606/work/src/learner.cc:1061: Starting in XGBoost 1.3.0, the default evaluation metric used with the objective 'multi:softprob' was changed from 'merror' to 'mlogloss'. Explicitly set eval_metric if you'd like to restore the old behavior.\n",
      "              precision    recall  f1-score   support\n",
      "\n",
      "           0       0.69      0.60      0.64     41030\n",
      "           1       0.73      0.91      0.81     77456\n",
      "           2       0.49      0.06      0.11      7793\n",
      "           3       0.74      0.17      0.27      6531\n",
      "           4       0.78      0.02      0.04      2339\n",
      "\n",
      "    accuracy                           0.72    135149\n",
      "   macro avg       0.69      0.35      0.38    135149\n",
      "weighted avg       0.71      0.72      0.68    135149\n",
      "\n"
     ]
    }
   ],
   "source": [
    "modelo_XGB = XGBClassifier(objective='multi:softmax')\n",
    "modelo_XGB.fit(X_train, y_train)\n",
    "pred_XGB = modelo_XGB.predict(X_test)\n",
    "print(classification_report(y_test, pred_XGB))"
   ]
  },
  {
   "cell_type": "markdown",
   "metadata": {},
   "source": [
    "#### Comparaciones"
   ]
  },
  {
   "cell_type": "code",
   "execution_count": 20,
   "metadata": {},
   "outputs": [
    {
     "data": {
      "text/plain": [
       "['../Modelo/modelo_random_forest.joblib']"
      ]
     },
     "execution_count": 20,
     "metadata": {},
     "output_type": "execute_result"
    }
   ],
   "source": [
    "joblib.dump(modelo_RF, '../Modelo/modelo_random_forest.joblib') "
   ]
  },
  {
   "cell_type": "code",
   "execution_count": null,
   "metadata": {},
   "outputs": [],
   "source": []
  }
 ],
 "metadata": {
  "kernelspec": {
   "display_name": "Python 3",
   "language": "python",
   "name": "python3"
  },
  "language_info": {
   "codemirror_mode": {
    "name": "ipython",
    "version": 3
   },
   "file_extension": ".py",
   "mimetype": "text/x-python",
   "name": "python",
   "nbconvert_exporter": "python",
   "pygments_lexer": "ipython3",
   "version": "3.8.5"
  }
 },
 "nbformat": 4,
 "nbformat_minor": 4
}
