{
 "cells": [
  {
   "cell_type": "markdown",
   "metadata": {},
   "source": [
    "### Import libraries"
   ]
  },
  {
   "cell_type": "code",
   "execution_count": 1,
   "metadata": {},
   "outputs": [],
   "source": [
    "import os\n",
    "import yaml\n",
    "import pandas as pd\n",
    "import numpy as np\n",
    "import matplotlib.pyplot as plt\n",
    "import seaborn as sns\n",
    "\n",
    "from scipy.stats import probplot, norm\n",
    "from feature_engine import transformation as vt\n",
    "from sklearn.preprocessing import OneHotEncoder, StandardScaler"
   ]
  },
  {
   "cell_type": "markdown",
   "metadata": {},
   "source": [
    "### Import data"
   ]
  },
  {
   "cell_type": "code",
   "execution_count": 2,
   "metadata": {},
   "outputs": [],
   "source": [
    "with open(r'config.yml') as file:\n",
    "    val = yaml.load(file, Loader=yaml.FullLoader)"
   ]
  },
  {
   "cell_type": "code",
   "execution_count": 3,
   "metadata": {},
   "outputs": [],
   "source": [
    "data = pd.read_csv('BankChurners.csv')\n",
    "data = data.drop(val[\"remove_variables\"], axis=1)"
   ]
  },
  {
   "cell_type": "markdown",
   "metadata": {},
   "source": [
    "### Yeo Johnson Transformation"
   ]
  },
  {
   "cell_type": "markdown",
   "metadata": {},
   "source": [
    "I have decided to use the Yeo Johnson transformation. One of the reasons is that two of these variables contain 0, and with that limitation we cannot use the Log and Box Cox Transformation."
   ]
  },
  {
   "cell_type": "code",
   "execution_count": 4,
   "metadata": {},
   "outputs": [],
   "source": [
    "tf_YJ = vt.YeoJohnsonTransformer(variables=[\n",
    "                                    \"Credit_Limit\", \"Total_Revolving_Bal\", \n",
    "                                    \"Avg_Open_To_Buy\", \"Avg_Utilization_Ratio\"])\n",
    "data_transformed = tf_YJ.fit_transform(data)"
   ]
  },
  {
   "cell_type": "code",
   "execution_count": 5,
   "metadata": {},
   "outputs": [
    {
     "data": {
      "image/png": "[encoded data removed]",
      "text/plain": [
       "<Figure size 936x504 with 4 Axes>"
      ]
     },
     "metadata": {
      "needs_background": "light"
     },
     "output_type": "display_data"
    }
   ],
   "source": [
    "fig, axes = plt.subplots(2, 2, figsize=(13, 7), tight_layout=True)\n",
    "axes_flatten = axes.flatten()\n",
    "\n",
    "sns.histplot(data_transformed[\"Credit_Limit\"], color='red', stat='probability', ax=axes_flatten[0])\n",
    "sns.histplot(data_transformed[\"Total_Revolving_Bal\"], color='red', stat='probability', ax=axes_flatten[1])\n",
    "sns.histplot(data_transformed[\"Avg_Open_To_Buy\"], color='red', stat='probability', ax=axes_flatten[2])\n",
    "sns.histplot(data_transformed[\"Avg_Utilization_Ratio\"], color='red', stat='probability', ax=axes_flatten[3])\n",
    "\n",
    "axes_flatten[0].set_title(\"Credit_Limit\", size=15)\n",
    "axes_flatten[1].set_title(\"Total_Revolving_Bal\", size=15)\n",
    "axes_flatten[2].set_title(\"Avg_Open_To_Buy\", size=15)\n",
    "axes_flatten[3].set_title(\"Avg_Utilization_Ratio\", size=15)\n",
    "\n",
    "axes_flatten[0].set_xlabel(None)\n",
    "axes_flatten[1].set_xlabel(None)\n",
    "axes_flatten[2].set_xlabel(None)\n",
    "axes_flatten[3].set_xlabel(None);"
   ]
  },
  {
   "cell_type": "markdown",
   "metadata": {},
   "source": [
    "### Mapping Categorical Variables"
   ]
  },
  {
   "cell_type": "markdown",
   "metadata": {},
   "source": [
    "#### Mapping Education Level"
   ]
  },
  {
   "cell_type": "code",
   "execution_count": 6,
   "metadata": {},
   "outputs": [],
   "source": [
    "mapping_EL = {\n",
    "    'Unknown':0,\n",
    "    'Uneducated':1,\n",
    "    'High School':2,\n",
    "    'College':3,\n",
    "    'Graduate':4, \n",
    "    'Post-Graduate':5,\n",
    "    'Doctorate':6\n",
    "}\n",
    "\n",
    "data[\"Education_Level\"] = data[\"Education_Level\"].map(mapping_EL)"
   ]
  },
  {
   "cell_type": "markdown",
   "metadata": {},
   "source": [
    "#### Mapping Income Category"
   ]
  },
  {
   "cell_type": "code",
   "execution_count": 7,
   "metadata": {},
   "outputs": [],
   "source": [
    "mapping_IC = {\n",
    "    'Unknown':0,\n",
    "    'Less than $40K': 1,\n",
    "    '$40K - $60K': 2,\n",
    "    '$60K - $80K': 3,\n",
    "    '$80K - $120K': 4,\n",
    "    '$120K +': 5\n",
    "}\n",
    "\n",
    "data[\"Income_Category\"] = data[\"Income_Category\"].map(mapping_IC)"
   ]
  },
  {
   "cell_type": "markdown",
   "metadata": {},
   "source": [
    "#### Mapping Card Category"
   ]
  },
  {
   "cell_type": "code",
   "execution_count": 8,
   "metadata": {},
   "outputs": [],
   "source": [
    "mapping_CC = {\n",
    "    'Blue': 0,\n",
    "    'Silver': 1,\n",
    "    'Gold': 1,\n",
    "    'Platinum': 1\n",
    "}\n",
    "\n",
    "data[\"Card_Category\"] = data[\"Card_Category\"].map(mapping_CC)"
   ]
  },
  {
   "cell_type": "markdown",
   "metadata": {},
   "source": [
    "#### Mapping Gender"
   ]
  },
  {
   "cell_type": "code",
   "execution_count": 9,
   "metadata": {},
   "outputs": [],
   "source": [
    "mapping_G = {\n",
    "    'M':0,\n",
    "    'F':1\n",
    "}\n",
    "\n",
    "data[\"Gender\"] = data[\"Gender\"].map(mapping_G)"
   ]
  },
  {
   "cell_type": "markdown",
   "metadata": {},
   "source": [
    "#### Mapping Attrition Flag"
   ]
  },
  {
   "cell_type": "code",
   "execution_count": 10,
   "metadata": {},
   "outputs": [],
   "source": [
    "mapping_AF = {\n",
    "    'Existing Customer': 0,\n",
    "    'Attrited Customer': 1\n",
    "}\n",
    "\n",
    "data[\"Attrition_Flag\"] = data[\"Attrition_Flag\"].map(mapping_AF)"
   ]
  },
  {
   "cell_type": "markdown",
   "metadata": {},
   "source": [
    "### Dummy Variables"
   ]
  },
  {
   "cell_type": "code",
   "execution_count": 11,
   "metadata": {},
   "outputs": [],
   "source": [
    "enc = OneHotEncoder(drop='first')\n",
    "marital_onehot = enc.fit_transform(data[[\"Marital_Status\"]]).toarray()\n",
    "data[enc.categories_[0][1:]] = marital_onehot\n",
    "data.drop(\"Marital_Status\", axis=1, inplace=True)"
   ]
  },
  {
   "cell_type": "markdown",
   "metadata": {},
   "source": [
    "### Scaling Variables"
   ]
  },
  {
   "cell_type": "code",
   "execution_count": 12,
   "metadata": {},
   "outputs": [],
   "source": [
    "columns = data.drop(\"Attrition_Flag\", axis=1).columns\n",
    "scaling = StandardScaler()\n",
    "data[columns] = scaling.fit_transform(data.drop(\"Attrition_Flag\", axis=1))"
   ]
  },
  {
   "cell_type": "code",
   "execution_count": 13,
   "metadata": {},
   "outputs": [],
   "source": [
    "data.to_csv(\"BankChurners_Trans.csv\", index=False)"
   ]
  }
 ],
 "metadata": {
  "kernelspec": {
   "display_name": "Python 3",
   "language": "python",
   "name": "python3"
  },
  "language_info": {
   "codemirror_mode": {
    "name": "ipython",
    "version": 3
   },
   "file_extension": ".py",
   "mimetype": "text/x-python",
   "name": "python",
   "nbconvert_exporter": "python",
   "pygments_lexer": "ipython3",
   "version": "3.8.5"
  }
 },
 "nbformat": 4,
 "nbformat_minor": 4
}
