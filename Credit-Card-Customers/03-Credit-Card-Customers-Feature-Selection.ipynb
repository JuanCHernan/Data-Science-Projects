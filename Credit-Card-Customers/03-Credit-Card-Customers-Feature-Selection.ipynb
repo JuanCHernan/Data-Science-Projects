{
 "cells": [
  {
   "cell_type": "markdown",
   "metadata": {},
   "source": [
    "### Import libraries"
   ]
  },
  {
   "cell_type": "code",
   "execution_count": 1,
   "metadata": {},
   "outputs": [],
   "source": [
    "import os\n",
    "import yaml\n",
    "import numpy as np\n",
    "import pandas as pd\n",
    "import matplotlib.pyplot as plt\n",
    "import seaborn as sns\n",
    "import statsmodels.api as sm\n",
    "\n",
    "from sklearn.model_selection import StratifiedShuffleSplit, StratifiedKFold\n",
    "from sklearn.linear_model import LogisticRegression\n",
    "from sklearn.ensemble import RandomForestClassifier\n",
    "from sklearn.metrics import f1_score, classification_report"
   ]
  },
  {
   "cell_type": "markdown",
   "metadata": {},
   "source": [
    "### Import data"
   ]
  },
  {
   "cell_type": "code",
   "execution_count": 2,
   "metadata": {},
   "outputs": [],
   "source": [
    "with open(r'config.yml') as file:\n",
    "    val = yaml.load(file, Loader=yaml.FullLoader)"
   ]
  },
  {
   "cell_type": "code",
   "execution_count": 3,
   "metadata": {},
   "outputs": [],
   "source": [
    "data = pd.read_csv(\"BankChurners_Trans.csv\")"
   ]
  },
  {
   "cell_type": "markdown",
   "metadata": {},
   "source": [
    "### Feature Selection"
   ]
  },
  {
   "cell_type": "markdown",
   "metadata": {},
   "source": [
    "#### Highly Correlated variables"
   ]
  },
  {
   "cell_type": "code",
   "execution_count": 4,
   "metadata": {},
   "outputs": [],
   "source": [
    "numerical_data = data[val['numerical_variables']]"
   ]
  },
  {
   "cell_type": "code",
   "execution_count": 5,
   "metadata": {},
   "outputs": [
    {
     "name": "stdout",
     "output_type": "stream",
     "text": [
      "Customer_Age Months_on_book 0.7889123589930555\n",
      "Credit_Limit Avg_Open_To_Buy 0.9959805439320076\n",
      "Total_Trans_Amt Total_Trans_Ct 0.8071920346514353\n"
     ]
    }
   ],
   "source": [
    "columns = numerical_data.columns\n",
    "correlation = numerical_data.corr().values\n",
    "for i in range(len(columns)):\n",
    "    for j in range(i+1, len(columns)):\n",
    "        if abs(correlation[i, j]) >= 0.7:\n",
    "            print(columns[i], columns[j], correlation[i, j])"
   ]
  },
  {
   "cell_type": "code",
   "execution_count": 6,
   "metadata": {},
   "outputs": [],
   "source": [
    "correlated_variables = [\"Months_on_book\", \"Avg_Open_To_Buy\", \"Total_Trans_Ct\"]"
   ]
  },
  {
   "cell_type": "code",
   "execution_count": 7,
   "metadata": {},
   "outputs": [],
   "source": [
    "data_1 = data.drop(correlated_variables, axis=1)"
   ]
  },
  {
   "cell_type": "code",
   "execution_count": 8,
   "metadata": {},
   "outputs": [],
   "source": [
    "x_data = data_1.drop(\"Attrition_Flag\", axis=1)\n",
    "y_data = data_1[\"Attrition_Flag\"]"
   ]
  },
  {
   "cell_type": "code",
   "execution_count": 9,
   "metadata": {},
   "outputs": [],
   "source": [
    "columnas = data_1.drop(\"Attrition_Flag\", axis=1).columns"
   ]
  },
  {
   "cell_type": "markdown",
   "metadata": {},
   "source": [
    "#### Logistic Regression"
   ]
  },
  {
   "cell_type": "code",
   "execution_count": 10,
   "metadata": {},
   "outputs": [
    {
     "name": "stdout",
     "output_type": "stream",
     "text": [
      "Optimization terminated successfully.\n",
      "         Current function value: 0.306244\n",
      "         Iterations 7\n",
      "Columna Eliminada: Customer_Age, P-Valor: 0.927989287621355\n",
      "------------------------------\n"
     ]
    },
    {
     "name": "stderr",
     "output_type": "stream",
     "text": [
      "/Users/juanhernandez/opt/anaconda3/lib/python3.8/site-packages/statsmodels/tsa/tsatools.py:142: FutureWarning: In a future version of pandas all arguments of concat except for the argument 'objs' will be keyword-only\n",
      "  x = pd.concat(x[::order], 1)\n",
      "/Users/juanhernandez/opt/anaconda3/lib/python3.8/site-packages/statsmodels/tsa/tsatools.py:142: FutureWarning: In a future version of pandas all arguments of concat except for the argument 'objs' will be keyword-only\n",
      "  x = pd.concat(x[::order], 1)\n"
     ]
    },
    {
     "name": "stdout",
     "output_type": "stream",
     "text": [
      "Optimization terminated successfully.\n",
      "         Current function value: 0.306244\n",
      "         Iterations 7\n",
      "Columna Eliminada: Total_Amt_Chng_Q4_Q1, P-Valor: 0.8422147818101591\n",
      "------------------------------\n",
      "Optimization terminated successfully.\n",
      "         Current function value: 0.306246\n",
      "         Iterations 7\n",
      "Columna Eliminada: Education_Level, P-Valor: 0.7250876719296852\n",
      "------------------------------\n",
      "Optimization terminated successfully.\n",
      "         Current function value: 0.306252\n",
      "         Iterations 7\n",
      "Columna Eliminada: Single, P-Valor: 0.62624496699853\n",
      "------------------------------\n",
      "Optimization terminated successfully.\n",
      "         Current function value: 0.306264\n",
      "         Iterations 7\n",
      "Columna Eliminada: Unknown, P-Valor: 0.33791250044558974\n",
      "------------------------------\n",
      "Optimization terminated successfully.\n",
      "         Current function value: 0.306309\n",
      "         Iterations 7\n"
     ]
    },
    {
     "name": "stderr",
     "output_type": "stream",
     "text": [
      "/Users/juanhernandez/opt/anaconda3/lib/python3.8/site-packages/statsmodels/tsa/tsatools.py:142: FutureWarning: In a future version of pandas all arguments of concat except for the argument 'objs' will be keyword-only\n",
      "  x = pd.concat(x[::order], 1)\n",
      "/Users/juanhernandez/opt/anaconda3/lib/python3.8/site-packages/statsmodels/tsa/tsatools.py:142: FutureWarning: In a future version of pandas all arguments of concat except for the argument 'objs' will be keyword-only\n",
      "  x = pd.concat(x[::order], 1)\n",
      "/Users/juanhernandez/opt/anaconda3/lib/python3.8/site-packages/statsmodels/tsa/tsatools.py:142: FutureWarning: In a future version of pandas all arguments of concat except for the argument 'objs' will be keyword-only\n",
      "  x = pd.concat(x[::order], 1)\n",
      "/Users/juanhernandez/opt/anaconda3/lib/python3.8/site-packages/statsmodels/tsa/tsatools.py:142: FutureWarning: In a future version of pandas all arguments of concat except for the argument 'objs' will be keyword-only\n",
      "  x = pd.concat(x[::order], 1)\n"
     ]
    }
   ],
   "source": [
    "x_data_cop = x_data.copy()\n",
    "columnas_no_significativas = []\n",
    "while True:\n",
    "    log_reg = sm.Logit(y_data, sm.add_constant(x_data_cop)).fit()\n",
    "    p_valores = log_reg.pvalues\n",
    "    max_p_valores = p_valores.max()\n",
    "    max_indice = p_valores.argmax()\n",
    "    max_columna = p_valores.index[max_indice]\n",
    "    if max_p_valores > 0.05:\n",
    "        print(f\"Columna Eliminada: {max_columna}, P-Valor: {max_p_valores}\")\n",
    "        columnas_no_significativas.append(max_columna)\n",
    "        x_data_cop.drop([max_columna], axis=1, inplace=True)\n",
    "        print('--'*15)\n",
    "    else:\n",
    "        break"
   ]
  },
  {
   "cell_type": "code",
   "execution_count": 11,
   "metadata": {},
   "outputs": [
    {
     "data": {
      "text/plain": [
       "['Customer_Age',\n",
       " 'Total_Amt_Chng_Q4_Q1',\n",
       " 'Education_Level',\n",
       " 'Single',\n",
       " 'Unknown']"
      ]
     },
     "execution_count": 11,
     "metadata": {},
     "output_type": "execute_result"
    }
   ],
   "source": [
    "columnas_no_significativas"
   ]
  },
  {
   "cell_type": "code",
   "execution_count": 12,
   "metadata": {},
   "outputs": [
    {
     "name": "stdout",
     "output_type": "stream",
     "text": [
      "                           Logit Regression Results                           \n",
      "==============================================================================\n",
      "Dep. Variable:         Attrition_Flag   No. Observations:                10127\n",
      "Model:                          Logit   Df Residuals:                    10113\n",
      "Method:                           MLE   Df Model:                           13\n",
      "Date:                Sat, 10 Dec 2022   Pseudo R-squ.:                  0.3050\n",
      "Time:                        12:24:33   Log-Likelihood:                -3102.0\n",
      "converged:                       True   LL-Null:                       -4463.6\n",
      "Covariance Type:            nonrobust   LLR p-value:                     0.000\n",
      "============================================================================================\n",
      "                               coef    std err          z      P>|z|      [0.025      0.975]\n",
      "--------------------------------------------------------------------------------------------\n",
      "const                       -2.4388      0.045    -54.420      0.000      -2.527      -2.351\n",
      "Gender                       0.2753      0.055      5.005      0.000       0.167       0.383\n",
      "Dependent_count              0.0927      0.033      2.796      0.005       0.028       0.158\n",
      "Income_Category              0.1878      0.057      3.317      0.001       0.077       0.299\n",
      "Card_Category                0.1243      0.040      3.137      0.002       0.047       0.202\n",
      "Total_Relationship_Count    -0.6809      0.037    -18.572      0.000      -0.753      -0.609\n",
      "Months_Inactive_12_mon       0.4082      0.032     12.682      0.000       0.345       0.471\n",
      "Contacts_Count_12_mon        0.5437      0.035     15.570      0.000       0.475       0.612\n",
      "Credit_Limit                -0.1051      0.051     -2.055      0.040      -0.205      -0.005\n",
      "Total_Revolving_Bal         -0.6085      0.052    -11.640      0.000      -0.711      -0.506\n",
      "Total_Trans_Amt             -0.6933      0.056    -12.405      0.000      -0.803      -0.584\n",
      "Total_Ct_Chng_Q4_Q1         -0.9725      0.045    -21.469      0.000      -1.061      -0.884\n",
      "Avg_Utilization_Ratio       -0.1206      0.059     -2.030      0.042      -0.237      -0.004\n",
      "Married                     -0.0934      0.033     -2.821      0.005      -0.158      -0.028\n",
      "============================================================================================\n"
     ]
    }
   ],
   "source": [
    "print(log_reg.summary())"
   ]
  },
  {
   "cell_type": "markdown",
   "metadata": {},
   "source": [
    "#### Lasso Regression"
   ]
  },
  {
   "cell_type": "code",
   "execution_count": 13,
   "metadata": {},
   "outputs": [],
   "source": [
    "model = LogisticRegression(penalty=\"l1\", solver=\"liblinear\")\n",
    "skf = StratifiedKFold(n_splits=15, shuffle=True)\n",
    "results = []\n",
    "for train_index, test_index in skf.split(x_data, y_data):\n",
    "    X_train, X_test = x_data.loc[train_index], x_data.loc[test_index]\n",
    "    y_train, y_test = y_data[train_index], y_data[test_index]\n",
    "    model.fit(X_train, y_train)\n",
    "    pred = model.predict(X_test)\n",
    "    f1 = f1_score(y_test, pred)\n",
    "    results.append(f1)"
   ]
  },
  {
   "cell_type": "code",
   "execution_count": 14,
   "metadata": {},
   "outputs": [
    {
     "name": "stdout",
     "output_type": "stream",
     "text": [
      "Average F1-Score: 0.55\n"
     ]
    }
   ],
   "source": [
    "print(f'Average F1-Score: {round(np.mean(results), 2)}')"
   ]
  },
  {
   "cell_type": "code",
   "execution_count": 15,
   "metadata": {},
   "outputs": [
    {
     "data": {
      "image/png": "[encoded data removed]",
      "text/plain": [
       "<Figure size 864x360 with 1 Axes>"
      ]
     },
     "metadata": {
      "needs_background": "light"
     },
     "output_type": "display_data"
    }
   ],
   "source": [
    "plt.figure(figsize=(12, 5))\n",
    "sns.barplot(y=x_data.columns, x=model.coef_[0]);"
   ]
  },
  {
   "cell_type": "markdown",
   "metadata": {},
   "source": [
    "#### Trees"
   ]
  },
  {
   "cell_type": "code",
   "execution_count": 16,
   "metadata": {},
   "outputs": [
    {
     "name": "stdout",
     "output_type": "stream",
     "text": [
      "              precision    recall  f1-score   support\n",
      "\n",
      "           0       0.94      0.99      0.97       566\n",
      "           1       0.93      0.69      0.79       109\n",
      "\n",
      "    accuracy                           0.94       675\n",
      "   macro avg       0.93      0.84      0.88       675\n",
      "weighted avg       0.94      0.94      0.94       675\n",
      "\n"
     ]
    }
   ],
   "source": [
    "model = RandomForestClassifier(n_estimators=150)\n",
    "skf = StratifiedKFold(n_splits=15, shuffle=True)\n",
    "results = []\n",
    "for train_index, test_index in skf.split(x_data, y_data):\n",
    "    X_train, X_test = x_data.loc[train_index], x_data.loc[test_index]\n",
    "    y_train, y_test = y_data[train_index], y_data[test_index]\n",
    "    model.fit(X_train, y_train)\n",
    "    pred = model.predict(X_test)\n",
    "    f1 = f1_score(y_test, pred)\n",
    "    results.append(f1)\n",
    "print(classification_report(y_test, pred))"
   ]
  },
  {
   "cell_type": "code",
   "execution_count": 17,
   "metadata": {},
   "outputs": [
    {
     "name": "stdout",
     "output_type": "stream",
     "text": [
      "Average F1-Score: 0.83\n"
     ]
    }
   ],
   "source": [
    "print(f'Average F1-Score: {round(np.mean(results), 2)}')"
   ]
  },
  {
   "cell_type": "code",
   "execution_count": 18,
   "metadata": {},
   "outputs": [
    {
     "data": {
      "image/png": "[encoded data removed]",
      "text/plain": [
       "<Figure size 864x360 with 1 Axes>"
      ]
     },
     "metadata": {
      "needs_background": "light"
     },
     "output_type": "display_data"
    }
   ],
   "source": [
    "mean_feature_importance = model.feature_importances_.mean()\n",
    "palette = ['green' if val > mean_feature_importance else 'red' for val in model.feature_importances_]\n",
    "plt.figure(figsize=(12, 5))\n",
    "sns.barplot(y=x_data.columns, x=model.feature_importances_, palette=palette);"
   ]
  }
 ],
 "metadata": {
  "kernelspec": {
   "display_name": "Python 3",
   "language": "python",
   "name": "python3"
  },
  "language_info": {
   "codemirror_mode": {
    "name": "ipython",
    "version": 3
   },
   "file_extension": ".py",
   "mimetype": "text/x-python",
   "name": "python",
   "nbconvert_exporter": "python",
   "pygments_lexer": "ipython3",
   "version": "3.8.5"
  }
 },
 "nbformat": 4,
 "nbformat_minor": 4
}
